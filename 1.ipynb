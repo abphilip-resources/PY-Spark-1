{
  "cells": [
    {
      "cell_type": "markdown",
      "metadata": {
        "id": "view-in-github",
        "colab_type": "text"
      },
      "source": [
        "<a href=\"https://colab.research.google.com/github/abphilip-resources/PY-Spark-1/blob/master/1.ipynb\" target=\"_parent\"><img src=\"https://colab.research.google.com/assets/colab-badge.svg\" alt=\"Open In Colab\"/></a>"
      ]
    },
    {
      "cell_type": "markdown",
      "source": [
        "# **Exploring Apache Spark : 1**"
      ],
      "metadata": {
        "id": "cfjFQAcTryL_"
      }
    },
    {
      "cell_type": "markdown",
      "source": [
        "## **Dependencies**"
      ],
      "metadata": {
        "id": "nrnW84Ev6TP5"
      }
    },
    {
      "cell_type": "markdown",
      "source": [
        "#### Check existing versions"
      ],
      "metadata": {
        "id": "bWZaYXlVr8is"
      }
    },
    {
      "cell_type": "code",
      "execution_count": 1,
      "metadata": {
        "id": "6rQmQ9eXrwyn",
        "outputId": "c08400aa-b466-4832-a9ce-d234df413c03",
        "colab": {
          "base_uri": "https://localhost:8080/"
        }
      },
      "outputs": [
        {
          "output_type": "stream",
          "name": "stdout",
          "text": [
            "openjdk version \"11.0.16\" 2022-07-19\n",
            "OpenJDK Runtime Environment (build 11.0.16+8-post-Ubuntu-0ubuntu118.04)\n",
            "OpenJDK 64-Bit Server VM (build 11.0.16+8-post-Ubuntu-0ubuntu118.04, mixed mode, sharing)\n"
          ]
        }
      ],
      "source": [
        "!java -version"
      ]
    },
    {
      "cell_type": "code",
      "execution_count": 2,
      "metadata": {
        "id": "3n5yUsQTrwyy",
        "outputId": "f133a025-1e40-4825-f748-51bdec46279a",
        "colab": {
          "base_uri": "https://localhost:8080/"
        }
      },
      "outputs": [
        {
          "output_type": "stream",
          "name": "stdout",
          "text": [
            "Python 3.7.15\n"
          ]
        }
      ],
      "source": [
        "!python --version"
      ]
    },
    {
      "cell_type": "markdown",
      "metadata": {
        "id": "4KMF4Dberwy0"
      },
      "source": [
        "#### Install PySpark\n"
      ]
    },
    {
      "cell_type": "markdown",
      "source": [
        "If you have an old installation of spark which involved setting up environment variables in your .bash_profile, you will need to clear those as they will affect the running of this new pyspark installation."
      ],
      "metadata": {
        "id": "sAUDybHTwKZe"
      }
    },
    {
      "cell_type": "code",
      "execution_count": 3,
      "metadata": {
        "id": "LROH08XPrwy3",
        "outputId": "cc9ef005-26d3-4098-d7ed-4055594407cc",
        "colab": {
          "base_uri": "https://localhost:8080/"
        }
      },
      "outputs": [
        {
          "output_type": "stream",
          "name": "stdout",
          "text": [
            "Looking in indexes: https://pypi.org/simple, https://us-python.pkg.dev/colab-wheels/public/simple/\n",
            "Collecting pyspark\n",
            "  Downloading pyspark-3.3.1.tar.gz (281.4 MB)\n",
            "\u001b[K     |████████████████████████████████| 281.4 MB 39 kB/s \n",
            "\u001b[?25hCollecting py4j==0.10.9.5\n",
            "  Downloading py4j-0.10.9.5-py2.py3-none-any.whl (199 kB)\n",
            "\u001b[K     |████████████████████████████████| 199 kB 40.6 MB/s \n",
            "\u001b[?25hBuilding wheels for collected packages: pyspark\n",
            "  Building wheel for pyspark (setup.py) ... \u001b[?25l\u001b[?25hdone\n",
            "  Created wheel for pyspark: filename=pyspark-3.3.1-py2.py3-none-any.whl size=281845513 sha256=2e1b3a8f7509dcd4f36e2d40afec1293022b6bbe78399d6a9f9d10d1ffed8768\n",
            "  Stored in directory: /root/.cache/pip/wheels/42/59/f5/79a5bf931714dcd201b26025347785f087370a10a3329a899c\n",
            "Successfully built pyspark\n",
            "Installing collected packages: py4j, pyspark\n",
            "Successfully installed py4j-0.10.9.5 pyspark-3.3.1\n"
          ]
        }
      ],
      "source": [
        "!pip install pyspark"
      ]
    },
    {
      "cell_type": "markdown",
      "metadata": {
        "id": "DWN6qDNWrwy5"
      },
      "source": [
        "## **Introduction to RDDs**"
      ]
    },
    {
      "cell_type": "markdown",
      "source": [
        "#### Create Session"
      ],
      "metadata": {
        "id": "4d8VIYWlw1kL"
      }
    },
    {
      "cell_type": "markdown",
      "source": [
        "* Creating RDDs and DataFrames using SparkContext\n",
        "* Interoperability between RDDs and DataFrames\n",
        "* Multiple rows and multiple column specifications for DataFrames\n",
        "* Creating DataFrames using SQLContext\n",
        "* Selecting, editing and renaming columns in dataframes\n",
        "* Interoperability between Pandas and Spark dataframes"
      ],
      "metadata": {
        "id": "VdLvjUmrwPCW"
      }
    },
    {
      "cell_type": "code",
      "execution_count": 4,
      "metadata": {
        "collapsed": true,
        "id": "qPqfd89erwy7"
      },
      "outputs": [],
      "source": [
        "import pyspark"
      ]
    },
    {
      "cell_type": "code",
      "execution_count": 5,
      "metadata": {
        "collapsed": true,
        "id": "CIq2LwHnrwy9"
      },
      "outputs": [],
      "source": [
        "from pyspark import SparkContext\n",
        "from pyspark.sql import SQLContext\n",
        "from pyspark.sql import SparkSession"
      ]
    },
    {
      "cell_type": "code",
      "execution_count": 6,
      "metadata": {
        "id": "Clg2Imjurwy_"
      },
      "outputs": [],
      "source": [
        "sc = SparkContext()\n",
        "spark = SparkSession(sc)"
      ]
    },
    {
      "cell_type": "code",
      "execution_count": 7,
      "metadata": {
        "collapsed": true,
        "id": "hdOPijC9rwzG"
      },
      "outputs": [],
      "source": [
        "from pyspark.sql.types import Row\n",
        "from datetime import datetime"
      ]
    },
    {
      "cell_type": "markdown",
      "metadata": {
        "id": "C8YbfgVDrwzH"
      },
      "source": [
        "#### Creating RDDs using sc.parallelize()"
      ]
    },
    {
      "cell_type": "markdown",
      "source": [
        "We effectively create one row of data storing information about a car in a dealership:\n",
        "* the first element is the index \n",
        "* the second element is the name of the car\n",
        "* thirdly, we store the quantity of cars in our inventory"
      ],
      "metadata": {
        "id": "pwFkCtE7tj0G"
      }
    },
    {
      "cell_type": "code",
      "execution_count": 8,
      "metadata": {
        "id": "c10lJp_1rwzJ",
        "outputId": "32b14a00-592a-4c3c-e661-8337fdd35fd9",
        "colab": {
          "base_uri": "https://localhost:8080/"
        }
      },
      "outputs": [
        {
          "output_type": "execute_result",
          "data": {
            "text/plain": [
              "ParallelCollectionRDD[0] at readRDDFromFile at PythonRDD.scala:274"
            ]
          },
          "metadata": {},
          "execution_count": 8
        }
      ],
      "source": [
        "simple_data = sc.parallelize([1, \"Nissan Versa\", 12])\n",
        "simple_data"
      ]
    },
    {
      "cell_type": "markdown",
      "metadata": {
        "id": "NaCTj2OgrwzK"
      },
      "source": [
        "#### The count() function"
      ]
    },
    {
      "cell_type": "markdown",
      "source": [
        "This returns the number of elements in the RDD. Each element in the list is now an element of the RDD"
      ],
      "metadata": {
        "id": "GbpGDShntmJs"
      }
    },
    {
      "cell_type": "code",
      "execution_count": 9,
      "metadata": {
        "id": "cnvq78POrwzL",
        "outputId": "7b9132e7-92d3-4e3b-a7f5-7eef34beaae9",
        "colab": {
          "base_uri": "https://localhost:8080/"
        }
      },
      "outputs": [
        {
          "output_type": "execute_result",
          "data": {
            "text/plain": [
              "3"
            ]
          },
          "metadata": {},
          "execution_count": 9
        }
      ],
      "source": [
        "simple_data.count()"
      ]
    },
    {
      "cell_type": "markdown",
      "metadata": {
        "id": "ENo4cCUZrwzM"
      },
      "source": [
        "#### The first() function"
      ]
    },
    {
      "cell_type": "markdown",
      "source": [
        "This returns the first element of the RDD"
      ],
      "metadata": {
        "id": "aMHPB6ZOtp0T"
      }
    },
    {
      "cell_type": "code",
      "execution_count": 10,
      "metadata": {
        "id": "TNdnYZBOrwzM",
        "outputId": "a35b240b-56fe-4fac-81f4-5b130f34f6bf",
        "colab": {
          "base_uri": "https://localhost:8080/"
        }
      },
      "outputs": [
        {
          "output_type": "execute_result",
          "data": {
            "text/plain": [
              "1"
            ]
          },
          "metadata": {},
          "execution_count": 10
        }
      ],
      "source": [
        "simple_data.first()"
      ]
    },
    {
      "cell_type": "markdown",
      "metadata": {
        "id": "AG9PdioUrwzN"
      },
      "source": [
        "#### The take() function"
      ]
    },
    {
      "cell_type": "markdown",
      "source": [
        "This will return the first n elements of the RDD where n is the argument passed to the function"
      ],
      "metadata": {
        "id": "4-0ZNgFytu3W"
      }
    },
    {
      "cell_type": "code",
      "execution_count": 11,
      "metadata": {
        "id": "_r1xq6RGrwzO",
        "outputId": "47152f74-b372-4608-8e99-95b2f51eed15",
        "colab": {
          "base_uri": "https://localhost:8080/"
        }
      },
      "outputs": [
        {
          "output_type": "execute_result",
          "data": {
            "text/plain": [
              "[1, 'Nissan Versa']"
            ]
          },
          "metadata": {},
          "execution_count": 11
        }
      ],
      "source": [
        "simple_data.take(2)"
      ]
    },
    {
      "cell_type": "markdown",
      "metadata": {
        "id": "bBzr-PmurwzO"
      },
      "source": [
        "#### The collect() function"
      ]
    },
    {
      "cell_type": "markdown",
      "source": [
        "Returns a list containing all the elements in the RDD. We get a 1D list with the 3 elements"
      ],
      "metadata": {
        "id": "fnVxNZvdwrHE"
      }
    },
    {
      "cell_type": "code",
      "execution_count": 12,
      "metadata": {
        "id": "uJPoHhlJrwzP",
        "outputId": "c0c473a4-5453-4d98-cc37-3e0342a01de5",
        "colab": {
          "base_uri": "https://localhost:8080/"
        }
      },
      "outputs": [
        {
          "output_type": "execute_result",
          "data": {
            "text/plain": [
              "[1, 'Nissan Versa', 12]"
            ]
          },
          "metadata": {},
          "execution_count": 12
        }
      ],
      "source": [
        "simple_data.collect()"
      ]
    },
    {
      "cell_type": "markdown",
      "metadata": {
        "id": "Esgp8FiCrwzQ"
      },
      "source": [
        "#### Convert the RDD to a DataFrame"
      ]
    },
    {
      "cell_type": "markdown",
      "source": [
        "Converting the current RDD to a DataFrame results in an error as it's 1-dimensional\n",
        "\n",
        "* This RDD does not have \"columns\", it cannot be represented as a tabular data frame\n",
        "* DataFrames are structured datasets"
      ],
      "metadata": {
        "id": "98BTpdWmwvXn"
      }
    },
    {
      "cell_type": "code",
      "execution_count": 13,
      "metadata": {
        "id": "fawbdzYIrwzQ",
        "outputId": "1f600529-c6a3-45c8-e5c6-da2c6bb950de",
        "colab": {
          "base_uri": "https://localhost:8080/"
        }
      },
      "outputs": [
        {
          "output_type": "stream",
          "name": "stdout",
          "text": [
            "+----+\n",
            "|  _1|\n",
            "+----+\n",
            "|   1|\n",
            "|null|\n",
            "|  12|\n",
            "+----+\n",
            "\n"
          ]
        }
      ],
      "source": [
        "df = simple_data.map(lambda x: (x, )).toDF()\n",
        "df.show()"
      ]
    },
    {
      "cell_type": "markdown",
      "source": [
        "## **Managing Records with RDDs**"
      ],
      "metadata": {
        "id": "5nl_dt3h-cY0"
      }
    },
    {
      "cell_type": "markdown",
      "metadata": {
        "id": "z3YGQpoZrwzR"
      },
      "source": [
        "#### RDDs with records using sc.parallelize()"
      ]
    },
    {
      "cell_type": "markdown",
      "source": [
        "We effectively create two rows of data by passing in two lists to sc.parallelize()"
      ],
      "metadata": {
        "id": "XajvPKxm26Sy"
      }
    },
    {
      "cell_type": "code",
      "execution_count": 14,
      "metadata": {
        "id": "Kp2ppbixrwzR",
        "outputId": "073d62a0-7c2e-4475-f392-92562c352361",
        "colab": {
          "base_uri": "https://localhost:8080/"
        }
      },
      "outputs": [
        {
          "output_type": "stream",
          "name": "stdout",
          "text": [
            "+-------------+\n",
            "|           _1|\n",
            "+-------------+\n",
            "|[1, null, 12]|\n",
            "| [2, null, 9]|\n",
            "+-------------+\n",
            "\n"
          ]
        }
      ],
      "source": [
        "records = sc.parallelize([[1, \"Nissan Versa\", 12], [2, \"Ford Fiesta\", 9]])\n",
        "records.map(lambda x: (x, )).toDF().show()"
      ]
    },
    {
      "cell_type": "markdown",
      "metadata": {
        "id": "S8vKXQNHrwzS"
      },
      "source": [
        "#### The number of records corresponds to the number of rows"
      ]
    },
    {
      "cell_type": "markdown",
      "source": [
        "\n",
        "Even though we have twice as much data in this RDD as in the previous one we created, the count() returns only two elements"
      ],
      "metadata": {
        "id": "rwG19Bpa3NCc"
      }
    },
    {
      "cell_type": "code",
      "execution_count": 15,
      "metadata": {
        "id": "3d_1t0sMrwzS",
        "outputId": "f14df3be-c49d-4425-8fdf-ee7eb3c54967",
        "colab": {
          "base_uri": "https://localhost:8080/"
        }
      },
      "outputs": [
        {
          "output_type": "execute_result",
          "data": {
            "text/plain": [
              "2"
            ]
          },
          "metadata": {},
          "execution_count": 15
        }
      ],
      "source": [
        "records.count()"
      ]
    },
    {
      "cell_type": "markdown",
      "metadata": {
        "id": "6muDZq7orwzS"
      },
      "source": [
        "#### The RDD is now effectively a list of lists"
      ]
    },
    {
      "cell_type": "markdown",
      "source": [
        "While the previous RDD contained a 1D list, this one contains two elements each of which is a 1D list - giving a 2D list."
      ],
      "metadata": {
        "id": "-M4sJtnf3Pzl"
      }
    },
    {
      "cell_type": "code",
      "execution_count": 16,
      "metadata": {
        "id": "w4ZgVNDKrwzS",
        "outputId": "4d84290e-4a8e-414e-9c94-0c8cb359e10a",
        "colab": {
          "base_uri": "https://localhost:8080/"
        }
      },
      "outputs": [
        {
          "output_type": "execute_result",
          "data": {
            "text/plain": [
              "[[1, 'Nissan Versa', 12], [2, 'Ford Fiesta', 9]]"
            ]
          },
          "metadata": {},
          "execution_count": 16
        }
      ],
      "source": [
        "records.collect()"
      ]
    },
    {
      "cell_type": "markdown",
      "metadata": {
        "id": "ekzQklgRrwzT"
      },
      "source": [
        "#### The first element is a list"
      ]
    },
    {
      "cell_type": "markdown",
      "source": [
        "Effectively the first \"row\" in the RDD"
      ],
      "metadata": {
        "id": "ZrsQs3QR3S14"
      }
    },
    {
      "cell_type": "code",
      "execution_count": 17,
      "metadata": {
        "id": "w2EeBQBFrwzT",
        "outputId": "ea255785-6dcb-41db-b2a0-fabbd50e7d08",
        "colab": {
          "base_uri": "https://localhost:8080/"
        }
      },
      "outputs": [
        {
          "output_type": "execute_result",
          "data": {
            "text/plain": [
              "[1, 'Nissan Versa', 12]"
            ]
          },
          "metadata": {},
          "execution_count": 17
        }
      ],
      "source": [
        "records.first()"
      ]
    },
    {
      "cell_type": "code",
      "execution_count": 18,
      "metadata": {
        "id": "RTfqD5BjrwzU",
        "outputId": "acd0aeca-a7df-4ed7-f1f9-9cef2c40ea87",
        "colab": {
          "base_uri": "https://localhost:8080/"
        }
      },
      "outputs": [
        {
          "output_type": "execute_result",
          "data": {
            "text/plain": [
              "[[1, 'Nissan Versa', 12], [2, 'Ford Fiesta', 9]]"
            ]
          },
          "metadata": {},
          "execution_count": 18
        }
      ],
      "source": [
        "records.take(2)"
      ]
    },
    {
      "cell_type": "markdown",
      "metadata": {
        "id": "O4PHiZGfrwzU"
      },
      "source": [
        "#### This RDD can be converted to a DataFrame"
      ]
    },
    {
      "cell_type": "markdown",
      "source": [
        "This RDD does have \"columns\", it can be represented as a tabular data frame"
      ],
      "metadata": {
        "id": "gX4Y41G-5pNw"
      }
    },
    {
      "cell_type": "code",
      "execution_count": 19,
      "metadata": {
        "collapsed": true,
        "id": "XejUcZjGrwzU"
      },
      "outputs": [],
      "source": [
        "df = records.toDF()"
      ]
    },
    {
      "cell_type": "markdown",
      "metadata": {
        "id": "_VY-y6H8rwzU"
      },
      "source": [
        "#### The DataFrame has automatically detected the types of the data\n"
      ]
    },
    {
      "cell_type": "code",
      "execution_count": 20,
      "metadata": {
        "id": "1rB20zNrrwzU",
        "outputId": "4303f514-7046-40c7-9395-14f642c838a7",
        "colab": {
          "base_uri": "https://localhost:8080/"
        }
      },
      "outputs": [
        {
          "output_type": "execute_result",
          "data": {
            "text/plain": [
              "DataFrame[_1: bigint, _2: string, _3: bigint]"
            ]
          },
          "metadata": {},
          "execution_count": 20
        }
      ],
      "source": [
        "df"
      ]
    },
    {
      "cell_type": "code",
      "execution_count": 21,
      "metadata": {
        "id": "Xj9BJkRFrwzV",
        "outputId": "ea8f057e-2807-4a96-d43a-094f53d7d891",
        "colab": {
          "base_uri": "https://localhost:8080/"
        }
      },
      "outputs": [
        {
          "output_type": "execute_result",
          "data": {
            "text/plain": [
              "pyspark.sql.dataframe.DataFrame"
            ]
          },
          "metadata": {},
          "execution_count": 21
        }
      ],
      "source": [
        "type(df)"
      ]
    },
    {
      "cell_type": "markdown",
      "metadata": {
        "id": "gtIjyzcirwzV"
      },
      "source": [
        "#### The show() function for a DataFrame"
      ]
    },
    {
      "cell_type": "markdown",
      "source": [
        "By default it returns the first 20 rows of the DataFrame. We can pass in the number of rows to return as an argument"
      ],
      "metadata": {
        "id": "BQ7oDRhW5zgG"
      }
    },
    {
      "cell_type": "code",
      "execution_count": 22,
      "metadata": {
        "id": "Z8tn_n0IrwzV",
        "outputId": "a2871034-f9ea-48ab-d1e7-7207347426e1",
        "colab": {
          "base_uri": "https://localhost:8080/"
        }
      },
      "outputs": [
        {
          "output_type": "stream",
          "name": "stdout",
          "text": [
            "+---+------------+---+\n",
            "| _1|          _2| _3|\n",
            "+---+------------+---+\n",
            "|  1|Nissan Versa| 12|\n",
            "|  2| Ford Fiesta|  9|\n",
            "+---+------------+---+\n",
            "\n"
          ]
        }
      ],
      "source": [
        "df.show()"
      ]
    },
    {
      "cell_type": "markdown",
      "metadata": {
        "id": "hipRBXg5rwzW"
      },
      "source": [
        "#### Creating dataframes using sc.parallelize() and Row() functions"
      ]
    },
    {
      "cell_type": "markdown",
      "source": [
        "Row functions allow specifying column names for dataframes"
      ],
      "metadata": {
        "id": "OBnO0G0S56F4"
      }
    },
    {
      "cell_type": "code",
      "execution_count": 23,
      "metadata": {
        "id": "YeuZIXNBrwzW",
        "outputId": "1f53070f-1ebe-4a92-8068-8d8ec81eba6b",
        "colab": {
          "base_uri": "https://localhost:8080/"
        }
      },
      "outputs": [
        {
          "output_type": "execute_result",
          "data": {
            "text/plain": [
              "ParallelCollectionRDD[31] at readRDDFromFile at PythonRDD.scala:274"
            ]
          },
          "metadata": {},
          "execution_count": 23
        }
      ],
      "source": [
        "data = sc.parallelize([Row(index = 1, vehicle_name = \"Nissan Versa\", vehicle_stock = 12)])\n",
        "data"
      ]
    },
    {
      "cell_type": "markdown",
      "metadata": {
        "id": "JB4s2-9KrwzW"
      },
      "source": [
        "#### This RDD contains a single Row element"
      ]
    },
    {
      "cell_type": "code",
      "execution_count": 24,
      "metadata": {
        "id": "M6_kZMjHrwzW",
        "outputId": "3da5768b-e203-4148-9a3a-9dac5395b843",
        "colab": {
          "base_uri": "https://localhost:8080/"
        }
      },
      "outputs": [
        {
          "output_type": "execute_result",
          "data": {
            "text/plain": [
              "1"
            ]
          },
          "metadata": {},
          "execution_count": 24
        }
      ],
      "source": [
        "data.count()"
      ]
    },
    {
      "cell_type": "code",
      "execution_count": 25,
      "metadata": {
        "id": "4bz8dhEprwzX",
        "outputId": "642ab036-700f-4b2f-bbe0-86baa7e520b6",
        "colab": {
          "base_uri": "https://localhost:8080/"
        }
      },
      "outputs": [
        {
          "output_type": "execute_result",
          "data": {
            "text/plain": [
              "[Row(index=1, vehicle_name='Nissan Versa', vehicle_stock=12)]"
            ]
          },
          "metadata": {},
          "execution_count": 25
        }
      ],
      "source": [
        "data.collect()"
      ]
    },
    {
      "cell_type": "code",
      "execution_count": 26,
      "metadata": {
        "id": "QBU36xoTrwzX",
        "outputId": "094113b1-9b2e-4eda-810d-6bd11030747d",
        "colab": {
          "base_uri": "https://localhost:8080/"
        }
      },
      "outputs": [
        {
          "output_type": "stream",
          "name": "stdout",
          "text": [
            "+-----+------------+-------------+\n",
            "|index|vehicle_name|vehicle_stock|\n",
            "+-----+------------+-------------+\n",
            "|    1|Nissan Versa|           12|\n",
            "+-----+------------+-------------+\n",
            "\n"
          ]
        }
      ],
      "source": [
        "df = data.toDF()\n",
        "df.show()"
      ]
    },
    {
      "cell_type": "markdown",
      "metadata": {
        "id": "SX2yzGdUrwzX"
      },
      "source": [
        "#### Working with multiple rows"
      ]
    },
    {
      "cell_type": "code",
      "execution_count": 28,
      "metadata": {
        "id": "jqHiqZkCrwzX",
        "outputId": "dc0bc135-8095-4866-de6a-a106a9795cff",
        "colab": {
          "base_uri": "https://localhost:8080/"
        }
      },
      "outputs": [
        {
          "output_type": "execute_result",
          "data": {
            "text/plain": [
              "ParallelCollectionRDD[42] at readRDDFromFile at PythonRDD.scala:274"
            ]
          },
          "metadata": {},
          "execution_count": 28
        }
      ],
      "source": [
        "data = sc.parallelize([\n",
        "    Row(index = 1, vehicle_name = \"Nissan Versa\", vehicle_stock = 12),\n",
        "    Row(index = 2, vehicle_name = \"Ford Fiesta\", vehicle_stock = 9),\n",
        "    Row(index = 3, vehicle_name = \"Hyundai Accent\", vehicle_stock = 8)\n",
        "])\n",
        "data"
      ]
    },
    {
      "cell_type": "code",
      "execution_count": 29,
      "metadata": {
        "id": "iUxC0RtirwzY",
        "outputId": "09934b9d-3430-4f8c-bd9a-7134762d741d",
        "colab": {
          "base_uri": "https://localhost:8080/"
        }
      },
      "outputs": [
        {
          "output_type": "stream",
          "name": "stdout",
          "text": [
            "+-----+--------------+-------------+\n",
            "|index|  vehicle_name|vehicle_stock|\n",
            "+-----+--------------+-------------+\n",
            "|    1|  Nissan Versa|           12|\n",
            "|    2|   Ford Fiesta|            9|\n",
            "|    3|Hyundai Accent|            8|\n",
            "+-----+--------------+-------------+\n",
            "\n"
          ]
        }
      ],
      "source": [
        "df = data.toDF()\n",
        "df.show()"
      ]
    },
    {
      "cell_type": "markdown",
      "metadata": {
        "id": "COFo7x_HrwzZ"
      },
      "source": [
        "#### Multiple columns with complex data types"
      ]
    },
    {
      "cell_type": "markdown",
      "source": [
        "Here, we highlight many of the different data types which we can store in an RDD. We start with a string, float and integer"
      ],
      "metadata": {
        "id": "D7WDW_tS6HQd"
      }
    },
    {
      "cell_type": "code",
      "execution_count": 30,
      "metadata": {
        "collapsed": true,
        "id": "Ine90wTcrwzZ"
      },
      "outputs": [],
      "source": [
        "complex_data = sc.parallelize([Row(col_string = \"Alice\", col_double = 3.14, col_integer = 20)])"
      ]
    },
    {
      "cell_type": "code",
      "execution_count": 31,
      "metadata": {
        "id": "ML_ZVkiTrwzZ",
        "outputId": "322df09f-58ae-4459-e75e-09208beb7dc5",
        "colab": {
          "base_uri": "https://localhost:8080/"
        }
      },
      "outputs": [
        {
          "output_type": "stream",
          "name": "stdout",
          "text": [
            "+----------+----------+-----------+\n",
            "|col_string|col_double|col_integer|\n",
            "+----------+----------+-----------+\n",
            "|     Alice|      3.14|         20|\n",
            "+----------+----------+-----------+\n",
            "\n"
          ]
        }
      ],
      "source": [
        "complex_data_df = complex_data.toDF()\n",
        "complex_data_df.show()"
      ]
    },
    {
      "cell_type": "code",
      "execution_count": 32,
      "metadata": {
        "id": "u2SGPg6Nrwza",
        "outputId": "07d3ddaa-7fce-4ca9-d2a0-089010acd527",
        "colab": {
          "base_uri": "https://localhost:8080/"
        }
      },
      "outputs": [
        {
          "output_type": "execute_result",
          "data": {
            "text/plain": [
              "DataFrame[col_string: string, col_double: double, col_integer: bigint]"
            ]
          },
          "metadata": {},
          "execution_count": 32
        }
      ],
      "source": [
        "complex_data_df"
      ]
    },
    {
      "cell_type": "code",
      "execution_count": 33,
      "metadata": {
        "collapsed": true,
        "id": "6CBGrx_arwza"
      },
      "outputs": [],
      "source": [
        "complex_data = sc.parallelize([\n",
        "    Row(col_string = \"Alice\", col_double = 3.14, col_integer = 20, col_boolean = True, col_list = [2,4,6])\n",
        "])"
      ]
    },
    {
      "cell_type": "code",
      "execution_count": 34,
      "metadata": {
        "id": "hIB6C7knrwza",
        "outputId": "8509636d-ad3c-4271-cd93-2af1edb39f4e",
        "colab": {
          "base_uri": "https://localhost:8080/"
        }
      },
      "outputs": [
        {
          "output_type": "stream",
          "name": "stdout",
          "text": [
            "+----------+----------+-----------+-----------+---------+\n",
            "|col_string|col_double|col_integer|col_boolean| col_list|\n",
            "+----------+----------+-----------+-----------+---------+\n",
            "|     Alice|      3.14|         20|       true|[2, 4, 6]|\n",
            "+----------+----------+-----------+-----------+---------+\n",
            "\n"
          ]
        }
      ],
      "source": [
        "complex_data_df = complex_data.toDF()\n",
        "complex_data_df.show()"
      ]
    },
    {
      "cell_type": "code",
      "execution_count": 35,
      "metadata": {
        "id": "2cEt4tsqrwzb",
        "outputId": "d756353e-2483-4389-adb2-ec7797d4cecf",
        "colab": {
          "base_uri": "https://localhost:8080/"
        }
      },
      "outputs": [
        {
          "output_type": "execute_result",
          "data": {
            "text/plain": [
              "DataFrame[col_string: string, col_double: double, col_integer: bigint, col_boolean: boolean, col_list: array<bigint>]"
            ]
          },
          "metadata": {},
          "execution_count": 35
        }
      ],
      "source": [
        "complex_data_df"
      ]
    },
    {
      "cell_type": "markdown",
      "metadata": {
        "id": "IS6Ai3vnrwzc"
      },
      "source": [
        "#### Multiple rows with complex data types"
      ]
    },
    {
      "cell_type": "markdown",
      "source": [
        "Our RDDs can also contain lists, dictionaries, Row types and timestamps"
      ],
      "metadata": {
        "id": "qVOVc7Px-3kL"
      }
    },
    {
      "cell_type": "code",
      "execution_count": 37,
      "metadata": {
        "collapsed": true,
        "id": "TYn4B9vQrwzc"
      },
      "outputs": [],
      "source": [
        "complex_data = sc.parallelize([\n",
        "    Row(col_list = [2,4,6], col_dict = {\"a1\": 0}, \n",
        "        col_row = Row(x=15, y=25, z=35), col_time = datetime(2018, 7, 1, 14, 1, 2)),              \n",
        "    Row(col_list = [2,4,6,8,10], col_dict = {\"a1\": 0,\"a2\": 1 }, \n",
        "        col_row = Row(x=45, y=55, z=65), col_time = datetime(2018, 7, 2, 14, 1, 3)),\n",
        "    Row(col_list = [2,4,6,8,10,12,14], col_dict = {\"a1\": 0, \"a2\": 1, \"a3\": 2 }, \n",
        "        col_row = Row(x=75, y=85, z=95), col_time = datetime(2018, 7, 3, 14, 1, 4))\n",
        "]) "
      ]
    },
    {
      "cell_type": "code",
      "execution_count": 38,
      "metadata": {
        "id": "pWJBuSIhrwzd",
        "outputId": "7a308208-8de9-4335-998b-8ba526bb132d",
        "colab": {
          "base_uri": "https://localhost:8080/"
        }
      },
      "outputs": [
        {
          "output_type": "stream",
          "name": "stdout",
          "text": [
            "+--------------------+--------------------+------------+-------------------+\n",
            "|            col_list|            col_dict|     col_row|           col_time|\n",
            "+--------------------+--------------------+------------+-------------------+\n",
            "|           [2, 4, 6]|           {a1 -> 0}|{15, 25, 35}|2018-07-01 14:01:02|\n",
            "|    [2, 4, 6, 8, 10]|  {a1 -> 0, a2 -> 1}|{45, 55, 65}|2018-07-02 14:01:03|\n",
            "|[2, 4, 6, 8, 10, ...|{a1 -> 0, a2 -> 1...|{75, 85, 95}|2018-07-03 14:01:04|\n",
            "+--------------------+--------------------+------------+-------------------+\n",
            "\n"
          ]
        }
      ],
      "source": [
        "complex_data_df = complex_data.toDF()\n",
        "complex_data_df.show()"
      ]
    },
    {
      "cell_type": "code",
      "execution_count": 39,
      "metadata": {
        "id": "osdCXzMurwzd",
        "outputId": "a14b285e-3659-41df-c628-d51d732dbac1",
        "colab": {
          "base_uri": "https://localhost:8080/"
        }
      },
      "outputs": [
        {
          "output_type": "execute_result",
          "data": {
            "text/plain": [
              "DataFrame[col_list: array<bigint>, col_dict: map<string,bigint>, col_row: struct<x:bigint,y:bigint,z:bigint>, col_time: timestamp]"
            ]
          },
          "metadata": {},
          "execution_count": 39
        }
      ],
      "source": [
        "complex_data_df"
      ]
    },
    {
      "cell_type": "markdown",
      "source": [
        "## **SQLContext**"
      ],
      "metadata": {
        "id": "t5KIlRRh_Cm2"
      }
    },
    {
      "cell_type": "markdown",
      "metadata": {
        "id": "H2qQ-puarwze"
      },
      "source": [
        "#### Creating DataFrames using SQLContext"
      ]
    },
    {
      "cell_type": "markdown",
      "source": [
        "SQLContext can create dataframes directly from raw data"
      ],
      "metadata": {
        "id": "3iR2GSXH-_9J"
      }
    },
    {
      "cell_type": "code",
      "execution_count": 40,
      "metadata": {
        "collapsed": true,
        "id": "oE8VK6y_rwze",
        "colab": {
          "base_uri": "https://localhost:8080/"
        },
        "outputId": "91ab92e3-c615-477c-c913-4b74a6a5f341"
      },
      "outputs": [
        {
          "output_type": "stream",
          "name": "stderr",
          "text": [
            "/usr/local/lib/python3.7/dist-packages/pyspark/sql/context.py:114: FutureWarning: Deprecated in 3.0.0. Use SparkSession.builder.getOrCreate() instead.\n",
            "  FutureWarning,\n"
          ]
        }
      ],
      "source": [
        "sqlContext = SQLContext(sc)"
      ]
    },
    {
      "cell_type": "code",
      "execution_count": 41,
      "metadata": {
        "id": "kf9G5J-Srwzf",
        "outputId": "0c6014aa-467d-4511-9c09-b4cf0f6d0da2",
        "colab": {
          "base_uri": "https://localhost:8080/"
        }
      },
      "outputs": [
        {
          "output_type": "execute_result",
          "data": {
            "text/plain": [
              "<pyspark.sql.context.SQLContext at 0x7f6a45c74c10>"
            ]
          },
          "metadata": {},
          "execution_count": 41
        }
      ],
      "source": [
        "sqlContext"
      ]
    },
    {
      "cell_type": "markdown",
      "metadata": {
        "id": "iBaC3g0yrwzf"
      },
      "source": [
        "#### The SQLContext range() function returns a DataFrame"
      ]
    },
    {
      "cell_type": "markdown",
      "source": [
        "This creates a column of 4 integers from 0-3. The name of this column is set to \"id\""
      ],
      "metadata": {
        "id": "qfVeJ9JNALDX"
      }
    },
    {
      "cell_type": "code",
      "execution_count": 42,
      "metadata": {
        "id": "_31Dqv0Arwzf",
        "outputId": "c841cdb7-e5ae-4a3c-d627-0226b01f0f30",
        "colab": {
          "base_uri": "https://localhost:8080/"
        }
      },
      "outputs": [
        {
          "output_type": "execute_result",
          "data": {
            "text/plain": [
              "DataFrame[id: bigint]"
            ]
          },
          "metadata": {},
          "execution_count": 42
        }
      ],
      "source": [
        "df = sqlContext.range(4)\n",
        "df"
      ]
    },
    {
      "cell_type": "code",
      "execution_count": 43,
      "metadata": {
        "id": "iO3UNTbQrwzg",
        "outputId": "444bed37-f063-4c81-8586-ab8458a3f6ef",
        "colab": {
          "base_uri": "https://localhost:8080/"
        }
      },
      "outputs": [
        {
          "output_type": "stream",
          "name": "stdout",
          "text": [
            "+---+\n",
            "| id|\n",
            "+---+\n",
            "|  0|\n",
            "|  1|\n",
            "|  2|\n",
            "|  3|\n",
            "+---+\n",
            "\n"
          ]
        }
      ],
      "source": [
        "df.show()"
      ]
    },
    {
      "cell_type": "code",
      "execution_count": 44,
      "metadata": {
        "id": "okcXp4Cxrwzg",
        "outputId": "ddc30caf-21a1-4bae-aea2-d56195cc1b85",
        "colab": {
          "base_uri": "https://localhost:8080/"
        }
      },
      "outputs": [
        {
          "output_type": "execute_result",
          "data": {
            "text/plain": [
              "4"
            ]
          },
          "metadata": {},
          "execution_count": 44
        }
      ],
      "source": [
        "df.count()"
      ]
    },
    {
      "cell_type": "markdown",
      "metadata": {
        "id": "P-o8jtP-rwzh"
      },
      "source": [
        "#### Rows specified in tuples"
      ]
    },
    {
      "cell_type": "markdown",
      "source": [
        "SQLContext DataFrames are specified in the form a list of tuples"
      ],
      "metadata": {
        "id": "K1elGu9vAOwH"
      }
    },
    {
      "cell_type": "code",
      "execution_count": 45,
      "metadata": {
        "collapsed": true,
        "id": "YTKw0GpQrwzi"
      },
      "outputs": [],
      "source": [
        "data = [('Nissan Versa', 12), ('Ford Fiesta', 9), ('Hyundai Accent', 8)]"
      ]
    },
    {
      "cell_type": "markdown",
      "metadata": {
        "id": "YThrANOZrwzi"
      },
      "source": [
        "#### The DataFrame is created without column headers"
      ]
    },
    {
      "cell_type": "code",
      "execution_count": 46,
      "metadata": {
        "id": "XC5TCZPrrwzj",
        "outputId": "cc5c2590-89f0-4804-f04f-dbd5aef3adec",
        "colab": {
          "base_uri": "https://localhost:8080/"
        }
      },
      "outputs": [
        {
          "output_type": "stream",
          "name": "stdout",
          "text": [
            "+--------------+---+\n",
            "|            _1| _2|\n",
            "+--------------+---+\n",
            "|  Nissan Versa| 12|\n",
            "|   Ford Fiesta|  9|\n",
            "|Hyundai Accent|  8|\n",
            "+--------------+---+\n",
            "\n"
          ]
        }
      ],
      "source": [
        "sqlContext.createDataFrame(data).show()"
      ]
    },
    {
      "cell_type": "markdown",
      "metadata": {
        "id": "QKOpcNIXrwzj"
      },
      "source": [
        "#### Set the column names when creating the DataFrame"
      ]
    },
    {
      "cell_type": "code",
      "execution_count": 47,
      "metadata": {
        "id": "Sb2XVmr5rwzj",
        "outputId": "a07901b9-ebcd-4dfd-95ae-e4bffd5e5efc",
        "colab": {
          "base_uri": "https://localhost:8080/"
        }
      },
      "outputs": [
        {
          "output_type": "stream",
          "name": "stdout",
          "text": [
            "+--------------+-------------+\n",
            "|  vehicle_name|vehicle_stock|\n",
            "+--------------+-------------+\n",
            "|  Nissan Versa|           12|\n",
            "|   Ford Fiesta|            9|\n",
            "|Hyundai Accent|            8|\n",
            "+--------------+-------------+\n",
            "\n"
          ]
        }
      ],
      "source": [
        "sqlContext.createDataFrame(data, ['vehicle_name', 'vehicle_stock']).show()"
      ]
    },
    {
      "cell_type": "markdown",
      "metadata": {
        "id": "iviTa1smrwzk"
      },
      "source": [
        "#### Adding more data to the DataFrame"
      ]
    },
    {
      "cell_type": "code",
      "execution_count": 48,
      "metadata": {
        "collapsed": true,
        "id": "DfhuCGplrwzk"
      },
      "outputs": [],
      "source": [
        "complex_data = [\n",
        "  (1.0, 12, \"Nissan Versa\", True, [2,4,6], {\"a1\": 0}, Row(x=1, y=2, z=3), datetime(2018, 7, 1, 14, 1, 2)),\n",
        "  (2.0, 13, \"Ford Fiesta\", True, [2,4,6,8,10], {\"a1\": 0,\"a2\": 1 }, Row(x=1, y=2, z=3), datetime(2018, 7, 2, 14, 1, 3)),\n",
        "  (3.0, 15, \"Hyundai Accent\", True, [2,4,6,8,10,12,14], {\"a1\": 0, \"a2\": 1, \"a3\": 2 }, Row(x=1, y=2, z=3), datetime(2018, 7, 3, 14, 1, 4))\n",
        "] "
      ]
    },
    {
      "cell_type": "code",
      "execution_count": 49,
      "metadata": {
        "id": "WiS1qkGRrwzl",
        "outputId": "61fce25c-56ca-4f00-823a-e4ed81edad4a",
        "colab": {
          "base_uri": "https://localhost:8080/"
        }
      },
      "outputs": [
        {
          "output_type": "stream",
          "name": "stdout",
          "text": [
            "+---+---+--------------+----+--------------------+--------------------+---------+-------------------+\n",
            "| _1| _2|            _3|  _4|                  _5|                  _6|       _7|                 _8|\n",
            "+---+---+--------------+----+--------------------+--------------------+---------+-------------------+\n",
            "|1.0| 12|  Nissan Versa|true|           [2, 4, 6]|           {a1 -> 0}|{1, 2, 3}|2018-07-01 14:01:02|\n",
            "|2.0| 13|   Ford Fiesta|true|    [2, 4, 6, 8, 10]|  {a1 -> 0, a2 -> 1}|{1, 2, 3}|2018-07-02 14:01:03|\n",
            "|3.0| 15|Hyundai Accent|true|[2, 4, 6, 8, 10, ...|{a1 -> 0, a2 -> 1...|{1, 2, 3}|2018-07-03 14:01:04|\n",
            "+---+---+--------------+----+--------------------+--------------------+---------+-------------------+\n",
            "\n"
          ]
        }
      ],
      "source": [
        "sqlContext.createDataFrame(complex_data).show()"
      ]
    },
    {
      "cell_type": "code",
      "execution_count": 50,
      "metadata": {
        "id": "PmN3y7GCrwzl",
        "outputId": "39914b5a-d9e5-481a-d876-26b3548a503d",
        "colab": {
          "base_uri": "https://localhost:8080/"
        }
      },
      "outputs": [
        {
          "output_type": "stream",
          "name": "stdout",
          "text": [
            "+-------+----------+--------------+--------+--------------------+--------------------+---------+-------------------+\n",
            "|col_int|col_double|    col_string|col_bool|           col_array|      col_dictionary|  col_row|      col_date_time|\n",
            "+-------+----------+--------------+--------+--------------------+--------------------+---------+-------------------+\n",
            "|    1.0|        12|  Nissan Versa|    true|           [2, 4, 6]|           {a1 -> 0}|{1, 2, 3}|2018-07-01 14:01:02|\n",
            "|    2.0|        13|   Ford Fiesta|    true|    [2, 4, 6, 8, 10]|  {a1 -> 0, a2 -> 1}|{1, 2, 3}|2018-07-02 14:01:03|\n",
            "|    3.0|        15|Hyundai Accent|    true|[2, 4, 6, 8, 10, ...|{a1 -> 0, a2 -> 1...|{1, 2, 3}|2018-07-03 14:01:04|\n",
            "+-------+----------+--------------+--------+--------------------+--------------------+---------+-------------------+\n",
            "\n"
          ]
        }
      ],
      "source": [
        "complex_data_df = sqlContext.createDataFrame(complex_data, \n",
        "  ['col_int', 'col_double', 'col_string', 'col_bool', 'col_array', 'col_dictionary', 'col_row', 'col_date_time']\n",
        ")\n",
        "complex_data_df.show()"
      ]
    },
    {
      "cell_type": "markdown",
      "metadata": {
        "id": "0RCMefmerwzm"
      },
      "source": [
        "#### Creating dataframes using SQL Context and the Row function"
      ]
    },
    {
      "cell_type": "markdown",
      "source": [
        "Row functions can be used without specifying column names"
      ],
      "metadata": {
        "id": "mBgPmL0ACF6H"
      }
    },
    {
      "cell_type": "code",
      "execution_count": 51,
      "metadata": {
        "collapsed": true,
        "id": "FERBn1A4rwzm"
      },
      "outputs": [],
      "source": [
        "data = sc.parallelize([Row(1, \"Nissan Versa\", 12), Row(2, \"Ford Fiesta\", 9), Row(3, \"Hyundai Accent\", 8)])"
      ]
    },
    {
      "cell_type": "code",
      "execution_count": 52,
      "metadata": {
        "id": "Xr_OBBRPrwzn",
        "outputId": "f1404c4c-2110-4c96-bce3-0465d9393841",
        "colab": {
          "base_uri": "https://localhost:8080/"
        }
      },
      "outputs": [
        {
          "output_type": "stream",
          "name": "stdout",
          "text": [
            "+---+--------------+---+\n",
            "| _1|            _2| _3|\n",
            "+---+--------------+---+\n",
            "|  1|  Nissan Versa| 12|\n",
            "|  2|   Ford Fiesta|  9|\n",
            "|  3|Hyundai Accent|  8|\n",
            "+---+--------------+---+\n",
            "\n"
          ]
        }
      ],
      "source": [
        "data.toDF().show()"
      ]
    },
    {
      "cell_type": "markdown",
      "metadata": {
        "id": "PilU0tpprwzo"
      },
      "source": [
        "#### Create a new Row with the column names"
      ]
    },
    {
      "cell_type": "code",
      "execution_count": 53,
      "metadata": {
        "collapsed": true,
        "id": "R03j9ntGrwzp"
      },
      "outputs": [],
      "source": [
        "column_names = Row('index', 'vehicle_name', 'vehicle_stock')"
      ]
    },
    {
      "cell_type": "markdown",
      "metadata": {
        "id": "q11vX7P1rwzp"
      },
      "source": [
        "#### The RDD's map() function"
      ]
    },
    {
      "cell_type": "markdown",
      "source": [
        "Return a new RDD by applying a function to each element of this RDD. Here, we call column_names for every row of the RDD with the row elements passed as positional arguments. "
      ],
      "metadata": {
        "id": "RCfL3Mx9Cudq"
      }
    },
    {
      "cell_type": "code",
      "execution_count": 55,
      "metadata": {
        "id": "WOY4F0RCrwzr",
        "outputId": "8e354ce2-4bfd-4f50-e779-76c815a9cf22",
        "colab": {
          "base_uri": "https://localhost:8080/"
        }
      },
      "outputs": [
        {
          "output_type": "execute_result",
          "data": {
            "text/plain": [
              "[Row(index=1, vehicle_name='Nissan Versa', vehicle_stock=12),\n",
              " Row(index=2, vehicle_name='Ford Fiesta', vehicle_stock=9),\n",
              " Row(index=3, vehicle_name='Hyundai Accent', vehicle_stock=8)]"
            ]
          },
          "metadata": {},
          "execution_count": 55
        }
      ],
      "source": [
        "cars = data.map(lambda r: column_names(*r))\n",
        "cars.collect()"
      ]
    },
    {
      "cell_type": "code",
      "execution_count": 56,
      "metadata": {
        "id": "yrmZ32jsrwzs",
        "outputId": "e34637f8-02c0-4747-89c7-90da3a83510d",
        "colab": {
          "base_uri": "https://localhost:8080/"
        }
      },
      "outputs": [
        {
          "output_type": "execute_result",
          "data": {
            "text/plain": [
              "DataFrame[index: bigint, vehicle_name: string, vehicle_stock: bigint]"
            ]
          },
          "metadata": {},
          "execution_count": 56
        }
      ],
      "source": [
        "cars_df = sqlContext.createDataFrame(cars)\n",
        "cars_df"
      ]
    },
    {
      "cell_type": "code",
      "execution_count": 57,
      "metadata": {
        "id": "oXxVFQP0rwzs",
        "outputId": "05e393a8-3b9e-4481-d007-00c0c69185ff",
        "colab": {
          "base_uri": "https://localhost:8080/"
        }
      },
      "outputs": [
        {
          "output_type": "stream",
          "name": "stdout",
          "text": [
            "+-----+--------------+-------------+\n",
            "|index|  vehicle_name|vehicle_stock|\n",
            "+-----+--------------+-------------+\n",
            "|    1|  Nissan Versa|           12|\n",
            "|    2|   Ford Fiesta|            9|\n",
            "|    3|Hyundai Accent|            8|\n",
            "+-----+--------------+-------------+\n",
            "\n"
          ]
        }
      ],
      "source": [
        "cars_df.show()"
      ]
    },
    {
      "cell_type": "markdown",
      "metadata": {
        "id": "yxV95zWArwzt"
      },
      "source": [
        "#### Extracting specific rows from dataframes"
      ]
    },
    {
      "cell_type": "code",
      "execution_count": 58,
      "metadata": {
        "id": "nPLTxgaErwzt",
        "outputId": "48c85ba9-8c62-4a87-c141-4108c56db854",
        "colab": {
          "base_uri": "https://localhost:8080/"
        }
      },
      "outputs": [
        {
          "output_type": "execute_result",
          "data": {
            "text/plain": [
              "Row(col_int=1.0, col_double=12, col_string='Nissan Versa', col_bool=True, col_array=[2, 4, 6], col_dictionary={'a1': 0}, col_row=Row(x=1, y=2, z=3), col_date_time=datetime.datetime(2018, 7, 1, 14, 1, 2))"
            ]
          },
          "metadata": {},
          "execution_count": 58
        }
      ],
      "source": [
        "complex_data_df.first()"
      ]
    },
    {
      "cell_type": "code",
      "execution_count": 59,
      "metadata": {
        "id": "wYZa3jZzrwzu",
        "outputId": "5a68af30-c8b1-421d-ebdb-0ac58903db81",
        "colab": {
          "base_uri": "https://localhost:8080/"
        }
      },
      "outputs": [
        {
          "output_type": "execute_result",
          "data": {
            "text/plain": [
              "[Row(col_int=1.0, col_double=12, col_string='Nissan Versa', col_bool=True, col_array=[2, 4, 6], col_dictionary={'a1': 0}, col_row=Row(x=1, y=2, z=3), col_date_time=datetime.datetime(2018, 7, 1, 14, 1, 2)),\n",
              " Row(col_int=2.0, col_double=13, col_string='Ford Fiesta', col_bool=True, col_array=[2, 4, 6, 8, 10], col_dictionary={'a1': 0, 'a2': 1}, col_row=Row(x=1, y=2, z=3), col_date_time=datetime.datetime(2018, 7, 2, 14, 1, 3))]"
            ]
          },
          "metadata": {},
          "execution_count": 59
        }
      ],
      "source": [
        "complex_data_df.take(2)"
      ]
    },
    {
      "cell_type": "markdown",
      "metadata": {
        "id": "zO76uzmrrwzu"
      },
      "source": [
        "#### Extracting specific cells from dataframes"
      ]
    },
    {
      "cell_type": "code",
      "execution_count": 60,
      "metadata": {
        "id": "1DVDhoMorwzu",
        "outputId": "a898b93a-9212-4b96-9ba1-6bf41f1da75b",
        "colab": {
          "base_uri": "https://localhost:8080/",
          "height": 35
        }
      },
      "outputs": [
        {
          "output_type": "execute_result",
          "data": {
            "text/plain": [
              "'Nissan Versa'"
            ],
            "application/vnd.google.colaboratory.intrinsic+json": {
              "type": "string"
            }
          },
          "metadata": {},
          "execution_count": 60
        }
      ],
      "source": [
        "complex_data_df.collect()[0][2]"
      ]
    },
    {
      "cell_type": "code",
      "execution_count": 61,
      "metadata": {
        "id": "2jZkaH4-rwzu",
        "outputId": "f5138f5a-07ce-42e9-84d2-dfc24f141313",
        "colab": {
          "base_uri": "https://localhost:8080/"
        }
      },
      "outputs": [
        {
          "output_type": "execute_result",
          "data": {
            "text/plain": [
              "[2, 4, 6]"
            ]
          },
          "metadata": {},
          "execution_count": 61
        }
      ],
      "source": [
        "complex_data_df.collect()[0][4]"
      ]
    },
    {
      "cell_type": "code",
      "execution_count": 62,
      "metadata": {
        "id": "YUEZJVqirwzw",
        "outputId": "c37d6028-a227-4d54-e241-70da58b059ec",
        "colab": {
          "base_uri": "https://localhost:8080/"
        }
      },
      "outputs": [
        {
          "output_type": "stream",
          "name": "stdout",
          "text": [
            "+-------+----------+--------------+--------+--------------------+--------------------+---------+-------------------+\n",
            "|col_int|col_double|    col_string|col_bool|           col_array|      col_dictionary|  col_row|      col_date_time|\n",
            "+-------+----------+--------------+--------+--------------------+--------------------+---------+-------------------+\n",
            "|    1.0|        12|  Nissan Versa|    true|           [2, 4, 6]|           {a1 -> 0}|{1, 2, 3}|2018-07-01 14:01:02|\n",
            "|    2.0|        13|   Ford Fiesta|    true|    [2, 4, 6, 8, 10]|  {a1 -> 0, a2 -> 1}|{1, 2, 3}|2018-07-02 14:01:03|\n",
            "|    3.0|        15|Hyundai Accent|    true|[2, 4, 6, 8, 10, ...|{a1 -> 0, a2 -> 1...|{1, 2, 3}|2018-07-03 14:01:04|\n",
            "+-------+----------+--------------+--------+--------------------+--------------------+---------+-------------------+\n",
            "\n"
          ]
        }
      ],
      "source": [
        "complex_data_df.show()"
      ]
    },
    {
      "cell_type": "markdown",
      "metadata": {
        "id": "WAhsSwRnrwzw"
      },
      "source": [
        "## **Data Manipulation**"
      ]
    },
    {
      "cell_type": "markdown",
      "metadata": {
        "id": "zCnLoNz8rwzx"
      },
      "source": [
        "#### One way for selection to use the rdd.map() operation"
      ]
    },
    {
      "cell_type": "code",
      "execution_count": 63,
      "metadata": {
        "id": "hXCpECV4rwzx",
        "outputId": "634ef025-ebe2-4d01-ed24-edc025e837f1",
        "colab": {
          "base_uri": "https://localhost:8080/"
        }
      },
      "outputs": [
        {
          "output_type": "execute_result",
          "data": {
            "text/plain": [
              "[('Nissan Versa', {'a1': 0}),\n",
              " ('Ford Fiesta', {'a1': 0, 'a2': 1}),\n",
              " ('Hyundai Accent', {'a1': 0, 'a2': 1, 'a3': 2})]"
            ]
          },
          "metadata": {},
          "execution_count": 63
        }
      ],
      "source": [
        "complex_data_df.rdd.map(lambda x: (x.col_string, x.col_dictionary)).collect()"
      ]
    },
    {
      "cell_type": "markdown",
      "metadata": {
        "id": "0gFQLKUDrwzx"
      },
      "source": [
        "#### The DataFrame select() function helps retrieve data"
      ]
    },
    {
      "cell_type": "code",
      "execution_count": 64,
      "metadata": {
        "id": "-xw_dL1Wrwzx",
        "outputId": "e859ed89-32b6-46bb-cd24-6323b36d0670",
        "colab": {
          "base_uri": "https://localhost:8080/"
        }
      },
      "outputs": [
        {
          "output_type": "stream",
          "name": "stdout",
          "text": [
            "+--------------+--------------------+-------------------+\n",
            "|    col_string|           col_array|      col_date_time|\n",
            "+--------------+--------------------+-------------------+\n",
            "|  Nissan Versa|           [2, 4, 6]|2018-07-01 14:01:02|\n",
            "|   Ford Fiesta|    [2, 4, 6, 8, 10]|2018-07-02 14:01:03|\n",
            "|Hyundai Accent|[2, 4, 6, 8, 10, ...|2018-07-03 14:01:04|\n",
            "+--------------+--------------------+-------------------+\n",
            "\n"
          ]
        }
      ],
      "source": [
        "complex_data_df.select('col_string', 'col_array', 'col_date_time').show()"
      ]
    },
    {
      "cell_type": "markdown",
      "metadata": {
        "id": "GS8P-YV4rwzy"
      },
      "source": [
        "#### Editing column data"
      ]
    },
    {
      "cell_type": "markdown",
      "source": [
        "The rdd.map() function can be used to perform an operation on every element in a column"
      ],
      "metadata": {
        "id": "v9JHeRz8nnpY"
      }
    },
    {
      "cell_type": "code",
      "execution_count": 65,
      "metadata": {
        "id": "fr2ajfwerwzy",
        "outputId": "a400bac0-11b2-454f-b3e5-cbd69f9bdf17",
        "colab": {
          "base_uri": "https://localhost:8080/"
        }
      },
      "outputs": [
        {
          "output_type": "execute_result",
          "data": {
            "text/plain": [
              "['2018 Nissan Versa', '2018 Ford Fiesta', '2018 Hyundai Accent']"
            ]
          },
          "metadata": {},
          "execution_count": 65
        }
      ],
      "source": [
        "complex_data_df.rdd.map(lambda x: (\"2018 \" + x.col_string)).collect()"
      ]
    },
    {
      "cell_type": "markdown",
      "metadata": {
        "id": "C1Vbo9Qsrwzy"
      },
      "source": [
        "#### Adding a column"
      ]
    },
    {
      "cell_type": "markdown",
      "source": [
        "Add a new column which sums up the contents of the int and double columns. We do this using the withColumn() function"
      ],
      "metadata": {
        "id": "-A0IGVz-nvDW"
      }
    },
    {
      "cell_type": "code",
      "execution_count": 66,
      "metadata": {
        "id": "ij3eP0prrwzz",
        "outputId": "b03effd5-e990-44e7-9a32-7e1ba5451e8d",
        "colab": {
          "base_uri": "https://localhost:8080/"
        }
      },
      "outputs": [
        {
          "output_type": "stream",
          "name": "stdout",
          "text": [
            "+-------+----------+-------+\n",
            "|col_int|col_double|col_sum|\n",
            "+-------+----------+-------+\n",
            "|    1.0|        12|   13.0|\n",
            "|    2.0|        13|   15.0|\n",
            "|    3.0|        15|   18.0|\n",
            "+-------+----------+-------+\n",
            "\n"
          ]
        }
      ],
      "source": [
        "complex_data_df.select('col_int', 'col_double').withColumn(\"col_sum\", complex_data_df.col_int + complex_data_df.col_double).show()"
      ]
    },
    {
      "cell_type": "code",
      "execution_count": 67,
      "metadata": {
        "id": "rDipqYMzrwzz",
        "outputId": "4d990dbf-8ba0-4943-9a58-29471feae9b7",
        "colab": {
          "base_uri": "https://localhost:8080/"
        }
      },
      "outputs": [
        {
          "output_type": "stream",
          "name": "stdout",
          "text": [
            "+--------+------------+\n",
            "|col_bool|col_opposite|\n",
            "+--------+------------+\n",
            "|    true|       false|\n",
            "|    true|       false|\n",
            "|    true|       false|\n",
            "+--------+------------+\n",
            "\n"
          ]
        }
      ],
      "source": [
        "complex_data_df.select('col_bool').withColumn(\"col_opposite\", complex_data_df.col_bool==False).show()"
      ]
    },
    {
      "cell_type": "markdown",
      "metadata": {
        "id": "og0vWzSvrwzz"
      },
      "source": [
        "#### Editing a column name"
      ]
    },
    {
      "cell_type": "markdown",
      "source": [
        "Make use of the withColumnRenamed() function"
      ],
      "metadata": {
        "id": "4S9-Yny2oVVy"
      }
    },
    {
      "cell_type": "code",
      "execution_count": 68,
      "metadata": {
        "id": "OIIQKosBrwz0",
        "outputId": "09afd85c-8653-4df8-9408-37fc33934599",
        "colab": {
          "base_uri": "https://localhost:8080/"
        }
      },
      "outputs": [
        {
          "output_type": "stream",
          "name": "stdout",
          "text": [
            "+-------+----------+--------------+--------+--------------------+--------------------+---------+-------------------+\n",
            "|col_int|col_double|    col_string|col_bool|           col_array|             col_map|  col_row|      col_date_time|\n",
            "+-------+----------+--------------+--------+--------------------+--------------------+---------+-------------------+\n",
            "|    1.0|        12|  Nissan Versa|    true|           [2, 4, 6]|           {a1 -> 0}|{1, 2, 3}|2018-07-01 14:01:02|\n",
            "|    2.0|        13|   Ford Fiesta|    true|    [2, 4, 6, 8, 10]|  {a1 -> 0, a2 -> 1}|{1, 2, 3}|2018-07-02 14:01:03|\n",
            "|    3.0|        15|Hyundai Accent|    true|[2, 4, 6, 8, 10, ...|{a1 -> 0, a2 -> 1...|{1, 2, 3}|2018-07-03 14:01:04|\n",
            "+-------+----------+--------------+--------+--------------------+--------------------+---------+-------------------+\n",
            "\n"
          ]
        }
      ],
      "source": [
        "complex_data_df.withColumnRenamed(\"col_dictionary\", \"col_map\").show()"
      ]
    },
    {
      "cell_type": "code",
      "execution_count": 69,
      "metadata": {
        "id": "-D45wV2wrwz0",
        "outputId": "89d8510d-eb0c-45cb-cf45-7115d365b9db",
        "colab": {
          "base_uri": "https://localhost:8080/"
        }
      },
      "outputs": [
        {
          "output_type": "stream",
          "name": "stdout",
          "text": [
            "+--------------+\n",
            "|  vehicle_name|\n",
            "+--------------+\n",
            "|  Nissan Versa|\n",
            "|   Ford Fiesta|\n",
            "|Hyundai Accent|\n",
            "+--------------+\n",
            "\n"
          ]
        }
      ],
      "source": [
        "complex_data_df.select(complex_data_df.col_string.alias(\"vehicle_name\")).show()"
      ]
    },
    {
      "cell_type": "markdown",
      "source": [
        "## **Pandas**"
      ],
      "metadata": {
        "id": "0MEV_CKIDUSg"
      }
    },
    {
      "cell_type": "markdown",
      "metadata": {
        "id": "sd-251ozrwz1"
      },
      "source": [
        "#### Interoperablity between Pandas dataframe and Spark dataframe"
      ]
    },
    {
      "cell_type": "code",
      "execution_count": 70,
      "metadata": {
        "collapsed": true,
        "id": "OM4qgpKvrwz1"
      },
      "outputs": [],
      "source": [
        "import pandas"
      ]
    },
    {
      "cell_type": "code",
      "execution_count": 71,
      "metadata": {
        "id": "PSKu1OLJrwz1",
        "outputId": "7eb4dc8b-7277-47f6-a1ea-f9a6c4b0a27d",
        "colab": {
          "base_uri": "https://localhost:8080/",
          "height": 171
        }
      },
      "outputs": [
        {
          "output_type": "execute_result",
          "data": {
            "text/plain": [
              "   col_int  col_double      col_string  col_bool                 col_array  \\\n",
              "0      1.0          12    Nissan Versa      True                 [2, 4, 6]   \n",
              "1      2.0          13     Ford Fiesta      True          [2, 4, 6, 8, 10]   \n",
              "2      3.0          15  Hyundai Accent      True  [2, 4, 6, 8, 10, 12, 14]   \n",
              "\n",
              "                col_dictionary    col_row       col_date_time  \n",
              "0                    {'a1': 0}  (1, 2, 3) 2018-07-01 14:01:02  \n",
              "1           {'a1': 0, 'a2': 1}  (1, 2, 3) 2018-07-02 14:01:03  \n",
              "2  {'a1': 0, 'a2': 1, 'a3': 2}  (1, 2, 3) 2018-07-03 14:01:04  "
            ],
            "text/html": [
              "\n",
              "  <div id=\"df-0e2c3364-2960-46ca-80ad-cab344929056\">\n",
              "    <div class=\"colab-df-container\">\n",
              "      <div>\n",
              "<style scoped>\n",
              "    .dataframe tbody tr th:only-of-type {\n",
              "        vertical-align: middle;\n",
              "    }\n",
              "\n",
              "    .dataframe tbody tr th {\n",
              "        vertical-align: top;\n",
              "    }\n",
              "\n",
              "    .dataframe thead th {\n",
              "        text-align: right;\n",
              "    }\n",
              "</style>\n",
              "<table border=\"1\" class=\"dataframe\">\n",
              "  <thead>\n",
              "    <tr style=\"text-align: right;\">\n",
              "      <th></th>\n",
              "      <th>col_int</th>\n",
              "      <th>col_double</th>\n",
              "      <th>col_string</th>\n",
              "      <th>col_bool</th>\n",
              "      <th>col_array</th>\n",
              "      <th>col_dictionary</th>\n",
              "      <th>col_row</th>\n",
              "      <th>col_date_time</th>\n",
              "    </tr>\n",
              "  </thead>\n",
              "  <tbody>\n",
              "    <tr>\n",
              "      <th>0</th>\n",
              "      <td>1.0</td>\n",
              "      <td>12</td>\n",
              "      <td>Nissan Versa</td>\n",
              "      <td>True</td>\n",
              "      <td>[2, 4, 6]</td>\n",
              "      <td>{'a1': 0}</td>\n",
              "      <td>(1, 2, 3)</td>\n",
              "      <td>2018-07-01 14:01:02</td>\n",
              "    </tr>\n",
              "    <tr>\n",
              "      <th>1</th>\n",
              "      <td>2.0</td>\n",
              "      <td>13</td>\n",
              "      <td>Ford Fiesta</td>\n",
              "      <td>True</td>\n",
              "      <td>[2, 4, 6, 8, 10]</td>\n",
              "      <td>{'a1': 0, 'a2': 1}</td>\n",
              "      <td>(1, 2, 3)</td>\n",
              "      <td>2018-07-02 14:01:03</td>\n",
              "    </tr>\n",
              "    <tr>\n",
              "      <th>2</th>\n",
              "      <td>3.0</td>\n",
              "      <td>15</td>\n",
              "      <td>Hyundai Accent</td>\n",
              "      <td>True</td>\n",
              "      <td>[2, 4, 6, 8, 10, 12, 14]</td>\n",
              "      <td>{'a1': 0, 'a2': 1, 'a3': 2}</td>\n",
              "      <td>(1, 2, 3)</td>\n",
              "      <td>2018-07-03 14:01:04</td>\n",
              "    </tr>\n",
              "  </tbody>\n",
              "</table>\n",
              "</div>\n",
              "      <button class=\"colab-df-convert\" onclick=\"convertToInteractive('df-0e2c3364-2960-46ca-80ad-cab344929056')\"\n",
              "              title=\"Convert this dataframe to an interactive table.\"\n",
              "              style=\"display:none;\">\n",
              "        \n",
              "  <svg xmlns=\"http://www.w3.org/2000/svg\" height=\"24px\"viewBox=\"0 0 24 24\"\n",
              "       width=\"24px\">\n",
              "    <path d=\"M0 0h24v24H0V0z\" fill=\"none\"/>\n",
              "    <path d=\"M18.56 5.44l.94 2.06.94-2.06 2.06-.94-2.06-.94-.94-2.06-.94 2.06-2.06.94zm-11 1L8.5 8.5l.94-2.06 2.06-.94-2.06-.94L8.5 2.5l-.94 2.06-2.06.94zm10 10l.94 2.06.94-2.06 2.06-.94-2.06-.94-.94-2.06-.94 2.06-2.06.94z\"/><path d=\"M17.41 7.96l-1.37-1.37c-.4-.4-.92-.59-1.43-.59-.52 0-1.04.2-1.43.59L10.3 9.45l-7.72 7.72c-.78.78-.78 2.05 0 2.83L4 21.41c.39.39.9.59 1.41.59.51 0 1.02-.2 1.41-.59l7.78-7.78 2.81-2.81c.8-.78.8-2.07 0-2.86zM5.41 20L4 18.59l7.72-7.72 1.47 1.35L5.41 20z\"/>\n",
              "  </svg>\n",
              "      </button>\n",
              "      \n",
              "  <style>\n",
              "    .colab-df-container {\n",
              "      display:flex;\n",
              "      flex-wrap:wrap;\n",
              "      gap: 12px;\n",
              "    }\n",
              "\n",
              "    .colab-df-convert {\n",
              "      background-color: #E8F0FE;\n",
              "      border: none;\n",
              "      border-radius: 50%;\n",
              "      cursor: pointer;\n",
              "      display: none;\n",
              "      fill: #1967D2;\n",
              "      height: 32px;\n",
              "      padding: 0 0 0 0;\n",
              "      width: 32px;\n",
              "    }\n",
              "\n",
              "    .colab-df-convert:hover {\n",
              "      background-color: #E2EBFA;\n",
              "      box-shadow: 0px 1px 2px rgba(60, 64, 67, 0.3), 0px 1px 3px 1px rgba(60, 64, 67, 0.15);\n",
              "      fill: #174EA6;\n",
              "    }\n",
              "\n",
              "    [theme=dark] .colab-df-convert {\n",
              "      background-color: #3B4455;\n",
              "      fill: #D2E3FC;\n",
              "    }\n",
              "\n",
              "    [theme=dark] .colab-df-convert:hover {\n",
              "      background-color: #434B5C;\n",
              "      box-shadow: 0px 1px 3px 1px rgba(0, 0, 0, 0.15);\n",
              "      filter: drop-shadow(0px 1px 2px rgba(0, 0, 0, 0.3));\n",
              "      fill: #FFFFFF;\n",
              "    }\n",
              "  </style>\n",
              "\n",
              "      <script>\n",
              "        const buttonEl =\n",
              "          document.querySelector('#df-0e2c3364-2960-46ca-80ad-cab344929056 button.colab-df-convert');\n",
              "        buttonEl.style.display =\n",
              "          google.colab.kernel.accessAllowed ? 'block' : 'none';\n",
              "\n",
              "        async function convertToInteractive(key) {\n",
              "          const element = document.querySelector('#df-0e2c3364-2960-46ca-80ad-cab344929056');\n",
              "          const dataTable =\n",
              "            await google.colab.kernel.invokeFunction('convertToInteractive',\n",
              "                                                     [key], {});\n",
              "          if (!dataTable) return;\n",
              "\n",
              "          const docLinkHtml = 'Like what you see? Visit the ' +\n",
              "            '<a target=\"_blank\" href=https://colab.research.google.com/notebooks/data_table.ipynb>data table notebook</a>'\n",
              "            + ' to learn more about interactive tables.';\n",
              "          element.innerHTML = '';\n",
              "          dataTable['output_type'] = 'display_data';\n",
              "          await google.colab.output.renderOutput(dataTable, element);\n",
              "          const docLink = document.createElement('div');\n",
              "          docLink.innerHTML = docLinkHtml;\n",
              "          element.appendChild(docLink);\n",
              "        }\n",
              "      </script>\n",
              "    </div>\n",
              "  </div>\n",
              "  "
            ]
          },
          "metadata": {},
          "execution_count": 71
        }
      ],
      "source": [
        "df_pandas = complex_data_df.toPandas()\n",
        "df_pandas"
      ]
    },
    {
      "cell_type": "markdown",
      "metadata": {
        "id": "67fXxu5Urwz2"
      },
      "source": [
        "#### Create a Spark DataFrame from a Pandas DataFrame"
      ]
    },
    {
      "cell_type": "code",
      "execution_count": 72,
      "metadata": {
        "id": "3NkHFY-wrwz2",
        "outputId": "4406a4ac-e738-41cc-81a3-d288e4695379",
        "colab": {
          "base_uri": "https://localhost:8080/"
        }
      },
      "outputs": [
        {
          "output_type": "stream",
          "name": "stdout",
          "text": [
            "+-------+----------+--------------+--------+--------------------+--------------------+---------+-------------------+\n",
            "|col_int|col_double|    col_string|col_bool|           col_array|      col_dictionary|  col_row|      col_date_time|\n",
            "+-------+----------+--------------+--------+--------------------+--------------------+---------+-------------------+\n",
            "|    1.0|        12|  Nissan Versa|    true|           [2, 4, 6]|           {a1 -> 0}|{1, 2, 3}|2018-07-01 14:01:02|\n",
            "|    2.0|        13|   Ford Fiesta|    true|    [2, 4, 6, 8, 10]|  {a1 -> 0, a2 -> 1}|{1, 2, 3}|2018-07-02 14:01:03|\n",
            "|    3.0|        15|Hyundai Accent|    true|[2, 4, 6, 8, 10, ...|{a1 -> 0, a2 -> 1...|{1, 2, 3}|2018-07-03 14:01:04|\n",
            "+-------+----------+--------------+--------+--------------------+--------------------+---------+-------------------+\n",
            "\n"
          ]
        }
      ],
      "source": [
        "df_spark = sqlContext.createDataFrame(df_pandas).show()  \n",
        "df_spark"
      ]
    }
  ],
  "metadata": {
    "kernelspec": {
      "display_name": "Python 3",
      "language": "python",
      "name": "python3"
    },
    "language_info": {
      "codemirror_mode": {
        "name": "ipython",
        "version": 3
      },
      "file_extension": ".py",
      "mimetype": "text/x-python",
      "name": "python",
      "nbconvert_exporter": "python",
      "pygments_lexer": "ipython3",
      "version": "3.6.3"
    },
    "colab": {
      "provenance": [],
      "include_colab_link": true
    }
  },
  "nbformat": 4,
  "nbformat_minor": 0
}