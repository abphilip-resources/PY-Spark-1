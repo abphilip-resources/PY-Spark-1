{
  "cells": [
    {
      "cell_type": "markdown",
      "metadata": {
        "id": "view-in-github",
        "colab_type": "text"
      },
      "source": [
        "<a href=\"https://colab.research.google.com/github/abphilip-resources/PY-Spark-1/blob/master/1.ipynb\" target=\"_parent\"><img src=\"https://colab.research.google.com/assets/colab-badge.svg\" alt=\"Open In Colab\"/></a>"
      ]
    },
    {
      "cell_type": "markdown",
      "source": [
        "# Exploring Apache Spark : 1"
      ],
      "metadata": {
        "id": "cfjFQAcTryL_"
      }
    },
    {
      "cell_type": "markdown",
      "source": [
        "#### Check existing versions"
      ],
      "metadata": {
        "id": "bWZaYXlVr8is"
      }
    },
    {
      "cell_type": "code",
      "execution_count": 1,
      "metadata": {
        "id": "6rQmQ9eXrwyn",
        "outputId": "d9dc9112-ecf7-4a4e-9695-02658734cbf7",
        "colab": {
          "base_uri": "https://localhost:8080/"
        }
      },
      "outputs": [
        {
          "output_type": "stream",
          "name": "stdout",
          "text": [
            "openjdk version \"11.0.16\" 2022-07-19\n",
            "OpenJDK Runtime Environment (build 11.0.16+8-post-Ubuntu-0ubuntu118.04)\n",
            "OpenJDK 64-Bit Server VM (build 11.0.16+8-post-Ubuntu-0ubuntu118.04, mixed mode, sharing)\n"
          ]
        }
      ],
      "source": [
        "!java -version"
      ]
    },
    {
      "cell_type": "code",
      "execution_count": 2,
      "metadata": {
        "id": "3n5yUsQTrwyy",
        "outputId": "dc3fea99-e02d-4e9c-8dfc-6e6fd986eba5",
        "colab": {
          "base_uri": "https://localhost:8080/"
        }
      },
      "outputs": [
        {
          "output_type": "stream",
          "name": "stdout",
          "text": [
            "Python 3.7.15\n"
          ]
        }
      ],
      "source": [
        "!python --version"
      ]
    },
    {
      "cell_type": "markdown",
      "metadata": {
        "id": "4KMF4Dberwy0"
      },
      "source": [
        "#### Install PySpark\n",
        "If you have an old installation of spark which involved setting up environment variables in your .bash_profile, you will need to clear those as they will affect the running of this new pyspark installation."
      ]
    },
    {
      "cell_type": "code",
      "execution_count": 3,
      "metadata": {
        "id": "LROH08XPrwy3",
        "outputId": "0bc06945-40b5-4999-87c4-9dca5269ccbe",
        "colab": {
          "base_uri": "https://localhost:8080/"
        }
      },
      "outputs": [
        {
          "output_type": "stream",
          "name": "stdout",
          "text": [
            "Looking in indexes: https://pypi.org/simple, https://us-python.pkg.dev/colab-wheels/public/simple/\n",
            "Collecting pyspark\n",
            "  Downloading pyspark-3.3.1.tar.gz (281.4 MB)\n",
            "\u001b[K     |████████████████████████████████| 281.4 MB 46 kB/s \n",
            "\u001b[?25hCollecting py4j==0.10.9.5\n",
            "  Downloading py4j-0.10.9.5-py2.py3-none-any.whl (199 kB)\n",
            "\u001b[K     |████████████████████████████████| 199 kB 52.7 MB/s \n",
            "\u001b[?25hBuilding wheels for collected packages: pyspark\n",
            "  Building wheel for pyspark (setup.py) ... \u001b[?25l\u001b[?25hdone\n",
            "  Created wheel for pyspark: filename=pyspark-3.3.1-py2.py3-none-any.whl size=281845513 sha256=be54c6d90e38fd86ee3f87f569994448d71a84eb8cc0b8086a3c3746b9435173\n",
            "  Stored in directory: /root/.cache/pip/wheels/42/59/f5/79a5bf931714dcd201b26025347785f087370a10a3329a899c\n",
            "Successfully built pyspark\n",
            "Installing collected packages: py4j, pyspark\n",
            "Successfully installed py4j-0.10.9.5 pyspark-3.3.1\n"
          ]
        }
      ],
      "source": [
        "!pip install pyspark"
      ]
    },
    {
      "cell_type": "markdown",
      "metadata": {
        "id": "DWN6qDNWrwy5"
      },
      "source": [
        "## RDDs and DataFrames\n",
        "\n",
        "* Creating RDDs and DataFrames using SparkContext\n",
        "* Interoperability between RDDs and DataFrames\n",
        "* Multiple rows and multiple column specifications for DataFrames\n",
        "* Creating DataFrames using SQLContext\n",
        "* Selecting, editing and renaming columns in dataframes\n",
        "* Interoperability between Pandas and Spark dataframes"
      ]
    },
    {
      "cell_type": "code",
      "execution_count": 4,
      "metadata": {
        "collapsed": true,
        "id": "qPqfd89erwy7"
      },
      "outputs": [],
      "source": [
        "import pyspark"
      ]
    },
    {
      "cell_type": "code",
      "execution_count": 5,
      "metadata": {
        "collapsed": true,
        "id": "CIq2LwHnrwy9"
      },
      "outputs": [],
      "source": [
        "from pyspark import SparkContext\n",
        "from pyspark.sql import SQLContext\n",
        "from pyspark.sql import SparkSession"
      ]
    },
    {
      "cell_type": "code",
      "execution_count": 6,
      "metadata": {
        "id": "Clg2Imjurwy_"
      },
      "outputs": [],
      "source": [
        "sc = SparkContext()\n",
        "spark = SparkSession(sc)"
      ]
    },
    {
      "cell_type": "code",
      "execution_count": 7,
      "metadata": {
        "collapsed": true,
        "id": "hdOPijC9rwzG"
      },
      "outputs": [],
      "source": [
        "from pyspark.sql.types import Row\n",
        "from datetime import datetime"
      ]
    },
    {
      "cell_type": "markdown",
      "metadata": {
        "id": "C8YbfgVDrwzH"
      },
      "source": [
        "#### Creating RDDs using sc.parallelize()"
      ]
    },
    {
      "cell_type": "markdown",
      "source": [
        "We effectively create one row of data storing information about a car in a dealership:\n",
        "* the first element is the index \n",
        "* the second element is the name of the car\n",
        "* thirdly, we store the quantity of cars in our inventory"
      ],
      "metadata": {
        "id": "pwFkCtE7tj0G"
      }
    },
    {
      "cell_type": "code",
      "execution_count": 8,
      "metadata": {
        "id": "c10lJp_1rwzJ",
        "outputId": "2bd2cd24-19bc-4434-c887-fd8c6eaca981",
        "colab": {
          "base_uri": "https://localhost:8080/"
        }
      },
      "outputs": [
        {
          "output_type": "execute_result",
          "data": {
            "text/plain": [
              "ParallelCollectionRDD[0] at readRDDFromFile at PythonRDD.scala:274"
            ]
          },
          "metadata": {},
          "execution_count": 8
        }
      ],
      "source": [
        "simple_data = sc.parallelize([1, \"Nissan Versa\", 12])\n",
        "simple_data"
      ]
    },
    {
      "cell_type": "markdown",
      "metadata": {
        "id": "NaCTj2OgrwzK"
      },
      "source": [
        "#### The count() function"
      ]
    },
    {
      "cell_type": "markdown",
      "source": [
        "This returns the number of elements in the RDD. Each element in the list is now an element of the RDD"
      ],
      "metadata": {
        "id": "GbpGDShntmJs"
      }
    },
    {
      "cell_type": "code",
      "execution_count": 9,
      "metadata": {
        "id": "cnvq78POrwzL",
        "outputId": "2733d2a7-97f6-480c-e8f4-7e149fe41c8b",
        "colab": {
          "base_uri": "https://localhost:8080/"
        }
      },
      "outputs": [
        {
          "output_type": "execute_result",
          "data": {
            "text/plain": [
              "3"
            ]
          },
          "metadata": {},
          "execution_count": 9
        }
      ],
      "source": [
        "simple_data.count()"
      ]
    },
    {
      "cell_type": "markdown",
      "metadata": {
        "id": "ENo4cCUZrwzM"
      },
      "source": [
        "#### The first() function"
      ]
    },
    {
      "cell_type": "markdown",
      "source": [
        "This returns the first element of the RDD"
      ],
      "metadata": {
        "id": "aMHPB6ZOtp0T"
      }
    },
    {
      "cell_type": "code",
      "execution_count": 10,
      "metadata": {
        "id": "TNdnYZBOrwzM",
        "outputId": "13286516-bc4f-4fe0-fd1e-f38d5b05323a",
        "colab": {
          "base_uri": "https://localhost:8080/"
        }
      },
      "outputs": [
        {
          "output_type": "execute_result",
          "data": {
            "text/plain": [
              "1"
            ]
          },
          "metadata": {},
          "execution_count": 10
        }
      ],
      "source": [
        "simple_data.first()"
      ]
    },
    {
      "cell_type": "markdown",
      "metadata": {
        "id": "AG9PdioUrwzN"
      },
      "source": [
        "#### The take() function"
      ]
    },
    {
      "cell_type": "markdown",
      "source": [
        "This will return the first n elements of the RDD where n is the argument passed to the function"
      ],
      "metadata": {
        "id": "4-0ZNgFytu3W"
      }
    },
    {
      "cell_type": "code",
      "execution_count": 11,
      "metadata": {
        "id": "_r1xq6RGrwzO",
        "outputId": "a73ecd2a-ca61-4209-d2c1-b4c0866d1c5c",
        "colab": {
          "base_uri": "https://localhost:8080/"
        }
      },
      "outputs": [
        {
          "output_type": "execute_result",
          "data": {
            "text/plain": [
              "[1, 'Nissan Versa']"
            ]
          },
          "metadata": {},
          "execution_count": 11
        }
      ],
      "source": [
        "simple_data.take(2)"
      ]
    },
    {
      "cell_type": "markdown",
      "metadata": {
        "id": "bBzr-PmurwzO"
      },
      "source": [
        "#### The collect() function\n",
        "Returns a list containing all the elements in the RDD. We get a 1D list with the 3 elements"
      ]
    },
    {
      "cell_type": "code",
      "execution_count": null,
      "metadata": {
        "id": "uJPoHhlJrwzP",
        "outputId": "ec355896-b54b-4239-d310-ddfc69b223ac"
      },
      "outputs": [
        {
          "data": {
            "text/plain": [
              "[1, 'Nissan Versa', 12]"
            ]
          },
          "execution_count": 13,
          "metadata": {},
          "output_type": "execute_result"
        }
      ],
      "source": [
        "simple_data.collect()"
      ]
    },
    {
      "cell_type": "markdown",
      "metadata": {
        "id": "Esgp8FiCrwzQ"
      },
      "source": [
        "#### Convert the RDD to a DataFrame\n",
        "Converting the current RDD to a DataFrame results in an error as it's 1-dimensional\n",
        "\n",
        "* This RDD does not have \"columns\", it cannot be represented as a tabular data frame\n",
        "* DataFrames are structured datasets"
      ]
    },
    {
      "cell_type": "code",
      "execution_count": null,
      "metadata": {
        "id": "fawbdzYIrwzQ",
        "outputId": "38c04f33-796f-4713-9d44-0c66fb4f02bf"
      },
      "outputs": [
        {
          "ename": "TypeError",
          "evalue": "Can not infer schema for type: <class 'int'>",
          "output_type": "error",
          "traceback": [
            "\u001b[0;31m---------------------------------------------------------------------------\u001b[0m",
            "\u001b[0;31mTypeError\u001b[0m                                 Traceback (most recent call last)",
            "\u001b[0;32m<ipython-input-14-88e2b3e8db63>\u001b[0m in \u001b[0;36m<module>\u001b[0;34m()\u001b[0m\n\u001b[0;32m----> 1\u001b[0;31m \u001b[0mdf\u001b[0m \u001b[0;34m=\u001b[0m \u001b[0msimple_data\u001b[0m\u001b[0;34m.\u001b[0m\u001b[0mtoDF\u001b[0m\u001b[0;34m(\u001b[0m\u001b[0;34m)\u001b[0m\u001b[0;34m\u001b[0m\u001b[0m\n\u001b[0m",
            "\u001b[0;32m~/anaconda3/lib/python3.6/site-packages/pyspark/sql/session.py\u001b[0m in \u001b[0;36mtoDF\u001b[0;34m(self, schema, sampleRatio)\u001b[0m\n\u001b[1;32m     56\u001b[0m         \u001b[0;34m[\u001b[0m\u001b[0mRow\u001b[0m\u001b[0;34m(\u001b[0m\u001b[0mname\u001b[0m\u001b[0;34m=\u001b[0m\u001b[0;34mu'Alice'\u001b[0m\u001b[0;34m,\u001b[0m \u001b[0mage\u001b[0m\u001b[0;34m=\u001b[0m\u001b[0;36m1\u001b[0m\u001b[0;34m)\u001b[0m\u001b[0;34m]\u001b[0m\u001b[0;34m\u001b[0m\u001b[0m\n\u001b[1;32m     57\u001b[0m         \"\"\"\n\u001b[0;32m---> 58\u001b[0;31m         \u001b[0;32mreturn\u001b[0m \u001b[0msparkSession\u001b[0m\u001b[0;34m.\u001b[0m\u001b[0mcreateDataFrame\u001b[0m\u001b[0;34m(\u001b[0m\u001b[0mself\u001b[0m\u001b[0;34m,\u001b[0m \u001b[0mschema\u001b[0m\u001b[0;34m,\u001b[0m \u001b[0msampleRatio\u001b[0m\u001b[0;34m)\u001b[0m\u001b[0;34m\u001b[0m\u001b[0m\n\u001b[0m\u001b[1;32m     59\u001b[0m \u001b[0;34m\u001b[0m\u001b[0m\n\u001b[1;32m     60\u001b[0m     \u001b[0mRDD\u001b[0m\u001b[0;34m.\u001b[0m\u001b[0mtoDF\u001b[0m \u001b[0;34m=\u001b[0m \u001b[0mtoDF\u001b[0m\u001b[0;34m\u001b[0m\u001b[0m\n",
            "\u001b[0;32m~/anaconda3/lib/python3.6/site-packages/pyspark/sql/session.py\u001b[0m in \u001b[0;36mcreateDataFrame\u001b[0;34m(self, data, schema, samplingRatio, verifySchema)\u001b[0m\n\u001b[1;32m    687\u001b[0m \u001b[0;34m\u001b[0m\u001b[0m\n\u001b[1;32m    688\u001b[0m         \u001b[0;32mif\u001b[0m \u001b[0misinstance\u001b[0m\u001b[0;34m(\u001b[0m\u001b[0mdata\u001b[0m\u001b[0;34m,\u001b[0m \u001b[0mRDD\u001b[0m\u001b[0;34m)\u001b[0m\u001b[0;34m:\u001b[0m\u001b[0;34m\u001b[0m\u001b[0m\n\u001b[0;32m--> 689\u001b[0;31m             \u001b[0mrdd\u001b[0m\u001b[0;34m,\u001b[0m \u001b[0mschema\u001b[0m \u001b[0;34m=\u001b[0m \u001b[0mself\u001b[0m\u001b[0;34m.\u001b[0m\u001b[0m_createFromRDD\u001b[0m\u001b[0;34m(\u001b[0m\u001b[0mdata\u001b[0m\u001b[0;34m.\u001b[0m\u001b[0mmap\u001b[0m\u001b[0;34m(\u001b[0m\u001b[0mprepare\u001b[0m\u001b[0;34m)\u001b[0m\u001b[0;34m,\u001b[0m \u001b[0mschema\u001b[0m\u001b[0;34m,\u001b[0m \u001b[0msamplingRatio\u001b[0m\u001b[0;34m)\u001b[0m\u001b[0;34m\u001b[0m\u001b[0m\n\u001b[0m\u001b[1;32m    690\u001b[0m         \u001b[0;32melse\u001b[0m\u001b[0;34m:\u001b[0m\u001b[0;34m\u001b[0m\u001b[0m\n\u001b[1;32m    691\u001b[0m             \u001b[0mrdd\u001b[0m\u001b[0;34m,\u001b[0m \u001b[0mschema\u001b[0m \u001b[0;34m=\u001b[0m \u001b[0mself\u001b[0m\u001b[0;34m.\u001b[0m\u001b[0m_createFromLocal\u001b[0m\u001b[0;34m(\u001b[0m\u001b[0mmap\u001b[0m\u001b[0;34m(\u001b[0m\u001b[0mprepare\u001b[0m\u001b[0;34m,\u001b[0m \u001b[0mdata\u001b[0m\u001b[0;34m)\u001b[0m\u001b[0;34m,\u001b[0m \u001b[0mschema\u001b[0m\u001b[0;34m)\u001b[0m\u001b[0;34m\u001b[0m\u001b[0m\n",
            "\u001b[0;32m~/anaconda3/lib/python3.6/site-packages/pyspark/sql/session.py\u001b[0m in \u001b[0;36m_createFromRDD\u001b[0;34m(self, rdd, schema, samplingRatio)\u001b[0m\n\u001b[1;32m    382\u001b[0m         \"\"\"\n\u001b[1;32m    383\u001b[0m         \u001b[0;32mif\u001b[0m \u001b[0mschema\u001b[0m \u001b[0;32mis\u001b[0m \u001b[0;32mNone\u001b[0m \u001b[0;32mor\u001b[0m \u001b[0misinstance\u001b[0m\u001b[0;34m(\u001b[0m\u001b[0mschema\u001b[0m\u001b[0;34m,\u001b[0m \u001b[0;34m(\u001b[0m\u001b[0mlist\u001b[0m\u001b[0;34m,\u001b[0m \u001b[0mtuple\u001b[0m\u001b[0;34m)\u001b[0m\u001b[0;34m)\u001b[0m\u001b[0;34m:\u001b[0m\u001b[0;34m\u001b[0m\u001b[0m\n\u001b[0;32m--> 384\u001b[0;31m             \u001b[0mstruct\u001b[0m \u001b[0;34m=\u001b[0m \u001b[0mself\u001b[0m\u001b[0;34m.\u001b[0m\u001b[0m_inferSchema\u001b[0m\u001b[0;34m(\u001b[0m\u001b[0mrdd\u001b[0m\u001b[0;34m,\u001b[0m \u001b[0msamplingRatio\u001b[0m\u001b[0;34m,\u001b[0m \u001b[0mnames\u001b[0m\u001b[0;34m=\u001b[0m\u001b[0mschema\u001b[0m\u001b[0;34m)\u001b[0m\u001b[0;34m\u001b[0m\u001b[0m\n\u001b[0m\u001b[1;32m    385\u001b[0m             \u001b[0mconverter\u001b[0m \u001b[0;34m=\u001b[0m \u001b[0m_create_converter\u001b[0m\u001b[0;34m(\u001b[0m\u001b[0mstruct\u001b[0m\u001b[0;34m)\u001b[0m\u001b[0;34m\u001b[0m\u001b[0m\n\u001b[1;32m    386\u001b[0m             \u001b[0mrdd\u001b[0m \u001b[0;34m=\u001b[0m \u001b[0mrdd\u001b[0m\u001b[0;34m.\u001b[0m\u001b[0mmap\u001b[0m\u001b[0;34m(\u001b[0m\u001b[0mconverter\u001b[0m\u001b[0;34m)\u001b[0m\u001b[0;34m\u001b[0m\u001b[0m\n",
            "\u001b[0;32m~/anaconda3/lib/python3.6/site-packages/pyspark/sql/session.py\u001b[0m in \u001b[0;36m_inferSchema\u001b[0;34m(self, rdd, samplingRatio, names)\u001b[0m\n\u001b[1;32m    362\u001b[0m \u001b[0;34m\u001b[0m\u001b[0m\n\u001b[1;32m    363\u001b[0m         \u001b[0;32mif\u001b[0m \u001b[0msamplingRatio\u001b[0m \u001b[0;32mis\u001b[0m \u001b[0;32mNone\u001b[0m\u001b[0;34m:\u001b[0m\u001b[0;34m\u001b[0m\u001b[0m\n\u001b[0;32m--> 364\u001b[0;31m             \u001b[0mschema\u001b[0m \u001b[0;34m=\u001b[0m \u001b[0m_infer_schema\u001b[0m\u001b[0;34m(\u001b[0m\u001b[0mfirst\u001b[0m\u001b[0;34m,\u001b[0m \u001b[0mnames\u001b[0m\u001b[0;34m=\u001b[0m\u001b[0mnames\u001b[0m\u001b[0;34m)\u001b[0m\u001b[0;34m\u001b[0m\u001b[0m\n\u001b[0m\u001b[1;32m    365\u001b[0m             \u001b[0;32mif\u001b[0m \u001b[0m_has_nulltype\u001b[0m\u001b[0;34m(\u001b[0m\u001b[0mschema\u001b[0m\u001b[0;34m)\u001b[0m\u001b[0;34m:\u001b[0m\u001b[0;34m\u001b[0m\u001b[0m\n\u001b[1;32m    366\u001b[0m                 \u001b[0;32mfor\u001b[0m \u001b[0mrow\u001b[0m \u001b[0;32min\u001b[0m \u001b[0mrdd\u001b[0m\u001b[0;34m.\u001b[0m\u001b[0mtake\u001b[0m\u001b[0;34m(\u001b[0m\u001b[0;36m100\u001b[0m\u001b[0;34m)\u001b[0m\u001b[0;34m[\u001b[0m\u001b[0;36m1\u001b[0m\u001b[0;34m:\u001b[0m\u001b[0;34m]\u001b[0m\u001b[0;34m:\u001b[0m\u001b[0;34m\u001b[0m\u001b[0m\n",
            "\u001b[0;32m~/anaconda3/lib/python3.6/site-packages/pyspark/sql/types.py\u001b[0m in \u001b[0;36m_infer_schema\u001b[0;34m(row, names)\u001b[0m\n\u001b[1;32m   1092\u001b[0m \u001b[0;34m\u001b[0m\u001b[0m\n\u001b[1;32m   1093\u001b[0m     \u001b[0;32melse\u001b[0m\u001b[0;34m:\u001b[0m\u001b[0;34m\u001b[0m\u001b[0m\n\u001b[0;32m-> 1094\u001b[0;31m         \u001b[0;32mraise\u001b[0m \u001b[0mTypeError\u001b[0m\u001b[0;34m(\u001b[0m\u001b[0;34m\"Can not infer schema for type: %s\"\u001b[0m \u001b[0;34m%\u001b[0m \u001b[0mtype\u001b[0m\u001b[0;34m(\u001b[0m\u001b[0mrow\u001b[0m\u001b[0;34m)\u001b[0m\u001b[0;34m)\u001b[0m\u001b[0;34m\u001b[0m\u001b[0m\n\u001b[0m\u001b[1;32m   1095\u001b[0m \u001b[0;34m\u001b[0m\u001b[0m\n\u001b[1;32m   1096\u001b[0m     \u001b[0mfields\u001b[0m \u001b[0;34m=\u001b[0m \u001b[0;34m[\u001b[0m\u001b[0mStructField\u001b[0m\u001b[0;34m(\u001b[0m\u001b[0mk\u001b[0m\u001b[0;34m,\u001b[0m \u001b[0m_infer_type\u001b[0m\u001b[0;34m(\u001b[0m\u001b[0mv\u001b[0m\u001b[0;34m)\u001b[0m\u001b[0;34m,\u001b[0m \u001b[0;32mTrue\u001b[0m\u001b[0;34m)\u001b[0m \u001b[0;32mfor\u001b[0m \u001b[0mk\u001b[0m\u001b[0;34m,\u001b[0m \u001b[0mv\u001b[0m \u001b[0;32min\u001b[0m \u001b[0mitems\u001b[0m\u001b[0;34m]\u001b[0m\u001b[0;34m\u001b[0m\u001b[0m\n",
            "\u001b[0;31mTypeError\u001b[0m: Can not infer schema for type: <class 'int'>"
          ]
        }
      ],
      "source": [
        "df = simple_data.toDF()"
      ]
    },
    {
      "cell_type": "markdown",
      "metadata": {
        "id": "z3YGQpoZrwzR"
      },
      "source": [
        "#### RDDs with records using sc.parallelize()\n",
        "We effectively create two rows of data by passing in two lists to sc.parallelize()"
      ]
    },
    {
      "cell_type": "code",
      "execution_count": null,
      "metadata": {
        "id": "Kp2ppbixrwzR",
        "outputId": "75e4cdff-2e26-4225-d667-aebb66ef1ae6"
      },
      "outputs": [
        {
          "data": {
            "text/plain": [
              "ParallelCollectionRDD[8] at parallelize at PythonRDD.scala:194"
            ]
          },
          "execution_count": 15,
          "metadata": {},
          "output_type": "execute_result"
        }
      ],
      "source": [
        "records = sc.parallelize([[1, \"Nissan Versa\", 12],\n",
        "                          [2, \"Ford Fiesta\", 9]])\n",
        "records"
      ]
    },
    {
      "cell_type": "markdown",
      "metadata": {
        "id": "S8vKXQNHrwzS"
      },
      "source": [
        "#### The number of records corresponds to the number of rows\n",
        "Even though we have twice as much data in this RDD as in the previous one we created, the count() returns only two elements"
      ]
    },
    {
      "cell_type": "code",
      "execution_count": null,
      "metadata": {
        "id": "3d_1t0sMrwzS",
        "outputId": "4bf65a41-6331-4077-b181-7e448ae96b33"
      },
      "outputs": [
        {
          "data": {
            "text/plain": [
              "2"
            ]
          },
          "execution_count": 16,
          "metadata": {},
          "output_type": "execute_result"
        }
      ],
      "source": [
        "records.count()"
      ]
    },
    {
      "cell_type": "markdown",
      "metadata": {
        "id": "6muDZq7orwzS"
      },
      "source": [
        "#### The RDD is now effectively a list of lists\n",
        "While the previous RDD contained a 1D list, this one contains two elements each of which is a 1D list - giving a 2D list."
      ]
    },
    {
      "cell_type": "code",
      "execution_count": null,
      "metadata": {
        "id": "w4ZgVNDKrwzS",
        "outputId": "e5160d7f-0296-46d7-a9f0-1a6ae49a41db"
      },
      "outputs": [
        {
          "data": {
            "text/plain": [
              "[[1, 'Nissan Versa', 12], [2, 'Ford Fiesta', 9]]"
            ]
          },
          "execution_count": 17,
          "metadata": {},
          "output_type": "execute_result"
        }
      ],
      "source": [
        "records.collect()"
      ]
    },
    {
      "cell_type": "markdown",
      "metadata": {
        "id": "ekzQklgRrwzT"
      },
      "source": [
        "#### The first element is a list\n",
        "Effectively the first \"row\" in the RDD"
      ]
    },
    {
      "cell_type": "code",
      "execution_count": null,
      "metadata": {
        "id": "w2EeBQBFrwzT",
        "outputId": "2c671ed2-1dec-4647-f94b-849dcbe8cc17"
      },
      "outputs": [
        {
          "data": {
            "text/plain": [
              "[1, 'Nissan Versa', 12]"
            ]
          },
          "execution_count": 18,
          "metadata": {},
          "output_type": "execute_result"
        }
      ],
      "source": [
        "records.first()"
      ]
    },
    {
      "cell_type": "code",
      "execution_count": null,
      "metadata": {
        "id": "RTfqD5BjrwzU",
        "outputId": "8b549432-fbfa-4df6-a7a4-30adfff9ae47"
      },
      "outputs": [
        {
          "data": {
            "text/plain": [
              "[[1, 'Nissan Versa', 12], [2, 'Ford Fiesta', 9]]"
            ]
          },
          "execution_count": 19,
          "metadata": {},
          "output_type": "execute_result"
        }
      ],
      "source": [
        "records.take(2)"
      ]
    },
    {
      "cell_type": "markdown",
      "metadata": {
        "id": "O4PHiZGfrwzU"
      },
      "source": [
        "#### This RDD can be converted to a DataFrame\n",
        "This RDD does have \"columns\", it can be represented as a tabular data frame"
      ]
    },
    {
      "cell_type": "code",
      "execution_count": null,
      "metadata": {
        "collapsed": true,
        "id": "XejUcZjGrwzU"
      },
      "outputs": [],
      "source": [
        "df = records.toDF()"
      ]
    },
    {
      "cell_type": "markdown",
      "metadata": {
        "id": "_VY-y6H8rwzU"
      },
      "source": [
        "#### The DataFrame has automatically detected the types of the data\n"
      ]
    },
    {
      "cell_type": "code",
      "execution_count": null,
      "metadata": {
        "id": "1rB20zNrrwzU",
        "outputId": "5e6dd182-b73a-4c40-e076-823dcf61ea44"
      },
      "outputs": [
        {
          "data": {
            "text/plain": [
              "DataFrame[_1: bigint, _2: string, _3: bigint]"
            ]
          },
          "execution_count": 21,
          "metadata": {},
          "output_type": "execute_result"
        }
      ],
      "source": [
        "df"
      ]
    },
    {
      "cell_type": "code",
      "execution_count": null,
      "metadata": {
        "id": "Xj9BJkRFrwzV",
        "outputId": "580a86b9-ae92-436f-d007-aa822aa3c6c8"
      },
      "outputs": [
        {
          "data": {
            "text/plain": [
              "pyspark.sql.dataframe.DataFrame"
            ]
          },
          "execution_count": 22,
          "metadata": {},
          "output_type": "execute_result"
        }
      ],
      "source": [
        "type(df)"
      ]
    },
    {
      "cell_type": "markdown",
      "metadata": {
        "id": "gtIjyzcirwzV"
      },
      "source": [
        "#### The show() function for a DataFrame\n",
        "By default it returns the first 20 rows of the DataFrame. We can pass in the number of rows to return as an argument"
      ]
    },
    {
      "cell_type": "code",
      "execution_count": null,
      "metadata": {
        "id": "Z8tn_n0IrwzV",
        "outputId": "c3746454-819e-4a67-9580-68558fdd2da2"
      },
      "outputs": [
        {
          "name": "stdout",
          "output_type": "stream",
          "text": [
            "+---+------------+---+\n",
            "| _1|          _2| _3|\n",
            "+---+------------+---+\n",
            "|  1|Nissan Versa| 12|\n",
            "|  2| Ford Fiesta|  9|\n",
            "+---+------------+---+\n",
            "\n"
          ]
        }
      ],
      "source": [
        "df.show()"
      ]
    },
    {
      "cell_type": "markdown",
      "metadata": {
        "id": "hipRBXg5rwzW"
      },
      "source": [
        "#### Creating dataframes using sc.parallelize() and Row() functions\n",
        "Row functions allow specifying column names for dataframes"
      ]
    },
    {
      "cell_type": "code",
      "execution_count": null,
      "metadata": {
        "id": "YeuZIXNBrwzW",
        "outputId": "8eacde01-d8d9-409a-d3b8-b783b55ea864"
      },
      "outputs": [
        {
          "data": {
            "text/plain": [
              "ParallelCollectionRDD[24] at parallelize at PythonRDD.scala:194"
            ]
          },
          "execution_count": 24,
          "metadata": {},
          "output_type": "execute_result"
        }
      ],
      "source": [
        "data = sc.parallelize([Row(index = 1,\n",
        "                           vehicle_name = \"Nissan Versa\",\n",
        "                           vehicle_stock = 12)])\n",
        "data"
      ]
    },
    {
      "cell_type": "markdown",
      "metadata": {
        "id": "JB4s2-9KrwzW"
      },
      "source": [
        "#### This RDD contains a single Row element"
      ]
    },
    {
      "cell_type": "code",
      "execution_count": null,
      "metadata": {
        "id": "M6_kZMjHrwzW",
        "outputId": "f53bd4ed-6a0b-46b7-abd2-5de09d962746"
      },
      "outputs": [
        {
          "data": {
            "text/plain": [
              "1"
            ]
          },
          "execution_count": 25,
          "metadata": {},
          "output_type": "execute_result"
        }
      ],
      "source": [
        "data.count()"
      ]
    },
    {
      "cell_type": "code",
      "execution_count": null,
      "metadata": {
        "id": "4bz8dhEprwzX",
        "outputId": "7a38fc64-38dc-4402-da89-a32d88e489b4"
      },
      "outputs": [
        {
          "data": {
            "text/plain": [
              "[Row(index=1, vehicle_name='Nissan Versa', vehicle_stock=12)]"
            ]
          },
          "execution_count": 26,
          "metadata": {},
          "output_type": "execute_result"
        }
      ],
      "source": [
        "data.collect()"
      ]
    },
    {
      "cell_type": "code",
      "execution_count": null,
      "metadata": {
        "id": "QBU36xoTrwzX",
        "outputId": "18615ec8-7ce8-445e-a54a-da36a6f308f5"
      },
      "outputs": [
        {
          "name": "stdout",
          "output_type": "stream",
          "text": [
            "+-----+------------+-------------+\n",
            "|index|vehicle_name|vehicle_stock|\n",
            "+-----+------------+-------------+\n",
            "|    1|Nissan Versa|           12|\n",
            "+-----+------------+-------------+\n",
            "\n"
          ]
        }
      ],
      "source": [
        "df = data.toDF()\n",
        "df.show()"
      ]
    },
    {
      "cell_type": "markdown",
      "metadata": {
        "id": "SX2yzGdUrwzX"
      },
      "source": [
        "#### Working with multiple rows"
      ]
    },
    {
      "cell_type": "code",
      "execution_count": null,
      "metadata": {
        "id": "jqHiqZkCrwzX",
        "outputId": "9402282e-4d69-4709-85fe-cc8b6eb4357b"
      },
      "outputs": [
        {
          "data": {
            "text/plain": [
              "ParallelCollectionRDD[36] at parallelize at PythonRDD.scala:194"
            ]
          },
          "execution_count": 28,
          "metadata": {},
          "output_type": "execute_result"
        }
      ],
      "source": [
        "data = sc.parallelize([Row(index = 1,\n",
        "                       vehicle_name = \"Nissan Versa\",\n",
        "                       vehicle_stock = 12\n",
        "                       ),\n",
        "                       Row(index = 2,\n",
        "                       vehicle_name = \"Ford Fiesta\",\n",
        "                       vehicle_stock = 9\n",
        "                       ),\n",
        "                       Row(index = 3,\n",
        "                       vehicle_name = \"Hyundai Accent\",\n",
        "                       vehicle_stock = 8)])\n",
        "data"
      ]
    },
    {
      "cell_type": "code",
      "execution_count": null,
      "metadata": {
        "id": "iUxC0RtirwzY",
        "outputId": "a1140c6a-c55d-4a99-c924-0a991d18b987"
      },
      "outputs": [
        {
          "name": "stdout",
          "output_type": "stream",
          "text": [
            "+-----+--------------+-------------+\n",
            "|index|  vehicle_name|vehicle_stock|\n",
            "+-----+--------------+-------------+\n",
            "|    1|  Nissan Versa|           12|\n",
            "|    2|   Ford Fiesta|            9|\n",
            "|    3|Hyundai Accent|            8|\n",
            "+-----+--------------+-------------+\n",
            "\n"
          ]
        }
      ],
      "source": [
        "df = data.toDF()\n",
        "df.show()"
      ]
    },
    {
      "cell_type": "markdown",
      "metadata": {
        "id": "COFo7x_HrwzZ"
      },
      "source": [
        "#### Multiple columns with complex data types\n",
        "Here, we highlight many of the different data types which we can store in an RDD. We start with a string, float and integer"
      ]
    },
    {
      "cell_type": "code",
      "execution_count": null,
      "metadata": {
        "collapsed": true,
        "id": "Ine90wTcrwzZ"
      },
      "outputs": [],
      "source": [
        "complex_data = sc.parallelize([Row(\n",
        "                               col_string = \"Alice\",\n",
        "                               col_double = 3.14,\n",
        "                               col_integer = 20)\n",
        "                              ])"
      ]
    },
    {
      "cell_type": "code",
      "execution_count": null,
      "metadata": {
        "id": "ML_ZVkiTrwzZ",
        "outputId": "8a2df170-9060-4607-d597-76ef980f2326"
      },
      "outputs": [
        {
          "name": "stdout",
          "output_type": "stream",
          "text": [
            "+----------+-----------+----------+\n",
            "|col_double|col_integer|col_string|\n",
            "+----------+-----------+----------+\n",
            "|      3.14|         20|     Alice|\n",
            "+----------+-----------+----------+\n",
            "\n"
          ]
        }
      ],
      "source": [
        "complex_data_df = complex_data.toDF()\n",
        "complex_data_df.show()"
      ]
    },
    {
      "cell_type": "code",
      "execution_count": null,
      "metadata": {
        "id": "u2SGPg6Nrwza",
        "outputId": "321795ec-21dc-4399-f0d0-5fb151ee74c2"
      },
      "outputs": [
        {
          "data": {
            "text/plain": [
              "DataFrame[col_double: double, col_integer: bigint, col_string: string]"
            ]
          },
          "execution_count": 32,
          "metadata": {},
          "output_type": "execute_result"
        }
      ],
      "source": [
        "complex_data_df"
      ]
    },
    {
      "cell_type": "code",
      "execution_count": null,
      "metadata": {
        "collapsed": true,
        "id": "6CBGrx_arwza"
      },
      "outputs": [],
      "source": [
        "complex_data = sc.parallelize([Row(\n",
        "                               col_string = \"Alice\",\n",
        "                               col_double = 3.14,\n",
        "                               col_integer = 20,\n",
        "                               col_boolean = True,\n",
        "                               col_list = [2,4,6])\n",
        "                              ])"
      ]
    },
    {
      "cell_type": "code",
      "execution_count": null,
      "metadata": {
        "id": "hIB6C7knrwza",
        "outputId": "4c4867bb-2613-4177-c2c2-7ffc72fcee0b"
      },
      "outputs": [
        {
          "name": "stdout",
          "output_type": "stream",
          "text": [
            "+-----------+----------+-----------+---------+----------+\n",
            "|col_boolean|col_double|col_integer| col_list|col_string|\n",
            "+-----------+----------+-----------+---------+----------+\n",
            "|       true|      3.14|         20|[2, 4, 6]|     Alice|\n",
            "+-----------+----------+-----------+---------+----------+\n",
            "\n"
          ]
        }
      ],
      "source": [
        "complex_data_df = complex_data.toDF()\n",
        "complex_data_df.show()"
      ]
    },
    {
      "cell_type": "code",
      "execution_count": null,
      "metadata": {
        "id": "2cEt4tsqrwzb",
        "outputId": "48271729-f8b5-48d7-9cd1-0d7e6287a796"
      },
      "outputs": [
        {
          "data": {
            "text/plain": [
              "DataFrame[col_boolean: boolean, col_double: double, col_integer: bigint, col_list: array<bigint>, col_string: string]"
            ]
          },
          "execution_count": 35,
          "metadata": {},
          "output_type": "execute_result"
        }
      ],
      "source": [
        "complex_data_df"
      ]
    },
    {
      "cell_type": "markdown",
      "metadata": {
        "id": "IS6Ai3vnrwzc"
      },
      "source": [
        "#### Multiple rows with complex data types\n",
        "Our RDDs can also contain lists, dictionaries, Row types and timestamps"
      ]
    },
    {
      "cell_type": "code",
      "execution_count": null,
      "metadata": {
        "collapsed": true,
        "id": "TYn4B9vQrwzc"
      },
      "outputs": [],
      "source": [
        "complex_data = sc.parallelize([Row(\n",
        "                                col_list = [2,4,6],\n",
        "                                col_dict = {\"a1\": 0},\n",
        "                                col_row = Row(x=15, y=25, z=35),\n",
        "                                col_time = datetime(2018, 7, 1, 14, 1, 2)\n",
        "                            ),              \n",
        "                            Row(\n",
        "                                col_list = [2,4,6,8,10], \n",
        "                                col_dict = {\"a1\": 0,\"a2\": 1 }, \n",
        "                                col_row = Row(x=45, y=55, z=65),\n",
        "                                col_time = datetime(2018, 7, 2, 14, 1, 3)\n",
        "                            ),\n",
        "                            Row(\n",
        "                                col_list = [2,4,6,8,10,12,14], \n",
        "                                col_dict = {\"a1\": 0, \"a2\": 1, \"a3\": 2 }, \n",
        "                                col_row = Row(x=75, y=85, z=95),\n",
        "                                col_time = datetime(2018, 7, 3, 14, 1, 4)\n",
        "                            )]) "
      ]
    },
    {
      "cell_type": "code",
      "execution_count": null,
      "metadata": {
        "id": "pWJBuSIhrwzd",
        "outputId": "7330d2ed-8c59-4a47-c71b-9e840ce50a3f"
      },
      "outputs": [
        {
          "name": "stdout",
          "output_type": "stream",
          "text": [
            "+--------------------+--------------------+------------+-------------------+\n",
            "|            col_dict|            col_list|     col_row|           col_time|\n",
            "+--------------------+--------------------+------------+-------------------+\n",
            "|           [a1 -> 0]|           [2, 4, 6]|[15, 25, 35]|2018-07-01 14:01:02|\n",
            "|  [a1 -> 0, a2 -> 1]|    [2, 4, 6, 8, 10]|[45, 55, 65]|2018-07-02 14:01:03|\n",
            "|[a1 -> 0, a2 -> 1...|[2, 4, 6, 8, 10, ...|[75, 85, 95]|2018-07-03 14:01:04|\n",
            "+--------------------+--------------------+------------+-------------------+\n",
            "\n"
          ]
        }
      ],
      "source": [
        "complex_data_df = complex_data.toDF()\n",
        "complex_data_df.show()"
      ]
    },
    {
      "cell_type": "code",
      "execution_count": null,
      "metadata": {
        "id": "osdCXzMurwzd",
        "outputId": "81d0e564-2048-4b80-977f-e51dc9a54375"
      },
      "outputs": [
        {
          "data": {
            "text/plain": [
              "DataFrame[col_dict: map<string,bigint>, col_list: array<bigint>, col_row: struct<x:bigint,y:bigint,z:bigint>, col_time: timestamp]"
            ]
          },
          "execution_count": 38,
          "metadata": {},
          "output_type": "execute_result"
        }
      ],
      "source": [
        "complex_data_df"
      ]
    },
    {
      "cell_type": "markdown",
      "metadata": {
        "id": "H2qQ-puarwze"
      },
      "source": [
        "#### Creating DataFrames using SQLContext\n",
        "\n",
        "SQLContext can create dataframes directly from raw data"
      ]
    },
    {
      "cell_type": "code",
      "execution_count": null,
      "metadata": {
        "collapsed": true,
        "id": "oE8VK6y_rwze"
      },
      "outputs": [],
      "source": [
        "sqlContext = SQLContext(sc)"
      ]
    },
    {
      "cell_type": "code",
      "execution_count": null,
      "metadata": {
        "id": "kf9G5J-Srwzf",
        "outputId": "7b4f8bff-916b-4abd-a9e6-8702699e882c"
      },
      "outputs": [
        {
          "data": {
            "text/plain": [
              "<pyspark.sql.context.SQLContext at 0x112473f98>"
            ]
          },
          "execution_count": 40,
          "metadata": {},
          "output_type": "execute_result"
        }
      ],
      "source": [
        "sqlContext"
      ]
    },
    {
      "cell_type": "markdown",
      "metadata": {
        "id": "iBaC3g0yrwzf"
      },
      "source": [
        "#### The SQLContext range() function returns a DataFrame\n",
        "This creates a column of 4 integers from 0-3. The name of this column is set to \"id\"."
      ]
    },
    {
      "cell_type": "code",
      "execution_count": null,
      "metadata": {
        "id": "_31Dqv0Arwzf",
        "outputId": "dd6f4b8f-466a-46d0-c165-ee42dd32dba5"
      },
      "outputs": [
        {
          "data": {
            "text/plain": [
              "DataFrame[id: bigint]"
            ]
          },
          "execution_count": 41,
          "metadata": {},
          "output_type": "execute_result"
        }
      ],
      "source": [
        "df = sqlContext.range(4)\n",
        "df"
      ]
    },
    {
      "cell_type": "code",
      "execution_count": null,
      "metadata": {
        "id": "iO3UNTbQrwzg",
        "outputId": "e479f590-0b7f-4080-d881-5f761d61a706"
      },
      "outputs": [
        {
          "name": "stdout",
          "output_type": "stream",
          "text": [
            "+---+\n",
            "| id|\n",
            "+---+\n",
            "|  0|\n",
            "|  1|\n",
            "|  2|\n",
            "|  3|\n",
            "+---+\n",
            "\n"
          ]
        }
      ],
      "source": [
        "df.show()"
      ]
    },
    {
      "cell_type": "code",
      "execution_count": null,
      "metadata": {
        "id": "okcXp4Cxrwzg",
        "outputId": "0304a0e7-73b8-4cc4-e105-594af2df380e"
      },
      "outputs": [
        {
          "data": {
            "text/plain": [
              "4"
            ]
          },
          "execution_count": 43,
          "metadata": {},
          "output_type": "execute_result"
        }
      ],
      "source": [
        "df.count()"
      ]
    },
    {
      "cell_type": "markdown",
      "metadata": {
        "id": "P-o8jtP-rwzh"
      },
      "source": [
        "#### Rows specified in tuples\n",
        "SQLContext DataFrames are specified in the form a list of tuples"
      ]
    },
    {
      "cell_type": "code",
      "execution_count": null,
      "metadata": {
        "collapsed": true,
        "id": "YTKw0GpQrwzi"
      },
      "outputs": [],
      "source": [
        "data = [('Nissan Versa', 12),\n",
        "        ('Ford Fiesta', 9),\n",
        "        ('Hyundai Accent', 8)]"
      ]
    },
    {
      "cell_type": "markdown",
      "metadata": {
        "id": "YThrANOZrwzi"
      },
      "source": [
        "#### The DataFrame is created without column headers"
      ]
    },
    {
      "cell_type": "code",
      "execution_count": null,
      "metadata": {
        "id": "XC5TCZPrrwzj",
        "outputId": "05d9a237-d16d-47c7-8a17-abfd94533b99"
      },
      "outputs": [
        {
          "name": "stdout",
          "output_type": "stream",
          "text": [
            "+--------------+---+\n",
            "|            _1| _2|\n",
            "+--------------+---+\n",
            "|  Nissan Versa| 12|\n",
            "|   Ford Fiesta|  9|\n",
            "|Hyundai Accent|  8|\n",
            "+--------------+---+\n",
            "\n"
          ]
        }
      ],
      "source": [
        "sqlContext.createDataFrame(data).show()"
      ]
    },
    {
      "cell_type": "markdown",
      "metadata": {
        "id": "QKOpcNIXrwzj"
      },
      "source": [
        "#### Set the column names when creating the DataFrame"
      ]
    },
    {
      "cell_type": "code",
      "execution_count": null,
      "metadata": {
        "id": "Sb2XVmr5rwzj",
        "outputId": "327e3da4-6ab0-4315-d5b8-a08a25ec5d1e"
      },
      "outputs": [
        {
          "name": "stdout",
          "output_type": "stream",
          "text": [
            "+--------------+-------------+\n",
            "|  vehicle_name|vehicle_stock|\n",
            "+--------------+-------------+\n",
            "|  Nissan Versa|           12|\n",
            "|   Ford Fiesta|            9|\n",
            "|Hyundai Accent|            8|\n",
            "+--------------+-------------+\n",
            "\n"
          ]
        }
      ],
      "source": [
        "sqlContext.createDataFrame(data, \n",
        "                           ['vehicle_name', 'vehicle_stock']).show()"
      ]
    },
    {
      "cell_type": "markdown",
      "metadata": {
        "id": "iviTa1smrwzk"
      },
      "source": [
        "#### Adding more data to the DataFrame"
      ]
    },
    {
      "cell_type": "code",
      "execution_count": null,
      "metadata": {
        "collapsed": true,
        "id": "DfhuCGplrwzk"
      },
      "outputs": [],
      "source": [
        "complex_data = [\n",
        "                 (1.0,\n",
        "                  12,\n",
        "                  \"Nissan Versa\", \n",
        "                  True, \n",
        "                  [2,4,6], \n",
        "                  {\"a1\": 0},\n",
        "                  Row(x=1, y=2, z=3), \n",
        "                  datetime(2018, 7, 1, 14, 1, 2)),\n",
        "\n",
        "                 (2.0,\n",
        "                  13,\n",
        "                  \"Ford Fiesta\", \n",
        "                  True, \n",
        "                  [2,4,6,8,10], \n",
        "                  {\"a1\": 0,\"a2\": 1 }, \n",
        "                  Row(x=1, y=2, z=3), \n",
        "                  datetime(2018, 7, 2, 14, 1, 3)),\n",
        "\n",
        "                  (3.0,\n",
        "                   15,\n",
        "                   \"Hyundai Accent\", \n",
        "                   True, \n",
        "                   [2,4,6,8,10,12,14], \n",
        "                   {\"a1\": 0, \"a2\": 1, \"a3\": 2 }, \n",
        "                   Row(x=1, y=2, z=3), \n",
        "                   datetime(2018, 7, 3, 14, 1, 4))\n",
        "                ] "
      ]
    },
    {
      "cell_type": "code",
      "execution_count": null,
      "metadata": {
        "id": "WiS1qkGRrwzl",
        "outputId": "bcd6b21f-8ba0-4476-8e85-f6f1a15ca34c"
      },
      "outputs": [
        {
          "name": "stdout",
          "output_type": "stream",
          "text": [
            "+---+---+--------------+----+--------------------+--------------------+---------+-------------------+\n",
            "| _1| _2|            _3|  _4|                  _5|                  _6|       _7|                 _8|\n",
            "+---+---+--------------+----+--------------------+--------------------+---------+-------------------+\n",
            "|1.0| 12|  Nissan Versa|true|           [2, 4, 6]|           [a1 -> 0]|[1, 2, 3]|2018-07-01 14:01:02|\n",
            "|2.0| 13|   Ford Fiesta|true|    [2, 4, 6, 8, 10]|  [a1 -> 0, a2 -> 1]|[1, 2, 3]|2018-07-02 14:01:03|\n",
            "|3.0| 15|Hyundai Accent|true|[2, 4, 6, 8, 10, ...|[a1 -> 0, a2 -> 1...|[1, 2, 3]|2018-07-03 14:01:04|\n",
            "+---+---+--------------+----+--------------------+--------------------+---------+-------------------+\n",
            "\n"
          ]
        }
      ],
      "source": [
        "sqlContext.createDataFrame(complex_data).show()"
      ]
    },
    {
      "cell_type": "code",
      "execution_count": null,
      "metadata": {
        "id": "PmN3y7GCrwzl",
        "outputId": "28f6d08b-cde7-4d42-af23-233c3d111b82"
      },
      "outputs": [
        {
          "name": "stdout",
          "output_type": "stream",
          "text": [
            "+-------+----------+--------------+--------+--------------------+--------------------+---------+-------------------+\n",
            "|col_int|col_double|    col_string|col_bool|           col_array|      col_dictionary|  col_row|      col_date_time|\n",
            "+-------+----------+--------------+--------+--------------------+--------------------+---------+-------------------+\n",
            "|    1.0|        12|  Nissan Versa|    true|           [2, 4, 6]|           [a1 -> 0]|[1, 2, 3]|2018-07-01 14:01:02|\n",
            "|    2.0|        13|   Ford Fiesta|    true|    [2, 4, 6, 8, 10]|  [a1 -> 0, a2 -> 1]|[1, 2, 3]|2018-07-02 14:01:03|\n",
            "|    3.0|        15|Hyundai Accent|    true|[2, 4, 6, 8, 10, ...|[a1 -> 0, a2 -> 1...|[1, 2, 3]|2018-07-03 14:01:04|\n",
            "+-------+----------+--------------+--------+--------------------+--------------------+---------+-------------------+\n",
            "\n"
          ]
        }
      ],
      "source": [
        "complex_data_df = sqlContext.createDataFrame(complex_data, [\n",
        "                                             'col_int',\n",
        "                                             'col_double',\n",
        "                                             'col_string',\n",
        "                                             'col_bool',\n",
        "                                             'col_array',\n",
        "                                             'col_dictionary',\n",
        "                                             'col_row',\n",
        "                                             'col_date_time']\n",
        "                                            )\n",
        "complex_data_df.show()"
      ]
    },
    {
      "cell_type": "markdown",
      "metadata": {
        "id": "0RCMefmerwzm"
      },
      "source": [
        "#### Creating dataframes using SQL Context and the Row function\n",
        "Row functions can be used without specifying column names"
      ]
    },
    {
      "cell_type": "code",
      "execution_count": null,
      "metadata": {
        "collapsed": true,
        "id": "FERBn1A4rwzm"
      },
      "outputs": [],
      "source": [
        "data = sc.parallelize([\n",
        "                        Row(1, \"Nissan Versa\", 12),\n",
        "                        Row(2, \"Ford Fiesta\", 9),\n",
        "                        Row(3, \"Hyundai Accent\", 8)\n",
        "                     ])"
      ]
    },
    {
      "cell_type": "code",
      "execution_count": null,
      "metadata": {
        "id": "Xr_OBBRPrwzn",
        "outputId": "210efe47-b73d-4284-843a-9739fd5c8800"
      },
      "outputs": [
        {
          "name": "stdout",
          "output_type": "stream",
          "text": [
            "+---+--------------+---+\n",
            "| _1|            _2| _3|\n",
            "+---+--------------+---+\n",
            "|  1|  Nissan Versa| 12|\n",
            "|  2|   Ford Fiesta|  9|\n",
            "|  3|Hyundai Accent|  8|\n",
            "+---+--------------+---+\n",
            "\n"
          ]
        }
      ],
      "source": [
        "data.toDF().show()"
      ]
    },
    {
      "cell_type": "markdown",
      "metadata": {
        "id": "PilU0tpprwzo"
      },
      "source": [
        "#### Create a new Row with the column names"
      ]
    },
    {
      "cell_type": "code",
      "execution_count": null,
      "metadata": {
        "collapsed": true,
        "id": "R03j9ntGrwzp"
      },
      "outputs": [],
      "source": [
        "column_names = Row('index', 'vehicle_name', 'vehicle_stock')"
      ]
    },
    {
      "cell_type": "markdown",
      "metadata": {
        "id": "q11vX7P1rwzp"
      },
      "source": [
        "#### The RDD's map() function\n",
        "Return a new RDD by applying a function to each element of this RDD. Here, we call column_names for every row of the RDD with the row elements passed as positional arguments. "
      ]
    },
    {
      "cell_type": "code",
      "execution_count": null,
      "metadata": {
        "id": "WOY4F0RCrwzr",
        "outputId": "1db37a65-d11f-4496-cb5c-c4fcd7f15f7d"
      },
      "outputs": [
        {
          "data": {
            "text/plain": [
              "PythonRDD[139] at RDD at PythonRDD.scala:52"
            ]
          },
          "execution_count": 53,
          "metadata": {},
          "output_type": "execute_result"
        }
      ],
      "source": [
        "cars = data.map(lambda r: column_names(*r))\n",
        "\n",
        "cars"
      ]
    },
    {
      "cell_type": "markdown",
      "metadata": {
        "id": "mTHFOCqvrwzr"
      },
      "source": [
        "#### This has the effect of setting column headers"
      ]
    },
    {
      "cell_type": "code",
      "execution_count": null,
      "metadata": {
        "id": "g--wdDrjrwzr",
        "outputId": "0625d36a-9282-4f09-e5b8-a67b758ffca7"
      },
      "outputs": [
        {
          "data": {
            "text/plain": [
              "[Row(index=1, vehicle_name='Nissan Versa', vehicle_stock=12),\n",
              " Row(index=2, vehicle_name='Ford Fiesta', vehicle_stock=9),\n",
              " Row(index=3, vehicle_name='Hyundai Accent', vehicle_stock=8)]"
            ]
          },
          "execution_count": 54,
          "metadata": {},
          "output_type": "execute_result"
        }
      ],
      "source": [
        "cars.collect()"
      ]
    },
    {
      "cell_type": "code",
      "execution_count": null,
      "metadata": {
        "id": "yrmZ32jsrwzs",
        "outputId": "e6214536-cd17-4fc0-8ce6-d31bc1a13148"
      },
      "outputs": [
        {
          "data": {
            "text/plain": [
              "DataFrame[index: bigint, vehicle_name: string, vehicle_stock: bigint]"
            ]
          },
          "execution_count": 55,
          "metadata": {},
          "output_type": "execute_result"
        }
      ],
      "source": [
        "cars_df = sqlContext.createDataFrame(cars)\n",
        "\n",
        "cars_df"
      ]
    },
    {
      "cell_type": "code",
      "execution_count": null,
      "metadata": {
        "id": "oXxVFQP0rwzs",
        "outputId": "b1729258-e49f-4ba5-bc5e-ace81f84a3dd"
      },
      "outputs": [
        {
          "name": "stdout",
          "output_type": "stream",
          "text": [
            "+-----+--------------+-------------+\n",
            "|index|  vehicle_name|vehicle_stock|\n",
            "+-----+--------------+-------------+\n",
            "|    1|  Nissan Versa|           12|\n",
            "|    2|   Ford Fiesta|            9|\n",
            "|    3|Hyundai Accent|            8|\n",
            "+-----+--------------+-------------+\n",
            "\n"
          ]
        }
      ],
      "source": [
        "cars_df.show()"
      ]
    },
    {
      "cell_type": "markdown",
      "metadata": {
        "id": "yxV95zWArwzt"
      },
      "source": [
        "#### Extracting specific rows from dataframes"
      ]
    },
    {
      "cell_type": "code",
      "execution_count": null,
      "metadata": {
        "id": "nPLTxgaErwzt",
        "outputId": "b16d6ec8-3c10-4204-8c53-4f4c6197d5ce"
      },
      "outputs": [
        {
          "data": {
            "text/plain": [
              "Row(col_int=1.0, col_double=12, col_string='Nissan Versa', col_bool=True, col_array=[2, 4, 6], col_dictionary={'a1': 0}, col_row=Row(x=1, y=2, z=3), col_date_time=datetime.datetime(2018, 7, 1, 14, 1, 2))"
            ]
          },
          "execution_count": 57,
          "metadata": {},
          "output_type": "execute_result"
        }
      ],
      "source": [
        "complex_data_df.first()"
      ]
    },
    {
      "cell_type": "code",
      "execution_count": null,
      "metadata": {
        "id": "wYZa3jZzrwzu",
        "outputId": "ec30578a-5510-4fb6-dca9-4fd268100344"
      },
      "outputs": [
        {
          "data": {
            "text/plain": [
              "[Row(col_int=1.0, col_double=12, col_string='Nissan Versa', col_bool=True, col_array=[2, 4, 6], col_dictionary={'a1': 0}, col_row=Row(x=1, y=2, z=3), col_date_time=datetime.datetime(2018, 7, 1, 14, 1, 2)),\n",
              " Row(col_int=2.0, col_double=13, col_string='Ford Fiesta', col_bool=True, col_array=[2, 4, 6, 8, 10], col_dictionary={'a1': 0, 'a2': 1}, col_row=Row(x=1, y=2, z=3), col_date_time=datetime.datetime(2018, 7, 2, 14, 1, 3))]"
            ]
          },
          "execution_count": 58,
          "metadata": {},
          "output_type": "execute_result"
        }
      ],
      "source": [
        "complex_data_df.take(2)"
      ]
    },
    {
      "cell_type": "markdown",
      "metadata": {
        "id": "zO76uzmrrwzu"
      },
      "source": [
        "#### Extracting specific cells from dataframes"
      ]
    },
    {
      "cell_type": "code",
      "execution_count": null,
      "metadata": {
        "id": "1DVDhoMorwzu",
        "outputId": "b6a5d841-6cbc-4bfa-bb83-fd30bf26199a"
      },
      "outputs": [
        {
          "data": {
            "text/plain": [
              "'Nissan Versa'"
            ]
          },
          "execution_count": 59,
          "metadata": {},
          "output_type": "execute_result"
        }
      ],
      "source": [
        "cell_string = complex_data_df.collect()[0][2]\n",
        "\n",
        "cell_string"
      ]
    },
    {
      "cell_type": "code",
      "execution_count": null,
      "metadata": {
        "id": "2jZkaH4-rwzu",
        "outputId": "e4113fc3-0161-43be-b06f-7a2bb70332bf"
      },
      "outputs": [
        {
          "data": {
            "text/plain": [
              "[2, 4, 6]"
            ]
          },
          "execution_count": 60,
          "metadata": {},
          "output_type": "execute_result"
        }
      ],
      "source": [
        "cell_list = complex_data_df.collect()[0][4]\n",
        "\n",
        "cell_list"
      ]
    },
    {
      "cell_type": "markdown",
      "metadata": {
        "id": "dfU351osrwzv"
      },
      "source": [
        "#### The data returned is a copy of the DataFrame contents\n",
        "This is an independent copy. If we append a value to the returned list, it does not modify the contents of the DataFrame"
      ]
    },
    {
      "cell_type": "code",
      "execution_count": null,
      "metadata": {
        "id": "Ap2CTM8Wrwzv",
        "outputId": "cac22090-16c9-44a4-9242-d755373f77eb"
      },
      "outputs": [
        {
          "data": {
            "text/plain": [
              "[2, 4, 6, 100]"
            ]
          },
          "execution_count": 61,
          "metadata": {},
          "output_type": "execute_result"
        }
      ],
      "source": [
        "cell_list.append(100)\n",
        "\n",
        "cell_list"
      ]
    },
    {
      "cell_type": "code",
      "execution_count": null,
      "metadata": {
        "id": "YUEZJVqirwzw",
        "outputId": "bc395c06-95d1-4deb-8613-dcca0134b58d"
      },
      "outputs": [
        {
          "name": "stdout",
          "output_type": "stream",
          "text": [
            "+-------+----------+--------------+--------+--------------------+--------------------+---------+-------------------+\n",
            "|col_int|col_double|    col_string|col_bool|           col_array|      col_dictionary|  col_row|      col_date_time|\n",
            "+-------+----------+--------------+--------+--------------------+--------------------+---------+-------------------+\n",
            "|    1.0|        12|  Nissan Versa|    true|           [2, 4, 6]|           [a1 -> 0]|[1, 2, 3]|2018-07-01 14:01:02|\n",
            "|    2.0|        13|   Ford Fiesta|    true|    [2, 4, 6, 8, 10]|  [a1 -> 0, a2 -> 1]|[1, 2, 3]|2018-07-02 14:01:03|\n",
            "|    3.0|        15|Hyundai Accent|    true|[2, 4, 6, 8, 10, ...|[a1 -> 0, a2 -> 1...|[1, 2, 3]|2018-07-03 14:01:04|\n",
            "+-------+----------+--------------+--------+--------------------+--------------------+---------+-------------------+\n",
            "\n"
          ]
        }
      ],
      "source": [
        "complex_data_df.show()"
      ]
    },
    {
      "cell_type": "markdown",
      "metadata": {
        "id": "WAhsSwRnrwzw"
      },
      "source": [
        "### Selecting specific columns"
      ]
    },
    {
      "cell_type": "markdown",
      "metadata": {
        "id": "zCnLoNz8rwzx"
      },
      "source": [
        "#### One way is to use the rdd.map() operation"
      ]
    },
    {
      "cell_type": "code",
      "execution_count": null,
      "metadata": {
        "id": "hXCpECV4rwzx",
        "outputId": "6c8cb742-b8ea-4f0a-f188-0693933c9b96"
      },
      "outputs": [
        {
          "data": {
            "text/plain": [
              "[('Nissan Versa', {'a1': 0}),\n",
              " ('Ford Fiesta', {'a1': 0, 'a2': 1}),\n",
              " ('Hyundai Accent', {'a1': 0, 'a2': 1, 'a3': 2})]"
            ]
          },
          "execution_count": 63,
          "metadata": {},
          "output_type": "execute_result"
        }
      ],
      "source": [
        "complex_data_df.rdd\\\n",
        "               .map(lambda x: (x.col_string, x.col_dictionary))\\\n",
        "               .collect()"
      ]
    },
    {
      "cell_type": "markdown",
      "metadata": {
        "id": "0gFQLKUDrwzx"
      },
      "source": [
        "#### The DataFrame select() function is another option"
      ]
    },
    {
      "cell_type": "code",
      "execution_count": null,
      "metadata": {
        "id": "-xw_dL1Wrwzx",
        "outputId": "e5ec9a7c-5f3b-4195-e5b0-280c389504e5"
      },
      "outputs": [
        {
          "name": "stdout",
          "output_type": "stream",
          "text": [
            "+--------------+--------------------+-------------------+\n",
            "|    col_string|           col_array|      col_date_time|\n",
            "+--------------+--------------------+-------------------+\n",
            "|  Nissan Versa|           [2, 4, 6]|2018-07-01 14:01:02|\n",
            "|   Ford Fiesta|    [2, 4, 6, 8, 10]|2018-07-02 14:01:03|\n",
            "|Hyundai Accent|[2, 4, 6, 8, 10, ...|2018-07-03 14:01:04|\n",
            "+--------------+--------------------+-------------------+\n",
            "\n"
          ]
        }
      ],
      "source": [
        "complex_data_df.select(\n",
        "                        'col_string',\n",
        "                        'col_array',\n",
        "                        'col_date_time'\n",
        "                      ).show()"
      ]
    },
    {
      "cell_type": "markdown",
      "metadata": {
        "id": "GS8P-YV4rwzy"
      },
      "source": [
        "#### Editing column data\n",
        "The rdd.map() function can be used to perform an operation on every element in a column"
      ]
    },
    {
      "cell_type": "code",
      "execution_count": null,
      "metadata": {
        "id": "fr2ajfwerwzy",
        "outputId": "e2a6c313-96a3-4982-ab8c-ab5e7f4f1155"
      },
      "outputs": [
        {
          "data": {
            "text/plain": [
              "['2018 Nissan Versa', '2018 Ford Fiesta', '2018 Hyundai Accent']"
            ]
          },
          "execution_count": 66,
          "metadata": {},
          "output_type": "execute_result"
        }
      ],
      "source": [
        "complex_data_df.rdd\\\n",
        "               .map(lambda x: (\"2018 \" + x.col_string))\\\n",
        "               .collect()"
      ]
    },
    {
      "cell_type": "markdown",
      "metadata": {
        "id": "C1Vbo9Qsrwzy"
      },
      "source": [
        "#### Adding a column\n",
        "Add a new column which sums up the contents of the int and double columns. We do this using the withColumn() function"
      ]
    },
    {
      "cell_type": "code",
      "execution_count": null,
      "metadata": {
        "id": "ij3eP0prrwzz",
        "outputId": "5d5fe530-6865-4e08-ae40-64f216df6689"
      },
      "outputs": [
        {
          "name": "stdout",
          "output_type": "stream",
          "text": [
            "+-------+----------+-------+\n",
            "|col_int|col_double|col_sum|\n",
            "+-------+----------+-------+\n",
            "|    1.0|        12|   13.0|\n",
            "|    2.0|        13|   15.0|\n",
            "|    3.0|        15|   18.0|\n",
            "+-------+----------+-------+\n",
            "\n"
          ]
        }
      ],
      "source": [
        "complex_data_df.select(\n",
        "                       'col_int',\n",
        "                       'col_double'\n",
        "                      )\\\n",
        "               .withColumn(\n",
        "                       \"col_sum\",\n",
        "                        complex_data_df.col_int + complex_data_df.col_double\n",
        "                      )\\\n",
        "               .show()"
      ]
    },
    {
      "cell_type": "code",
      "execution_count": null,
      "metadata": {
        "id": "rDipqYMzrwzz",
        "outputId": "7581385d-be9e-448f-c1f2-03bed13fec20"
      },
      "outputs": [
        {
          "name": "stdout",
          "output_type": "stream",
          "text": [
            "+--------+------------+\n",
            "|col_bool|col_opposite|\n",
            "+--------+------------+\n",
            "|    true|       false|\n",
            "|    true|       false|\n",
            "|    true|       false|\n",
            "+--------+------------+\n",
            "\n"
          ]
        }
      ],
      "source": [
        "complex_data_df.select('col_bool')\\\n",
        "               .withColumn(\n",
        "                           \"col_opposite\",\n",
        "                           complex_data_df.col_bool == False )\\\n",
        "               .show()"
      ]
    },
    {
      "cell_type": "markdown",
      "metadata": {
        "id": "og0vWzSvrwzz"
      },
      "source": [
        "#### Editing a column name\n",
        "Make use of the withColumnRenamed() function"
      ]
    },
    {
      "cell_type": "code",
      "execution_count": null,
      "metadata": {
        "id": "OIIQKosBrwz0",
        "outputId": "e1124d71-f720-4950-c803-493893099f43"
      },
      "outputs": [
        {
          "name": "stdout",
          "output_type": "stream",
          "text": [
            "+-------+----------+--------------+--------+--------------------+--------------------+---------+-------------------+\n",
            "|col_int|col_double|    col_string|col_bool|           col_array|             col_map|  col_row|      col_date_time|\n",
            "+-------+----------+--------------+--------+--------------------+--------------------+---------+-------------------+\n",
            "|    1.0|        12|  Nissan Versa|    true|           [2, 4, 6]|           [a1 -> 0]|[1, 2, 3]|2018-07-01 14:01:02|\n",
            "|    2.0|        13|   Ford Fiesta|    true|    [2, 4, 6, 8, 10]|  [a1 -> 0, a2 -> 1]|[1, 2, 3]|2018-07-02 14:01:03|\n",
            "|    3.0|        15|Hyundai Accent|    true|[2, 4, 6, 8, 10, ...|[a1 -> 0, a2 -> 1...|[1, 2, 3]|2018-07-03 14:01:04|\n",
            "+-------+----------+--------------+--------+--------------------+--------------------+---------+-------------------+\n",
            "\n"
          ]
        }
      ],
      "source": [
        "complex_data_df.withColumnRenamed(\"col_dictionary\",\"col_map\").show()"
      ]
    },
    {
      "cell_type": "code",
      "execution_count": null,
      "metadata": {
        "id": "-D45wV2wrwz0",
        "outputId": "d0d1a959-c51e-49b2-8ad4-9504b735b53b"
      },
      "outputs": [
        {
          "name": "stdout",
          "output_type": "stream",
          "text": [
            "+--------------+\n",
            "|  vehicle_name|\n",
            "+--------------+\n",
            "|  Nissan Versa|\n",
            "|   Ford Fiesta|\n",
            "|Hyundai Accent|\n",
            "+--------------+\n",
            "\n"
          ]
        }
      ],
      "source": [
        "complex_data_df.select(complex_data_df.col_string.alias(\"vehicle_name\")).show()"
      ]
    },
    {
      "cell_type": "markdown",
      "metadata": {
        "id": "sd-251ozrwz1"
      },
      "source": [
        "### Interoperablity between Pandas dataframe and Spark dataframe"
      ]
    },
    {
      "cell_type": "code",
      "execution_count": null,
      "metadata": {
        "collapsed": true,
        "id": "OM4qgpKvrwz1"
      },
      "outputs": [],
      "source": [
        "import pandas"
      ]
    },
    {
      "cell_type": "code",
      "execution_count": null,
      "metadata": {
        "id": "PSKu1OLJrwz1",
        "outputId": "8241ce60-8570-4f04-9569-b8154384691b"
      },
      "outputs": [
        {
          "data": {
            "text/html": [
              "<div>\n",
              "<style scoped>\n",
              "    .dataframe tbody tr th:only-of-type {\n",
              "        vertical-align: middle;\n",
              "    }\n",
              "\n",
              "    .dataframe tbody tr th {\n",
              "        vertical-align: top;\n",
              "    }\n",
              "\n",
              "    .dataframe thead th {\n",
              "        text-align: right;\n",
              "    }\n",
              "</style>\n",
              "<table border=\"1\" class=\"dataframe\">\n",
              "  <thead>\n",
              "    <tr style=\"text-align: right;\">\n",
              "      <th></th>\n",
              "      <th>col_int</th>\n",
              "      <th>col_double</th>\n",
              "      <th>col_string</th>\n",
              "      <th>col_bool</th>\n",
              "      <th>col_array</th>\n",
              "      <th>col_dictionary</th>\n",
              "      <th>col_row</th>\n",
              "      <th>col_date_time</th>\n",
              "    </tr>\n",
              "  </thead>\n",
              "  <tbody>\n",
              "    <tr>\n",
              "      <th>0</th>\n",
              "      <td>1.0</td>\n",
              "      <td>12</td>\n",
              "      <td>Nissan Versa</td>\n",
              "      <td>True</td>\n",
              "      <td>[2, 4, 6]</td>\n",
              "      <td>{'a1': 0}</td>\n",
              "      <td>(1, 2, 3)</td>\n",
              "      <td>2018-07-01 14:01:02</td>\n",
              "    </tr>\n",
              "    <tr>\n",
              "      <th>1</th>\n",
              "      <td>2.0</td>\n",
              "      <td>13</td>\n",
              "      <td>Ford Fiesta</td>\n",
              "      <td>True</td>\n",
              "      <td>[2, 4, 6, 8, 10]</td>\n",
              "      <td>{'a1': 0, 'a2': 1}</td>\n",
              "      <td>(1, 2, 3)</td>\n",
              "      <td>2018-07-02 14:01:03</td>\n",
              "    </tr>\n",
              "    <tr>\n",
              "      <th>2</th>\n",
              "      <td>3.0</td>\n",
              "      <td>15</td>\n",
              "      <td>Hyundai Accent</td>\n",
              "      <td>True</td>\n",
              "      <td>[2, 4, 6, 8, 10, 12, 14]</td>\n",
              "      <td>{'a1': 0, 'a2': 1, 'a3': 2}</td>\n",
              "      <td>(1, 2, 3)</td>\n",
              "      <td>2018-07-03 14:01:04</td>\n",
              "    </tr>\n",
              "  </tbody>\n",
              "</table>\n",
              "</div>"
            ],
            "text/plain": [
              "   col_int  col_double      col_string  col_bool                 col_array  \\\n",
              "0      1.0          12    Nissan Versa      True                 [2, 4, 6]   \n",
              "1      2.0          13     Ford Fiesta      True          [2, 4, 6, 8, 10]   \n",
              "2      3.0          15  Hyundai Accent      True  [2, 4, 6, 8, 10, 12, 14]   \n",
              "\n",
              "                col_dictionary    col_row       col_date_time  \n",
              "0                    {'a1': 0}  (1, 2, 3) 2018-07-01 14:01:02  \n",
              "1           {'a1': 0, 'a2': 1}  (1, 2, 3) 2018-07-02 14:01:03  \n",
              "2  {'a1': 0, 'a2': 1, 'a3': 2}  (1, 2, 3) 2018-07-03 14:01:04  "
            ]
          },
          "execution_count": 72,
          "metadata": {},
          "output_type": "execute_result"
        }
      ],
      "source": [
        "df_pandas = complex_data_df.toPandas()\n",
        "df_pandas"
      ]
    },
    {
      "cell_type": "markdown",
      "metadata": {
        "id": "67fXxu5Urwz2"
      },
      "source": [
        "#### Create a Spark DataFrame from a Pandas DataFrame"
      ]
    },
    {
      "cell_type": "code",
      "execution_count": null,
      "metadata": {
        "id": "3NkHFY-wrwz2",
        "outputId": "5d007ccf-8192-4e04-c93b-be92c3bdbc8f"
      },
      "outputs": [
        {
          "name": "stdout",
          "output_type": "stream",
          "text": [
            "+-------+----------+--------------+--------+--------------------+--------------------+---------+-------------------+\n",
            "|col_int|col_double|    col_string|col_bool|           col_array|      col_dictionary|  col_row|      col_date_time|\n",
            "+-------+----------+--------------+--------+--------------------+--------------------+---------+-------------------+\n",
            "|    1.0|        12|  Nissan Versa|    true|           [2, 4, 6]|           [a1 -> 0]|[1, 2, 3]|2018-07-01 14:01:02|\n",
            "|    2.0|        13|   Ford Fiesta|    true|    [2, 4, 6, 8, 10]|  [a1 -> 0, a2 -> 1]|[1, 2, 3]|2018-07-02 14:01:03|\n",
            "|    3.0|        15|Hyundai Accent|    true|[2, 4, 6, 8, 10, ...|[a1 -> 0, a2 -> 1...|[1, 2, 3]|2018-07-03 14:01:04|\n",
            "+-------+----------+--------------+--------+--------------------+--------------------+---------+-------------------+\n",
            "\n"
          ]
        }
      ],
      "source": [
        "df_spark = sqlContext.createDataFrame(df_pandas).show()  \n",
        "df_spark"
      ]
    },
    {
      "cell_type": "code",
      "execution_count": null,
      "metadata": {
        "collapsed": true,
        "id": "yEpn2Lu_rwz2"
      },
      "outputs": [],
      "source": []
    },
    {
      "cell_type": "code",
      "execution_count": null,
      "metadata": {
        "collapsed": true,
        "id": "jEIPuYWVrwz3"
      },
      "outputs": [],
      "source": []
    }
  ],
  "metadata": {
    "kernelspec": {
      "display_name": "Python 3",
      "language": "python",
      "name": "python3"
    },
    "language_info": {
      "codemirror_mode": {
        "name": "ipython",
        "version": 3
      },
      "file_extension": ".py",
      "mimetype": "text/x-python",
      "name": "python",
      "nbconvert_exporter": "python",
      "pygments_lexer": "ipython3",
      "version": "3.6.3"
    },
    "colab": {
      "provenance": [],
      "include_colab_link": true
    }
  },
  "nbformat": 4,
  "nbformat_minor": 0
}