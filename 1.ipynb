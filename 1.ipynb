{
  "cells": [
    {
      "cell_type": "markdown",
      "metadata": {
        "id": "view-in-github",
        "colab_type": "text"
      },
      "source": [
        "<a href=\"https://colab.research.google.com/github/abphilip-resources/PY-Spark-1/blob/master/1.ipynb\" target=\"_parent\"><img src=\"https://colab.research.google.com/assets/colab-badge.svg\" alt=\"Open In Colab\"/></a>"
      ]
    },
    {
      "cell_type": "markdown",
      "source": [
        "# **Exploring Apache Spark : 1**"
      ],
      "metadata": {
        "id": "cfjFQAcTryL_"
      }
    },
    {
      "cell_type": "markdown",
      "source": [
        "## **Dependencies**"
      ],
      "metadata": {
        "id": "nrnW84Ev6TP5"
      }
    },
    {
      "cell_type": "markdown",
      "source": [
        "#### Check existing versions"
      ],
      "metadata": {
        "id": "bWZaYXlVr8is"
      }
    },
    {
      "cell_type": "code",
      "execution_count": 1,
      "metadata": {
        "id": "6rQmQ9eXrwyn",
        "outputId": "a2409ae2-2a38-421f-f683-e1f44bba7c60",
        "colab": {
          "base_uri": "https://localhost:8080/"
        }
      },
      "outputs": [
        {
          "output_type": "stream",
          "name": "stdout",
          "text": [
            "openjdk version \"11.0.16\" 2022-07-19\n",
            "OpenJDK Runtime Environment (build 11.0.16+8-post-Ubuntu-0ubuntu118.04)\n",
            "OpenJDK 64-Bit Server VM (build 11.0.16+8-post-Ubuntu-0ubuntu118.04, mixed mode, sharing)\n"
          ]
        }
      ],
      "source": [
        "!java -version"
      ]
    },
    {
      "cell_type": "code",
      "execution_count": 2,
      "metadata": {
        "id": "3n5yUsQTrwyy",
        "outputId": "0a93ad0f-072c-409b-df09-41c702aab023",
        "colab": {
          "base_uri": "https://localhost:8080/"
        }
      },
      "outputs": [
        {
          "output_type": "stream",
          "name": "stdout",
          "text": [
            "Python 3.7.15\n"
          ]
        }
      ],
      "source": [
        "!python --version"
      ]
    },
    {
      "cell_type": "markdown",
      "metadata": {
        "id": "4KMF4Dberwy0"
      },
      "source": [
        "#### Install PySpark\n"
      ]
    },
    {
      "cell_type": "markdown",
      "source": [
        "If you have an old installation of spark which involved setting up environment variables in your .bash_profile, you will need to clear those as they will affect the running of this new pyspark installation."
      ],
      "metadata": {
        "id": "sAUDybHTwKZe"
      }
    },
    {
      "cell_type": "code",
      "execution_count": 3,
      "metadata": {
        "id": "LROH08XPrwy3",
        "outputId": "4e0db4e6-e743-4b60-8adc-213819a79f29",
        "colab": {
          "base_uri": "https://localhost:8080/"
        }
      },
      "outputs": [
        {
          "output_type": "stream",
          "name": "stdout",
          "text": [
            "Looking in indexes: https://pypi.org/simple, https://us-python.pkg.dev/colab-wheels/public/simple/\n",
            "Collecting pyspark\n",
            "  Downloading pyspark-3.3.1.tar.gz (281.4 MB)\n",
            "\u001b[K     |████████████████████████████████| 281.4 MB 43 kB/s \n",
            "\u001b[?25hCollecting py4j==0.10.9.5\n",
            "  Downloading py4j-0.10.9.5-py2.py3-none-any.whl (199 kB)\n",
            "\u001b[K     |████████████████████████████████| 199 kB 48.6 MB/s \n",
            "\u001b[?25hBuilding wheels for collected packages: pyspark\n",
            "  Building wheel for pyspark (setup.py) ... \u001b[?25l\u001b[?25hdone\n",
            "  Created wheel for pyspark: filename=pyspark-3.3.1-py2.py3-none-any.whl size=281845513 sha256=2d3bc1e25aef7608306b66dee1cc968477669d76760af7ace3b8e63aa613d136\n",
            "  Stored in directory: /root/.cache/pip/wheels/42/59/f5/79a5bf931714dcd201b26025347785f087370a10a3329a899c\n",
            "Successfully built pyspark\n",
            "Installing collected packages: py4j, pyspark\n",
            "Successfully installed py4j-0.10.9.5 pyspark-3.3.1\n"
          ]
        }
      ],
      "source": [
        "!pip install pyspark"
      ]
    },
    {
      "cell_type": "markdown",
      "metadata": {
        "id": "DWN6qDNWrwy5"
      },
      "source": [
        "## **Introduction to RDDs**"
      ]
    },
    {
      "cell_type": "markdown",
      "source": [
        "#### Create Session"
      ],
      "metadata": {
        "id": "4d8VIYWlw1kL"
      }
    },
    {
      "cell_type": "markdown",
      "source": [
        "* Creating RDDs and DataFrames using SparkContext\n",
        "* Interoperability between RDDs and DataFrames\n",
        "* Multiple rows and multiple column specifications for DataFrames\n",
        "* Creating DataFrames using SQLContext\n",
        "* Selecting, editing and renaming columns in dataframes\n",
        "* Interoperability between Pandas and Spark dataframes"
      ],
      "metadata": {
        "id": "VdLvjUmrwPCW"
      }
    },
    {
      "cell_type": "code",
      "execution_count": 4,
      "metadata": {
        "collapsed": true,
        "id": "qPqfd89erwy7"
      },
      "outputs": [],
      "source": [
        "import pyspark"
      ]
    },
    {
      "cell_type": "code",
      "execution_count": 5,
      "metadata": {
        "collapsed": true,
        "id": "CIq2LwHnrwy9"
      },
      "outputs": [],
      "source": [
        "from pyspark import SparkContext\n",
        "from pyspark.sql import SQLContext\n",
        "from pyspark.sql import SparkSession"
      ]
    },
    {
      "cell_type": "code",
      "execution_count": 6,
      "metadata": {
        "id": "Clg2Imjurwy_"
      },
      "outputs": [],
      "source": [
        "sc = SparkContext()\n",
        "spark = SparkSession(sc)"
      ]
    },
    {
      "cell_type": "code",
      "execution_count": 7,
      "metadata": {
        "collapsed": true,
        "id": "hdOPijC9rwzG"
      },
      "outputs": [],
      "source": [
        "from pyspark.sql.types import Row\n",
        "from datetime import datetime"
      ]
    },
    {
      "cell_type": "markdown",
      "metadata": {
        "id": "C8YbfgVDrwzH"
      },
      "source": [
        "#### Creating RDDs using sc.parallelize()"
      ]
    },
    {
      "cell_type": "markdown",
      "source": [
        "We effectively create one row of data storing information about a car in a dealership:\n",
        "* the first element is the index \n",
        "* the second element is the name of the car\n",
        "* thirdly, we store the quantity of cars in our inventory"
      ],
      "metadata": {
        "id": "pwFkCtE7tj0G"
      }
    },
    {
      "cell_type": "code",
      "execution_count": 8,
      "metadata": {
        "id": "c10lJp_1rwzJ",
        "outputId": "c2025430-e04a-477d-e5f0-83b8f3243d5c",
        "colab": {
          "base_uri": "https://localhost:8080/"
        }
      },
      "outputs": [
        {
          "output_type": "execute_result",
          "data": {
            "text/plain": [
              "ParallelCollectionRDD[0] at readRDDFromFile at PythonRDD.scala:274"
            ]
          },
          "metadata": {},
          "execution_count": 8
        }
      ],
      "source": [
        "simple_data = sc.parallelize([1, \"Nissan Versa\", 12])\n",
        "simple_data"
      ]
    },
    {
      "cell_type": "markdown",
      "metadata": {
        "id": "NaCTj2OgrwzK"
      },
      "source": [
        "#### The count() function"
      ]
    },
    {
      "cell_type": "markdown",
      "source": [
        "This returns the number of elements in the RDD. Each element in the list is now an element of the RDD"
      ],
      "metadata": {
        "id": "GbpGDShntmJs"
      }
    },
    {
      "cell_type": "code",
      "execution_count": 9,
      "metadata": {
        "id": "cnvq78POrwzL",
        "outputId": "5e07b55b-6919-4c55-d28c-4dfc4c65ac78",
        "colab": {
          "base_uri": "https://localhost:8080/"
        }
      },
      "outputs": [
        {
          "output_type": "execute_result",
          "data": {
            "text/plain": [
              "3"
            ]
          },
          "metadata": {},
          "execution_count": 9
        }
      ],
      "source": [
        "simple_data.count()"
      ]
    },
    {
      "cell_type": "markdown",
      "metadata": {
        "id": "ENo4cCUZrwzM"
      },
      "source": [
        "#### The first() function"
      ]
    },
    {
      "cell_type": "markdown",
      "source": [
        "This returns the first element of the RDD"
      ],
      "metadata": {
        "id": "aMHPB6ZOtp0T"
      }
    },
    {
      "cell_type": "code",
      "execution_count": 10,
      "metadata": {
        "id": "TNdnYZBOrwzM",
        "outputId": "60a11a2f-aa27-489e-b1d8-3645676c54d5",
        "colab": {
          "base_uri": "https://localhost:8080/"
        }
      },
      "outputs": [
        {
          "output_type": "execute_result",
          "data": {
            "text/plain": [
              "1"
            ]
          },
          "metadata": {},
          "execution_count": 10
        }
      ],
      "source": [
        "simple_data.first()"
      ]
    },
    {
      "cell_type": "markdown",
      "metadata": {
        "id": "AG9PdioUrwzN"
      },
      "source": [
        "#### The take() function"
      ]
    },
    {
      "cell_type": "markdown",
      "source": [
        "This will return the first n elements of the RDD where n is the argument passed to the function"
      ],
      "metadata": {
        "id": "4-0ZNgFytu3W"
      }
    },
    {
      "cell_type": "code",
      "execution_count": 11,
      "metadata": {
        "id": "_r1xq6RGrwzO",
        "outputId": "d1c7b84e-2cf4-4aea-bd7c-8f4258a32f9c",
        "colab": {
          "base_uri": "https://localhost:8080/"
        }
      },
      "outputs": [
        {
          "output_type": "execute_result",
          "data": {
            "text/plain": [
              "[1, 'Nissan Versa']"
            ]
          },
          "metadata": {},
          "execution_count": 11
        }
      ],
      "source": [
        "simple_data.take(2)"
      ]
    },
    {
      "cell_type": "markdown",
      "metadata": {
        "id": "bBzr-PmurwzO"
      },
      "source": [
        "#### The collect() function"
      ]
    },
    {
      "cell_type": "markdown",
      "source": [
        "Returns a list containing all the elements in the RDD. We get a 1D list with the 3 elements"
      ],
      "metadata": {
        "id": "fnVxNZvdwrHE"
      }
    },
    {
      "cell_type": "code",
      "execution_count": 14,
      "metadata": {
        "id": "uJPoHhlJrwzP",
        "outputId": "3579e7b1-14ac-41e8-e40e-b8726a4d8f72",
        "colab": {
          "base_uri": "https://localhost:8080/"
        }
      },
      "outputs": [
        {
          "output_type": "execute_result",
          "data": {
            "text/plain": [
              "[1, 'Nissan Versa', 12]"
            ]
          },
          "metadata": {},
          "execution_count": 14
        }
      ],
      "source": [
        "simple_data.collect()"
      ]
    },
    {
      "cell_type": "markdown",
      "metadata": {
        "id": "Esgp8FiCrwzQ"
      },
      "source": [
        "#### Convert the RDD to a DataFrame"
      ]
    },
    {
      "cell_type": "markdown",
      "source": [
        "Converting the current RDD to a DataFrame results in an error as it's 1-dimensional\n",
        "\n",
        "* This RDD does not have \"columns\", it cannot be represented as a tabular data frame\n",
        "* DataFrames are structured datasets"
      ],
      "metadata": {
        "id": "98BTpdWmwvXn"
      }
    },
    {
      "cell_type": "code",
      "execution_count": 21,
      "metadata": {
        "id": "fawbdzYIrwzQ",
        "outputId": "2b720540-155a-48f6-e724-0272e1636ff8",
        "colab": {
          "base_uri": "https://localhost:8080/"
        }
      },
      "outputs": [
        {
          "output_type": "stream",
          "name": "stdout",
          "text": [
            "+----+\n",
            "|  _1|\n",
            "+----+\n",
            "|   1|\n",
            "|null|\n",
            "|  12|\n",
            "+----+\n",
            "\n"
          ]
        }
      ],
      "source": [
        "df = simple_data.map(lambda x: (x, )).toDF()\n",
        "df.show()"
      ]
    },
    {
      "cell_type": "markdown",
      "source": [
        "## **Managing Records with RDDs**"
      ],
      "metadata": {
        "id": "5nl_dt3h-cY0"
      }
    },
    {
      "cell_type": "markdown",
      "metadata": {
        "id": "z3YGQpoZrwzR"
      },
      "source": [
        "#### RDDs with records using sc.parallelize()"
      ]
    },
    {
      "cell_type": "markdown",
      "source": [
        "We effectively create two rows of data by passing in two lists to sc.parallelize()"
      ],
      "metadata": {
        "id": "XajvPKxm26Sy"
      }
    },
    {
      "cell_type": "code",
      "execution_count": 24,
      "metadata": {
        "id": "Kp2ppbixrwzR",
        "outputId": "7b9f7a3a-81a7-4a69-9cec-b98b4c04fd14",
        "colab": {
          "base_uri": "https://localhost:8080/"
        }
      },
      "outputs": [
        {
          "output_type": "stream",
          "name": "stdout",
          "text": [
            "+-------------+\n",
            "|           _1|\n",
            "+-------------+\n",
            "|[1, null, 12]|\n",
            "| [2, null, 9]|\n",
            "+-------------+\n",
            "\n"
          ]
        }
      ],
      "source": [
        "records = sc.parallelize([[1, \"Nissan Versa\", 12],\n",
        "                          [2, \"Ford Fiesta\", 9]])\n",
        "records.map(lambda x: (x, )).toDF().show()"
      ]
    },
    {
      "cell_type": "markdown",
      "metadata": {
        "id": "S8vKXQNHrwzS"
      },
      "source": [
        "#### The number of records corresponds to the number of rows"
      ]
    },
    {
      "cell_type": "markdown",
      "source": [
        "\n",
        "Even though we have twice as much data in this RDD as in the previous one we created, the count() returns only two elements"
      ],
      "metadata": {
        "id": "rwG19Bpa3NCc"
      }
    },
    {
      "cell_type": "code",
      "execution_count": 25,
      "metadata": {
        "id": "3d_1t0sMrwzS",
        "outputId": "c2c24454-c464-41f8-e79d-8f7119bfcf6b",
        "colab": {
          "base_uri": "https://localhost:8080/"
        }
      },
      "outputs": [
        {
          "output_type": "execute_result",
          "data": {
            "text/plain": [
              "2"
            ]
          },
          "metadata": {},
          "execution_count": 25
        }
      ],
      "source": [
        "records.count()"
      ]
    },
    {
      "cell_type": "markdown",
      "metadata": {
        "id": "6muDZq7orwzS"
      },
      "source": [
        "#### The RDD is now effectively a list of lists"
      ]
    },
    {
      "cell_type": "markdown",
      "source": [
        "While the previous RDD contained a 1D list, this one contains two elements each of which is a 1D list - giving a 2D list."
      ],
      "metadata": {
        "id": "-M4sJtnf3Pzl"
      }
    },
    {
      "cell_type": "code",
      "execution_count": 26,
      "metadata": {
        "id": "w4ZgVNDKrwzS",
        "outputId": "4e2abaae-fdf4-4b6c-f4a2-7a58910788ff",
        "colab": {
          "base_uri": "https://localhost:8080/"
        }
      },
      "outputs": [
        {
          "output_type": "execute_result",
          "data": {
            "text/plain": [
              "[[1, 'Nissan Versa', 12], [2, 'Ford Fiesta', 9]]"
            ]
          },
          "metadata": {},
          "execution_count": 26
        }
      ],
      "source": [
        "records.collect()"
      ]
    },
    {
      "cell_type": "markdown",
      "metadata": {
        "id": "ekzQklgRrwzT"
      },
      "source": [
        "#### The first element is a list"
      ]
    },
    {
      "cell_type": "markdown",
      "source": [
        "Effectively the first \"row\" in the RDD"
      ],
      "metadata": {
        "id": "ZrsQs3QR3S14"
      }
    },
    {
      "cell_type": "code",
      "execution_count": 27,
      "metadata": {
        "id": "w2EeBQBFrwzT",
        "outputId": "52a70229-c510-444b-acf7-47b75af8c5ff",
        "colab": {
          "base_uri": "https://localhost:8080/"
        }
      },
      "outputs": [
        {
          "output_type": "execute_result",
          "data": {
            "text/plain": [
              "[1, 'Nissan Versa', 12]"
            ]
          },
          "metadata": {},
          "execution_count": 27
        }
      ],
      "source": [
        "records.first()"
      ]
    },
    {
      "cell_type": "code",
      "execution_count": 28,
      "metadata": {
        "id": "RTfqD5BjrwzU",
        "outputId": "98342987-4e1f-4e4c-e40b-323c0910f733",
        "colab": {
          "base_uri": "https://localhost:8080/"
        }
      },
      "outputs": [
        {
          "output_type": "execute_result",
          "data": {
            "text/plain": [
              "[[1, 'Nissan Versa', 12], [2, 'Ford Fiesta', 9]]"
            ]
          },
          "metadata": {},
          "execution_count": 28
        }
      ],
      "source": [
        "records.take(2)"
      ]
    },
    {
      "cell_type": "markdown",
      "metadata": {
        "id": "O4PHiZGfrwzU"
      },
      "source": [
        "#### This RDD can be converted to a DataFrame"
      ]
    },
    {
      "cell_type": "markdown",
      "source": [
        "This RDD does have \"columns\", it can be represented as a tabular data frame"
      ],
      "metadata": {
        "id": "gX4Y41G-5pNw"
      }
    },
    {
      "cell_type": "code",
      "execution_count": 35,
      "metadata": {
        "collapsed": true,
        "id": "XejUcZjGrwzU"
      },
      "outputs": [],
      "source": [
        "df = records.toDF()"
      ]
    },
    {
      "cell_type": "markdown",
      "metadata": {
        "id": "_VY-y6H8rwzU"
      },
      "source": [
        "#### The DataFrame has automatically detected the types of the data\n"
      ]
    },
    {
      "cell_type": "code",
      "execution_count": 32,
      "metadata": {
        "id": "1rB20zNrrwzU",
        "outputId": "b5a2a258-a3cb-4769-f058-23492db9940b",
        "colab": {
          "base_uri": "https://localhost:8080/"
        }
      },
      "outputs": [
        {
          "output_type": "execute_result",
          "data": {
            "text/plain": [
              "DataFrame[_1: bigint, _2: string, _3: bigint]"
            ]
          },
          "metadata": {},
          "execution_count": 32
        }
      ],
      "source": [
        "df"
      ]
    },
    {
      "cell_type": "code",
      "execution_count": 33,
      "metadata": {
        "id": "Xj9BJkRFrwzV",
        "outputId": "40d54fb4-ef58-4f81-8789-f28de85697f6",
        "colab": {
          "base_uri": "https://localhost:8080/"
        }
      },
      "outputs": [
        {
          "output_type": "execute_result",
          "data": {
            "text/plain": [
              "pyspark.sql.dataframe.DataFrame"
            ]
          },
          "metadata": {},
          "execution_count": 33
        }
      ],
      "source": [
        "type(df)"
      ]
    },
    {
      "cell_type": "markdown",
      "metadata": {
        "id": "gtIjyzcirwzV"
      },
      "source": [
        "#### The show() function for a DataFrame"
      ]
    },
    {
      "cell_type": "markdown",
      "source": [
        "By default it returns the first 20 rows of the DataFrame. We can pass in the number of rows to return as an argument"
      ],
      "metadata": {
        "id": "BQ7oDRhW5zgG"
      }
    },
    {
      "cell_type": "code",
      "execution_count": 34,
      "metadata": {
        "id": "Z8tn_n0IrwzV",
        "outputId": "720f8b32-962c-458c-e849-206104e9f599",
        "colab": {
          "base_uri": "https://localhost:8080/"
        }
      },
      "outputs": [
        {
          "output_type": "stream",
          "name": "stdout",
          "text": [
            "+---+------------+---+\n",
            "| _1|          _2| _3|\n",
            "+---+------------+---+\n",
            "|  1|Nissan Versa| 12|\n",
            "|  2| Ford Fiesta|  9|\n",
            "+---+------------+---+\n",
            "\n"
          ]
        }
      ],
      "source": [
        "df.show()"
      ]
    },
    {
      "cell_type": "markdown",
      "metadata": {
        "id": "hipRBXg5rwzW"
      },
      "source": [
        "#### Creating dataframes using sc.parallelize() and Row() functions"
      ]
    },
    {
      "cell_type": "markdown",
      "source": [
        "Row functions allow specifying column names for dataframes"
      ],
      "metadata": {
        "id": "OBnO0G0S56F4"
      }
    },
    {
      "cell_type": "code",
      "execution_count": 42,
      "metadata": {
        "id": "YeuZIXNBrwzW",
        "outputId": "4bf3f45b-74c7-4764-8c7a-f43556e6de86",
        "colab": {
          "base_uri": "https://localhost:8080/"
        }
      },
      "outputs": [
        {
          "output_type": "execute_result",
          "data": {
            "text/plain": [
              "ParallelCollectionRDD[75] at readRDDFromFile at PythonRDD.scala:274"
            ]
          },
          "metadata": {},
          "execution_count": 42
        }
      ],
      "source": [
        "data = sc.parallelize([Row(index = 1,\n",
        "                           vehicle_name = \"Nissan Versa\",\n",
        "                           vehicle_stock = 12)]\n",
        ")\n",
        "data"
      ]
    },
    {
      "cell_type": "markdown",
      "metadata": {
        "id": "JB4s2-9KrwzW"
      },
      "source": [
        "#### This RDD contains a single Row element"
      ]
    },
    {
      "cell_type": "code",
      "execution_count": 37,
      "metadata": {
        "id": "M6_kZMjHrwzW",
        "outputId": "aba8709d-691e-4210-cfe7-bfa0bc69d499",
        "colab": {
          "base_uri": "https://localhost:8080/"
        }
      },
      "outputs": [
        {
          "output_type": "execute_result",
          "data": {
            "text/plain": [
              "1"
            ]
          },
          "metadata": {},
          "execution_count": 37
        }
      ],
      "source": [
        "data.count()"
      ]
    },
    {
      "cell_type": "code",
      "execution_count": 39,
      "metadata": {
        "id": "4bz8dhEprwzX",
        "outputId": "91b7aa24-2e60-40a3-e1d7-b2de5a067c0c",
        "colab": {
          "base_uri": "https://localhost:8080/"
        }
      },
      "outputs": [
        {
          "output_type": "execute_result",
          "data": {
            "text/plain": [
              "[Row(index=1, vehicle_name='Nissan Versa', vehicle_stock=12)]"
            ]
          },
          "metadata": {},
          "execution_count": 39
        }
      ],
      "source": [
        "data.collect()"
      ]
    },
    {
      "cell_type": "code",
      "execution_count": 40,
      "metadata": {
        "id": "QBU36xoTrwzX",
        "outputId": "2411282c-2f9d-4398-ba8a-51c30e9b0122",
        "colab": {
          "base_uri": "https://localhost:8080/"
        }
      },
      "outputs": [
        {
          "output_type": "stream",
          "name": "stdout",
          "text": [
            "+-----+------------+-------------+\n",
            "|index|vehicle_name|vehicle_stock|\n",
            "+-----+------------+-------------+\n",
            "|    1|Nissan Versa|           12|\n",
            "+-----+------------+-------------+\n",
            "\n"
          ]
        }
      ],
      "source": [
        "df = data.toDF()\n",
        "df.show()"
      ]
    },
    {
      "cell_type": "markdown",
      "metadata": {
        "id": "SX2yzGdUrwzX"
      },
      "source": [
        "#### Working with multiple rows"
      ]
    },
    {
      "cell_type": "code",
      "execution_count": 43,
      "metadata": {
        "id": "jqHiqZkCrwzX",
        "outputId": "78e1bf8c-632d-4081-ea02-ba8f45be120e",
        "colab": {
          "base_uri": "https://localhost:8080/"
        }
      },
      "outputs": [
        {
          "output_type": "execute_result",
          "data": {
            "text/plain": [
              "ParallelCollectionRDD[76] at readRDDFromFile at PythonRDD.scala:274"
            ]
          },
          "metadata": {},
          "execution_count": 43
        }
      ],
      "source": [
        "data = sc.parallelize([Row(index = 1,\n",
        "                       vehicle_name = \"Nissan Versa\",\n",
        "                       vehicle_stock = 12\n",
        "                       ),\n",
        "                       Row(index = 2,\n",
        "                       vehicle_name = \"Ford Fiesta\",\n",
        "                       vehicle_stock = 9\n",
        "                       ),\n",
        "                       Row(index = 3,\n",
        "                       vehicle_name = \"Hyundai Accent\",\n",
        "                       vehicle_stock = 8)]\n",
        ")\n",
        "data"
      ]
    },
    {
      "cell_type": "code",
      "execution_count": 44,
      "metadata": {
        "id": "iUxC0RtirwzY",
        "outputId": "fe66e38a-e1ec-4865-fb5f-0a2940d04c25",
        "colab": {
          "base_uri": "https://localhost:8080/"
        }
      },
      "outputs": [
        {
          "output_type": "stream",
          "name": "stdout",
          "text": [
            "+-----+--------------+-------------+\n",
            "|index|  vehicle_name|vehicle_stock|\n",
            "+-----+--------------+-------------+\n",
            "|    1|  Nissan Versa|           12|\n",
            "|    2|   Ford Fiesta|            9|\n",
            "|    3|Hyundai Accent|            8|\n",
            "+-----+--------------+-------------+\n",
            "\n"
          ]
        }
      ],
      "source": [
        "df = data.toDF()\n",
        "df.show()"
      ]
    },
    {
      "cell_type": "markdown",
      "metadata": {
        "id": "COFo7x_HrwzZ"
      },
      "source": [
        "#### Multiple columns with complex data types"
      ]
    },
    {
      "cell_type": "markdown",
      "source": [
        "Here, we highlight many of the different data types which we can store in an RDD. We start with a string, float and integer"
      ],
      "metadata": {
        "id": "D7WDW_tS6HQd"
      }
    },
    {
      "cell_type": "code",
      "execution_count": 45,
      "metadata": {
        "collapsed": true,
        "id": "Ine90wTcrwzZ"
      },
      "outputs": [],
      "source": [
        "complex_data = sc.parallelize([Row(\n",
        "                               col_string = \"Alice\",\n",
        "                               col_double = 3.14,\n",
        "                               col_integer = 20)\n",
        "])"
      ]
    },
    {
      "cell_type": "code",
      "execution_count": 46,
      "metadata": {
        "id": "ML_ZVkiTrwzZ",
        "outputId": "629d401e-1642-4adb-cf9b-b82391e21aaf",
        "colab": {
          "base_uri": "https://localhost:8080/"
        }
      },
      "outputs": [
        {
          "output_type": "stream",
          "name": "stdout",
          "text": [
            "+----------+----------+-----------+\n",
            "|col_string|col_double|col_integer|\n",
            "+----------+----------+-----------+\n",
            "|     Alice|      3.14|         20|\n",
            "+----------+----------+-----------+\n",
            "\n"
          ]
        }
      ],
      "source": [
        "complex_data_df = complex_data.toDF()\n",
        "complex_data_df.show()"
      ]
    },
    {
      "cell_type": "code",
      "execution_count": 47,
      "metadata": {
        "id": "u2SGPg6Nrwza",
        "outputId": "1a7d4af6-3d9e-4199-9fa6-0deebe1a0a0d",
        "colab": {
          "base_uri": "https://localhost:8080/"
        }
      },
      "outputs": [
        {
          "output_type": "execute_result",
          "data": {
            "text/plain": [
              "DataFrame[col_string: string, col_double: double, col_integer: bigint]"
            ]
          },
          "metadata": {},
          "execution_count": 47
        }
      ],
      "source": [
        "complex_data_df"
      ]
    },
    {
      "cell_type": "code",
      "execution_count": 48,
      "metadata": {
        "collapsed": true,
        "id": "6CBGrx_arwza"
      },
      "outputs": [],
      "source": [
        "complex_data = sc.parallelize([Row(\n",
        "                               col_string = \"Alice\",\n",
        "                               col_double = 3.14,\n",
        "                               col_integer = 20,\n",
        "                               col_boolean = True,\n",
        "                               col_list = [2,4,6])\n",
        "])"
      ]
    },
    {
      "cell_type": "code",
      "execution_count": 49,
      "metadata": {
        "id": "hIB6C7knrwza",
        "outputId": "eec1cc9c-f28b-4e89-8291-3e1921a93902",
        "colab": {
          "base_uri": "https://localhost:8080/"
        }
      },
      "outputs": [
        {
          "output_type": "stream",
          "name": "stdout",
          "text": [
            "+----------+----------+-----------+-----------+---------+\n",
            "|col_string|col_double|col_integer|col_boolean| col_list|\n",
            "+----------+----------+-----------+-----------+---------+\n",
            "|     Alice|      3.14|         20|       true|[2, 4, 6]|\n",
            "+----------+----------+-----------+-----------+---------+\n",
            "\n"
          ]
        }
      ],
      "source": [
        "complex_data_df = complex_data.toDF()\n",
        "complex_data_df.show()"
      ]
    },
    {
      "cell_type": "code",
      "execution_count": 50,
      "metadata": {
        "id": "2cEt4tsqrwzb",
        "outputId": "bd4b3358-74d9-4850-938b-cdbbc22d3ff2",
        "colab": {
          "base_uri": "https://localhost:8080/"
        }
      },
      "outputs": [
        {
          "output_type": "execute_result",
          "data": {
            "text/plain": [
              "DataFrame[col_string: string, col_double: double, col_integer: bigint, col_boolean: boolean, col_list: array<bigint>]"
            ]
          },
          "metadata": {},
          "execution_count": 50
        }
      ],
      "source": [
        "complex_data_df"
      ]
    },
    {
      "cell_type": "markdown",
      "metadata": {
        "id": "IS6Ai3vnrwzc"
      },
      "source": [
        "#### Multiple rows with complex data types"
      ]
    },
    {
      "cell_type": "markdown",
      "source": [
        "Our RDDs can also contain lists, dictionaries, Row types and timestamps"
      ],
      "metadata": {
        "id": "qVOVc7Px-3kL"
      }
    },
    {
      "cell_type": "code",
      "execution_count": 53,
      "metadata": {
        "collapsed": true,
        "id": "TYn4B9vQrwzc"
      },
      "outputs": [],
      "source": [
        "complex_data = sc.parallelize([Row(\n",
        "                                col_list = [2,4,6],\n",
        "                                col_dict = {\"a1\": 0},\n",
        "                                col_row = Row(x=15, y=25, z=35),\n",
        "                                col_time = datetime(2018, 7, 1, 14, 1, 2)\n",
        "                            ),              \n",
        "                            Row(\n",
        "                                col_list = [2,4,6,8,10], \n",
        "                                col_dict = {\"a1\": 0,\"a2\": 1 }, \n",
        "                                col_row = Row(x=45, y=55, z=65),\n",
        "                                col_time = datetime(2018, 7, 2, 14, 1, 3)\n",
        "                            ),\n",
        "                            Row(\n",
        "                                col_list = [2,4,6,8,10,12,14], \n",
        "                                col_dict = {\"a1\": 0, \"a2\": 1, \"a3\": 2 }, \n",
        "                                col_row = Row(x=75, y=85, z=95),\n",
        "                                col_time = datetime(2018, 7, 3, 14, 1, 4)\n",
        "                            )\n",
        "]) "
      ]
    },
    {
      "cell_type": "code",
      "execution_count": 54,
      "metadata": {
        "id": "pWJBuSIhrwzd",
        "outputId": "a65723dc-c08c-4ba2-c62f-f2739b9eb86c",
        "colab": {
          "base_uri": "https://localhost:8080/"
        }
      },
      "outputs": [
        {
          "output_type": "stream",
          "name": "stdout",
          "text": [
            "+--------------------+--------------------+------------+-------------------+\n",
            "|            col_list|            col_dict|     col_row|           col_time|\n",
            "+--------------------+--------------------+------------+-------------------+\n",
            "|           [2, 4, 6]|           {a1 -> 0}|{15, 25, 35}|2018-07-01 14:01:02|\n",
            "|    [2, 4, 6, 8, 10]|  {a1 -> 0, a2 -> 1}|{45, 55, 65}|2018-07-02 14:01:03|\n",
            "|[2, 4, 6, 8, 10, ...|{a1 -> 0, a2 -> 1...|{75, 85, 95}|2018-07-03 14:01:04|\n",
            "+--------------------+--------------------+------------+-------------------+\n",
            "\n"
          ]
        }
      ],
      "source": [
        "complex_data_df = complex_data.toDF()\n",
        "complex_data_df.show()"
      ]
    },
    {
      "cell_type": "code",
      "execution_count": 55,
      "metadata": {
        "id": "osdCXzMurwzd",
        "outputId": "e25a435a-2492-4886-f3ab-e2a3d62ca35c",
        "colab": {
          "base_uri": "https://localhost:8080/"
        }
      },
      "outputs": [
        {
          "output_type": "execute_result",
          "data": {
            "text/plain": [
              "DataFrame[col_list: array<bigint>, col_dict: map<string,bigint>, col_row: struct<x:bigint,y:bigint,z:bigint>, col_time: timestamp]"
            ]
          },
          "metadata": {},
          "execution_count": 55
        }
      ],
      "source": [
        "complex_data_df"
      ]
    },
    {
      "cell_type": "markdown",
      "source": [
        "## **SQLContext**"
      ],
      "metadata": {
        "id": "t5KIlRRh_Cm2"
      }
    },
    {
      "cell_type": "markdown",
      "metadata": {
        "id": "H2qQ-puarwze"
      },
      "source": [
        "#### Creating DataFrames using SQLContext"
      ]
    },
    {
      "cell_type": "markdown",
      "source": [
        "SQLContext can create dataframes directly from raw data"
      ],
      "metadata": {
        "id": "3iR2GSXH-_9J"
      }
    },
    {
      "cell_type": "code",
      "execution_count": 56,
      "metadata": {
        "collapsed": true,
        "id": "oE8VK6y_rwze",
        "outputId": "39ae5a36-5a36-463e-fcbd-4262c8885f6a",
        "colab": {
          "base_uri": "https://localhost:8080/"
        }
      },
      "outputs": [
        {
          "output_type": "stream",
          "name": "stderr",
          "text": [
            "/usr/local/lib/python3.7/dist-packages/pyspark/sql/context.py:114: FutureWarning: Deprecated in 3.0.0. Use SparkSession.builder.getOrCreate() instead.\n",
            "  FutureWarning,\n"
          ]
        }
      ],
      "source": [
        "sqlContext = SQLContext(sc)"
      ]
    },
    {
      "cell_type": "code",
      "execution_count": 57,
      "metadata": {
        "id": "kf9G5J-Srwzf",
        "outputId": "fc0dc358-0c69-48bd-9630-0039bb162781",
        "colab": {
          "base_uri": "https://localhost:8080/"
        }
      },
      "outputs": [
        {
          "output_type": "execute_result",
          "data": {
            "text/plain": [
              "<pyspark.sql.context.SQLContext at 0x7f25212bcc50>"
            ]
          },
          "metadata": {},
          "execution_count": 57
        }
      ],
      "source": [
        "sqlContext"
      ]
    },
    {
      "cell_type": "markdown",
      "metadata": {
        "id": "iBaC3g0yrwzf"
      },
      "source": [
        "#### The SQLContext range() function returns a DataFrame"
      ]
    },
    {
      "cell_type": "markdown",
      "source": [
        "This creates a column of 4 integers from 0-3. The name of this column is set to \"id\""
      ],
      "metadata": {
        "id": "qfVeJ9JNALDX"
      }
    },
    {
      "cell_type": "code",
      "execution_count": 61,
      "metadata": {
        "id": "_31Dqv0Arwzf",
        "outputId": "e380dc9d-ab27-4393-ca01-a897ebdcb13f",
        "colab": {
          "base_uri": "https://localhost:8080/"
        }
      },
      "outputs": [
        {
          "output_type": "execute_result",
          "data": {
            "text/plain": [
              "DataFrame[id: bigint]"
            ]
          },
          "metadata": {},
          "execution_count": 61
        }
      ],
      "source": [
        "df = sqlContext.range(4)\n",
        "df"
      ]
    },
    {
      "cell_type": "code",
      "execution_count": 62,
      "metadata": {
        "id": "iO3UNTbQrwzg",
        "outputId": "080b943a-b787-4c96-c56b-1d915a101432",
        "colab": {
          "base_uri": "https://localhost:8080/"
        }
      },
      "outputs": [
        {
          "output_type": "stream",
          "name": "stdout",
          "text": [
            "+---+\n",
            "| id|\n",
            "+---+\n",
            "|  0|\n",
            "|  1|\n",
            "|  2|\n",
            "|  3|\n",
            "+---+\n",
            "\n"
          ]
        }
      ],
      "source": [
        "df.show()"
      ]
    },
    {
      "cell_type": "code",
      "execution_count": 63,
      "metadata": {
        "id": "okcXp4Cxrwzg",
        "outputId": "b1069065-eab2-466f-d529-2556ac05e3a0",
        "colab": {
          "base_uri": "https://localhost:8080/"
        }
      },
      "outputs": [
        {
          "output_type": "execute_result",
          "data": {
            "text/plain": [
              "4"
            ]
          },
          "metadata": {},
          "execution_count": 63
        }
      ],
      "source": [
        "df.count()"
      ]
    },
    {
      "cell_type": "markdown",
      "metadata": {
        "id": "P-o8jtP-rwzh"
      },
      "source": [
        "#### Rows specified in tuples"
      ]
    },
    {
      "cell_type": "markdown",
      "source": [
        "SQLContext DataFrames are specified in the form a list of tuples"
      ],
      "metadata": {
        "id": "K1elGu9vAOwH"
      }
    },
    {
      "cell_type": "code",
      "execution_count": 64,
      "metadata": {
        "collapsed": true,
        "id": "YTKw0GpQrwzi"
      },
      "outputs": [],
      "source": [
        "data = [('Nissan Versa', 12),\n",
        "        ('Ford Fiesta', 9),\n",
        "        ('Hyundai Accent', 8)]"
      ]
    },
    {
      "cell_type": "markdown",
      "metadata": {
        "id": "YThrANOZrwzi"
      },
      "source": [
        "#### The DataFrame is created without column headers"
      ]
    },
    {
      "cell_type": "code",
      "execution_count": 65,
      "metadata": {
        "id": "XC5TCZPrrwzj",
        "outputId": "e81172bb-2b2f-47c8-ff0d-2f09a98b6b25",
        "colab": {
          "base_uri": "https://localhost:8080/"
        }
      },
      "outputs": [
        {
          "output_type": "stream",
          "name": "stdout",
          "text": [
            "+--------------+---+\n",
            "|            _1| _2|\n",
            "+--------------+---+\n",
            "|  Nissan Versa| 12|\n",
            "|   Ford Fiesta|  9|\n",
            "|Hyundai Accent|  8|\n",
            "+--------------+---+\n",
            "\n"
          ]
        }
      ],
      "source": [
        "sqlContext.createDataFrame(data).show()"
      ]
    },
    {
      "cell_type": "markdown",
      "metadata": {
        "id": "QKOpcNIXrwzj"
      },
      "source": [
        "#### Set the column names when creating the DataFrame"
      ]
    },
    {
      "cell_type": "code",
      "execution_count": 66,
      "metadata": {
        "id": "Sb2XVmr5rwzj",
        "outputId": "9d1bd2ef-0f34-4c38-d700-cecb04e0f872",
        "colab": {
          "base_uri": "https://localhost:8080/"
        }
      },
      "outputs": [
        {
          "output_type": "stream",
          "name": "stdout",
          "text": [
            "+--------------+-------------+\n",
            "|  vehicle_name|vehicle_stock|\n",
            "+--------------+-------------+\n",
            "|  Nissan Versa|           12|\n",
            "|   Ford Fiesta|            9|\n",
            "|Hyundai Accent|            8|\n",
            "+--------------+-------------+\n",
            "\n"
          ]
        }
      ],
      "source": [
        "sqlContext.createDataFrame(data, ['vehicle_name', 'vehicle_stock']).show()"
      ]
    },
    {
      "cell_type": "markdown",
      "metadata": {
        "id": "iviTa1smrwzk"
      },
      "source": [
        "#### Adding more data to the DataFrame"
      ]
    },
    {
      "cell_type": "code",
      "execution_count": 68,
      "metadata": {
        "collapsed": true,
        "id": "DfhuCGplrwzk"
      },
      "outputs": [],
      "source": [
        "complex_data = [\n",
        "  (1.0, 12, \"Nissan Versa\", True, [2,4,6], {\"a1\": 0}, Row(x=1, y=2, z=3), datetime(2018, 7, 1, 14, 1, 2)),\n",
        "  (2.0, 13, \"Ford Fiesta\", True, [2,4,6,8,10], {\"a1\": 0,\"a2\": 1 }, Row(x=1, y=2, z=3), datetime(2018, 7, 2, 14, 1, 3)),\n",
        "  (3.0, 15, \"Hyundai Accent\", True, [2,4,6,8,10,12,14], {\"a1\": 0, \"a2\": 1, \"a3\": 2 }, Row(x=1, y=2, z=3), datetime(2018, 7, 3, 14, 1, 4))\n",
        "] "
      ]
    },
    {
      "cell_type": "code",
      "execution_count": 69,
      "metadata": {
        "id": "WiS1qkGRrwzl",
        "outputId": "09fd32f4-1e91-4a1d-cbe4-4e08d57e4406",
        "colab": {
          "base_uri": "https://localhost:8080/"
        }
      },
      "outputs": [
        {
          "output_type": "stream",
          "name": "stdout",
          "text": [
            "+---+---+--------------+----+--------------------+--------------------+---------+-------------------+\n",
            "| _1| _2|            _3|  _4|                  _5|                  _6|       _7|                 _8|\n",
            "+---+---+--------------+----+--------------------+--------------------+---------+-------------------+\n",
            "|1.0| 12|  Nissan Versa|true|           [2, 4, 6]|           {a1 -> 0}|{1, 2, 3}|2018-07-01 14:01:02|\n",
            "|2.0| 13|   Ford Fiesta|true|    [2, 4, 6, 8, 10]|  {a1 -> 0, a2 -> 1}|{1, 2, 3}|2018-07-02 14:01:03|\n",
            "|3.0| 15|Hyundai Accent|true|[2, 4, 6, 8, 10, ...|{a1 -> 0, a2 -> 1...|{1, 2, 3}|2018-07-03 14:01:04|\n",
            "+---+---+--------------+----+--------------------+--------------------+---------+-------------------+\n",
            "\n"
          ]
        }
      ],
      "source": [
        "sqlContext.createDataFrame(complex_data).show()"
      ]
    },
    {
      "cell_type": "code",
      "execution_count": 70,
      "metadata": {
        "id": "PmN3y7GCrwzl",
        "outputId": "3d205d18-7ff8-4b49-d996-46a255120bab",
        "colab": {
          "base_uri": "https://localhost:8080/"
        }
      },
      "outputs": [
        {
          "output_type": "stream",
          "name": "stdout",
          "text": [
            "+-------+----------+--------------+--------+--------------------+--------------------+---------+-------------------+\n",
            "|col_int|col_double|    col_string|col_bool|           col_array|      col_dictionary|  col_row|      col_date_time|\n",
            "+-------+----------+--------------+--------+--------------------+--------------------+---------+-------------------+\n",
            "|    1.0|        12|  Nissan Versa|    true|           [2, 4, 6]|           {a1 -> 0}|{1, 2, 3}|2018-07-01 14:01:02|\n",
            "|    2.0|        13|   Ford Fiesta|    true|    [2, 4, 6, 8, 10]|  {a1 -> 0, a2 -> 1}|{1, 2, 3}|2018-07-02 14:01:03|\n",
            "|    3.0|        15|Hyundai Accent|    true|[2, 4, 6, 8, 10, ...|{a1 -> 0, a2 -> 1...|{1, 2, 3}|2018-07-03 14:01:04|\n",
            "+-------+----------+--------------+--------+--------------------+--------------------+---------+-------------------+\n",
            "\n"
          ]
        }
      ],
      "source": [
        "complex_data_df = sqlContext.createDataFrame(complex_data, \n",
        "  ['col_int', 'col_double', 'col_string', 'col_bool', 'col_array', 'col_dictionary', 'col_row', 'col_date_time']\n",
        ")\n",
        "complex_data_df.show()"
      ]
    },
    {
      "cell_type": "markdown",
      "metadata": {
        "id": "0RCMefmerwzm"
      },
      "source": [
        "#### Creating dataframes using SQL Context and the Row function"
      ]
    },
    {
      "cell_type": "markdown",
      "source": [
        "Row functions can be used without specifying column names"
      ],
      "metadata": {
        "id": "mBgPmL0ACF6H"
      }
    },
    {
      "cell_type": "code",
      "execution_count": 71,
      "metadata": {
        "collapsed": true,
        "id": "FERBn1A4rwzm"
      },
      "outputs": [],
      "source": [
        "data = sc.parallelize([Row(1, \"Nissan Versa\", 12), Row(2, \"Ford Fiesta\", 9), Row(3, \"Hyundai Accent\", 8)])"
      ]
    },
    {
      "cell_type": "code",
      "execution_count": 72,
      "metadata": {
        "id": "Xr_OBBRPrwzn",
        "outputId": "aa3b1569-c1ba-4e67-f93e-3e95088fc4e8",
        "colab": {
          "base_uri": "https://localhost:8080/"
        }
      },
      "outputs": [
        {
          "output_type": "stream",
          "name": "stdout",
          "text": [
            "+---+--------------+---+\n",
            "| _1|            _2| _3|\n",
            "+---+--------------+---+\n",
            "|  1|  Nissan Versa| 12|\n",
            "|  2|   Ford Fiesta|  9|\n",
            "|  3|Hyundai Accent|  8|\n",
            "+---+--------------+---+\n",
            "\n"
          ]
        }
      ],
      "source": [
        "data.toDF().show()"
      ]
    },
    {
      "cell_type": "markdown",
      "metadata": {
        "id": "PilU0tpprwzo"
      },
      "source": [
        "#### Create a new Row with the column names"
      ]
    },
    {
      "cell_type": "code",
      "execution_count": 73,
      "metadata": {
        "collapsed": true,
        "id": "R03j9ntGrwzp"
      },
      "outputs": [],
      "source": [
        "column_names = Row('index', 'vehicle_name', 'vehicle_stock')"
      ]
    },
    {
      "cell_type": "markdown",
      "source": [
        "## **Data Extraction**"
      ],
      "metadata": {
        "id": "ctY1XD7ADyNz"
      }
    },
    {
      "cell_type": "markdown",
      "metadata": {
        "id": "q11vX7P1rwzp"
      },
      "source": [
        "#### The RDD's map() function"
      ]
    },
    {
      "cell_type": "markdown",
      "source": [
        "Return a new RDD by applying a function to each element of this RDD. Here, we call column_names for every row of the RDD with the row elements passed as positional arguments. "
      ],
      "metadata": {
        "id": "RCfL3Mx9Cudq"
      }
    },
    {
      "cell_type": "code",
      "execution_count": 74,
      "metadata": {
        "id": "WOY4F0RCrwzr",
        "outputId": "6045a3d3-16c9-4313-dea1-740c5aee943c",
        "colab": {
          "base_uri": "https://localhost:8080/"
        }
      },
      "outputs": [
        {
          "output_type": "execute_result",
          "data": {
            "text/plain": [
              "PythonRDD[176] at RDD at PythonRDD.scala:53"
            ]
          },
          "metadata": {},
          "execution_count": 74
        }
      ],
      "source": [
        "cars = data.map(lambda r: column_names(*r))\n",
        "cars"
      ]
    },
    {
      "cell_type": "markdown",
      "metadata": {
        "id": "mTHFOCqvrwzr"
      },
      "source": [
        "#### This has the effect of setting column headers"
      ]
    },
    {
      "cell_type": "code",
      "execution_count": 75,
      "metadata": {
        "id": "g--wdDrjrwzr",
        "outputId": "6be9bbf6-7eed-4ed8-e683-b0bd3ab56798",
        "colab": {
          "base_uri": "https://localhost:8080/"
        }
      },
      "outputs": [
        {
          "output_type": "execute_result",
          "data": {
            "text/plain": [
              "[Row(index=1, vehicle_name='Nissan Versa', vehicle_stock=12),\n",
              " Row(index=2, vehicle_name='Ford Fiesta', vehicle_stock=9),\n",
              " Row(index=3, vehicle_name='Hyundai Accent', vehicle_stock=8)]"
            ]
          },
          "metadata": {},
          "execution_count": 75
        }
      ],
      "source": [
        "cars.collect()"
      ]
    },
    {
      "cell_type": "code",
      "execution_count": 76,
      "metadata": {
        "id": "yrmZ32jsrwzs",
        "outputId": "6edd2bf2-fd19-4375-b978-eabd097b1e38",
        "colab": {
          "base_uri": "https://localhost:8080/"
        }
      },
      "outputs": [
        {
          "output_type": "execute_result",
          "data": {
            "text/plain": [
              "DataFrame[index: bigint, vehicle_name: string, vehicle_stock: bigint]"
            ]
          },
          "metadata": {},
          "execution_count": 76
        }
      ],
      "source": [
        "cars_df = sqlContext.createDataFrame(cars)\n",
        "cars_df"
      ]
    },
    {
      "cell_type": "code",
      "execution_count": 77,
      "metadata": {
        "id": "oXxVFQP0rwzs",
        "outputId": "95e4f7ff-2d42-4bf8-c9f0-5e63e978d42d",
        "colab": {
          "base_uri": "https://localhost:8080/"
        }
      },
      "outputs": [
        {
          "output_type": "stream",
          "name": "stdout",
          "text": [
            "+-----+--------------+-------------+\n",
            "|index|  vehicle_name|vehicle_stock|\n",
            "+-----+--------------+-------------+\n",
            "|    1|  Nissan Versa|           12|\n",
            "|    2|   Ford Fiesta|            9|\n",
            "|    3|Hyundai Accent|            8|\n",
            "+-----+--------------+-------------+\n",
            "\n"
          ]
        }
      ],
      "source": [
        "cars_df.show()"
      ]
    },
    {
      "cell_type": "markdown",
      "metadata": {
        "id": "yxV95zWArwzt"
      },
      "source": [
        "#### Extracting specific rows from dataframes"
      ]
    },
    {
      "cell_type": "code",
      "execution_count": 78,
      "metadata": {
        "id": "nPLTxgaErwzt",
        "outputId": "9af01a81-2bfc-4132-eb98-e573c389689f",
        "colab": {
          "base_uri": "https://localhost:8080/"
        }
      },
      "outputs": [
        {
          "output_type": "execute_result",
          "data": {
            "text/plain": [
              "Row(col_int=1.0, col_double=12, col_string='Nissan Versa', col_bool=True, col_array=[2, 4, 6], col_dictionary={'a1': 0}, col_row=Row(x=1, y=2, z=3), col_date_time=datetime.datetime(2018, 7, 1, 14, 1, 2))"
            ]
          },
          "metadata": {},
          "execution_count": 78
        }
      ],
      "source": [
        "complex_data_df.first()"
      ]
    },
    {
      "cell_type": "code",
      "execution_count": 79,
      "metadata": {
        "id": "wYZa3jZzrwzu",
        "outputId": "ccc5ecb9-28f4-4d5f-98f3-d3245c98ec5d",
        "colab": {
          "base_uri": "https://localhost:8080/"
        }
      },
      "outputs": [
        {
          "output_type": "execute_result",
          "data": {
            "text/plain": [
              "[Row(col_int=1.0, col_double=12, col_string='Nissan Versa', col_bool=True, col_array=[2, 4, 6], col_dictionary={'a1': 0}, col_row=Row(x=1, y=2, z=3), col_date_time=datetime.datetime(2018, 7, 1, 14, 1, 2)),\n",
              " Row(col_int=2.0, col_double=13, col_string='Ford Fiesta', col_bool=True, col_array=[2, 4, 6, 8, 10], col_dictionary={'a1': 0, 'a2': 1}, col_row=Row(x=1, y=2, z=3), col_date_time=datetime.datetime(2018, 7, 2, 14, 1, 3))]"
            ]
          },
          "metadata": {},
          "execution_count": 79
        }
      ],
      "source": [
        "complex_data_df.take(2)"
      ]
    },
    {
      "cell_type": "markdown",
      "metadata": {
        "id": "zO76uzmrrwzu"
      },
      "source": [
        "#### Extracting specific cells from dataframes"
      ]
    },
    {
      "cell_type": "code",
      "execution_count": 82,
      "metadata": {
        "id": "1DVDhoMorwzu",
        "outputId": "49ea9240-1a58-453a-be74-fa322e082465",
        "colab": {
          "base_uri": "https://localhost:8080/",
          "height": 35
        }
      },
      "outputs": [
        {
          "output_type": "execute_result",
          "data": {
            "text/plain": [
              "'Nissan Versa'"
            ],
            "application/vnd.google.colaboratory.intrinsic+json": {
              "type": "string"
            }
          },
          "metadata": {},
          "execution_count": 82
        }
      ],
      "source": [
        "complex_data_df.collect()[0][2]"
      ]
    },
    {
      "cell_type": "code",
      "execution_count": 83,
      "metadata": {
        "id": "2jZkaH4-rwzu",
        "outputId": "30d6971a-eb2e-4a07-b08b-36c92b9d76fd",
        "colab": {
          "base_uri": "https://localhost:8080/"
        }
      },
      "outputs": [
        {
          "output_type": "execute_result",
          "data": {
            "text/plain": [
              "[2, 4, 6]"
            ]
          },
          "metadata": {},
          "execution_count": 83
        }
      ],
      "source": [
        "complex_data_df.collect()[0][4]"
      ]
    },
    {
      "cell_type": "code",
      "execution_count": null,
      "metadata": {
        "id": "YUEZJVqirwzw",
        "outputId": "bc395c06-95d1-4deb-8613-dcca0134b58d"
      },
      "outputs": [
        {
          "name": "stdout",
          "output_type": "stream",
          "text": [
            "+-------+----------+--------------+--------+--------------------+--------------------+---------+-------------------+\n",
            "|col_int|col_double|    col_string|col_bool|           col_array|      col_dictionary|  col_row|      col_date_time|\n",
            "+-------+----------+--------------+--------+--------------------+--------------------+---------+-------------------+\n",
            "|    1.0|        12|  Nissan Versa|    true|           [2, 4, 6]|           [a1 -> 0]|[1, 2, 3]|2018-07-01 14:01:02|\n",
            "|    2.0|        13|   Ford Fiesta|    true|    [2, 4, 6, 8, 10]|  [a1 -> 0, a2 -> 1]|[1, 2, 3]|2018-07-02 14:01:03|\n",
            "|    3.0|        15|Hyundai Accent|    true|[2, 4, 6, 8, 10, ...|[a1 -> 0, a2 -> 1...|[1, 2, 3]|2018-07-03 14:01:04|\n",
            "+-------+----------+--------------+--------+--------------------+--------------------+---------+-------------------+\n",
            "\n"
          ]
        }
      ],
      "source": [
        "complex_data_df.show()"
      ]
    },
    {
      "cell_type": "markdown",
      "metadata": {
        "id": "WAhsSwRnrwzw"
      },
      "source": [
        "## **Data Manipulation**"
      ]
    },
    {
      "cell_type": "markdown",
      "metadata": {
        "id": "zCnLoNz8rwzx"
      },
      "source": [
        "#### One way for selection to use the rdd.map() operation"
      ]
    },
    {
      "cell_type": "code",
      "execution_count": 84,
      "metadata": {
        "id": "hXCpECV4rwzx",
        "outputId": "01afa686-f4c3-467e-ecc6-3c1a19993fc5",
        "colab": {
          "base_uri": "https://localhost:8080/"
        }
      },
      "outputs": [
        {
          "output_type": "execute_result",
          "data": {
            "text/plain": [
              "[('Nissan Versa', {'a1': 0}),\n",
              " ('Ford Fiesta', {'a1': 0, 'a2': 1}),\n",
              " ('Hyundai Accent', {'a1': 0, 'a2': 1, 'a3': 2})]"
            ]
          },
          "metadata": {},
          "execution_count": 84
        }
      ],
      "source": [
        "complex_data_df.rdd.map(lambda x: (x.col_string, x.col_dictionary)).collect()"
      ]
    },
    {
      "cell_type": "markdown",
      "metadata": {
        "id": "0gFQLKUDrwzx"
      },
      "source": [
        "#### The DataFrame select() function helps retrieve data"
      ]
    },
    {
      "cell_type": "code",
      "execution_count": 85,
      "metadata": {
        "id": "-xw_dL1Wrwzx",
        "outputId": "fee59855-7041-41ef-9716-a7bbb2cd2d5d",
        "colab": {
          "base_uri": "https://localhost:8080/"
        }
      },
      "outputs": [
        {
          "output_type": "stream",
          "name": "stdout",
          "text": [
            "+--------------+--------------------+-------------------+\n",
            "|    col_string|           col_array|      col_date_time|\n",
            "+--------------+--------------------+-------------------+\n",
            "|  Nissan Versa|           [2, 4, 6]|2018-07-01 14:01:02|\n",
            "|   Ford Fiesta|    [2, 4, 6, 8, 10]|2018-07-02 14:01:03|\n",
            "|Hyundai Accent|[2, 4, 6, 8, 10, ...|2018-07-03 14:01:04|\n",
            "+--------------+--------------------+-------------------+\n",
            "\n"
          ]
        }
      ],
      "source": [
        "complex_data_df.select(\n",
        "                        'col_string',\n",
        "                        'col_array',\n",
        "                        'col_date_time'\n",
        "                      ).show()"
      ]
    },
    {
      "cell_type": "markdown",
      "metadata": {
        "id": "GS8P-YV4rwzy"
      },
      "source": [
        "#### Editing column data\n",
        "The rdd.map() function can be used to perform an operation on every element in a column"
      ]
    },
    {
      "cell_type": "code",
      "execution_count": null,
      "metadata": {
        "id": "fr2ajfwerwzy",
        "outputId": "e2a6c313-96a3-4982-ab8c-ab5e7f4f1155"
      },
      "outputs": [
        {
          "data": {
            "text/plain": [
              "['2018 Nissan Versa', '2018 Ford Fiesta', '2018 Hyundai Accent']"
            ]
          },
          "execution_count": 66,
          "metadata": {},
          "output_type": "execute_result"
        }
      ],
      "source": [
        "complex_data_df.rdd\\\n",
        "               .map(lambda x: (\"2018 \" + x.col_string))\\\n",
        "               .collect()"
      ]
    },
    {
      "cell_type": "markdown",
      "metadata": {
        "id": "C1Vbo9Qsrwzy"
      },
      "source": [
        "#### Adding a column\n",
        "Add a new column which sums up the contents of the int and double columns. We do this using the withColumn() function"
      ]
    },
    {
      "cell_type": "code",
      "execution_count": null,
      "metadata": {
        "id": "ij3eP0prrwzz",
        "outputId": "5d5fe530-6865-4e08-ae40-64f216df6689"
      },
      "outputs": [
        {
          "name": "stdout",
          "output_type": "stream",
          "text": [
            "+-------+----------+-------+\n",
            "|col_int|col_double|col_sum|\n",
            "+-------+----------+-------+\n",
            "|    1.0|        12|   13.0|\n",
            "|    2.0|        13|   15.0|\n",
            "|    3.0|        15|   18.0|\n",
            "+-------+----------+-------+\n",
            "\n"
          ]
        }
      ],
      "source": [
        "complex_data_df.select(\n",
        "                       'col_int',\n",
        "                       'col_double'\n",
        "                      )\\\n",
        "               .withColumn(\n",
        "                       \"col_sum\",\n",
        "                        complex_data_df.col_int + complex_data_df.col_double\n",
        "                      )\\\n",
        "               .show()"
      ]
    },
    {
      "cell_type": "code",
      "execution_count": null,
      "metadata": {
        "id": "rDipqYMzrwzz",
        "outputId": "7581385d-be9e-448f-c1f2-03bed13fec20"
      },
      "outputs": [
        {
          "name": "stdout",
          "output_type": "stream",
          "text": [
            "+--------+------------+\n",
            "|col_bool|col_opposite|\n",
            "+--------+------------+\n",
            "|    true|       false|\n",
            "|    true|       false|\n",
            "|    true|       false|\n",
            "+--------+------------+\n",
            "\n"
          ]
        }
      ],
      "source": [
        "complex_data_df.select('col_bool')\\\n",
        "               .withColumn(\n",
        "                           \"col_opposite\",\n",
        "                           complex_data_df.col_bool == False )\\\n",
        "               .show()"
      ]
    },
    {
      "cell_type": "markdown",
      "metadata": {
        "id": "og0vWzSvrwzz"
      },
      "source": [
        "#### Editing a column name\n",
        "Make use of the withColumnRenamed() function"
      ]
    },
    {
      "cell_type": "code",
      "execution_count": null,
      "metadata": {
        "id": "OIIQKosBrwz0",
        "outputId": "e1124d71-f720-4950-c803-493893099f43"
      },
      "outputs": [
        {
          "name": "stdout",
          "output_type": "stream",
          "text": [
            "+-------+----------+--------------+--------+--------------------+--------------------+---------+-------------------+\n",
            "|col_int|col_double|    col_string|col_bool|           col_array|             col_map|  col_row|      col_date_time|\n",
            "+-------+----------+--------------+--------+--------------------+--------------------+---------+-------------------+\n",
            "|    1.0|        12|  Nissan Versa|    true|           [2, 4, 6]|           [a1 -> 0]|[1, 2, 3]|2018-07-01 14:01:02|\n",
            "|    2.0|        13|   Ford Fiesta|    true|    [2, 4, 6, 8, 10]|  [a1 -> 0, a2 -> 1]|[1, 2, 3]|2018-07-02 14:01:03|\n",
            "|    3.0|        15|Hyundai Accent|    true|[2, 4, 6, 8, 10, ...|[a1 -> 0, a2 -> 1...|[1, 2, 3]|2018-07-03 14:01:04|\n",
            "+-------+----------+--------------+--------+--------------------+--------------------+---------+-------------------+\n",
            "\n"
          ]
        }
      ],
      "source": [
        "complex_data_df.withColumnRenamed(\"col_dictionary\",\"col_map\").show()"
      ]
    },
    {
      "cell_type": "code",
      "execution_count": null,
      "metadata": {
        "id": "-D45wV2wrwz0",
        "outputId": "d0d1a959-c51e-49b2-8ad4-9504b735b53b"
      },
      "outputs": [
        {
          "name": "stdout",
          "output_type": "stream",
          "text": [
            "+--------------+\n",
            "|  vehicle_name|\n",
            "+--------------+\n",
            "|  Nissan Versa|\n",
            "|   Ford Fiesta|\n",
            "|Hyundai Accent|\n",
            "+--------------+\n",
            "\n"
          ]
        }
      ],
      "source": [
        "complex_data_df.select(complex_data_df.col_string.alias(\"vehicle_name\")).show()"
      ]
    },
    {
      "cell_type": "markdown",
      "source": [
        "## **Pandas**"
      ],
      "metadata": {
        "id": "0MEV_CKIDUSg"
      }
    },
    {
      "cell_type": "markdown",
      "metadata": {
        "id": "sd-251ozrwz1"
      },
      "source": [
        "### Interoperablity between Pandas dataframe and Spark dataframe"
      ]
    },
    {
      "cell_type": "code",
      "execution_count": null,
      "metadata": {
        "collapsed": true,
        "id": "OM4qgpKvrwz1"
      },
      "outputs": [],
      "source": [
        "import pandas"
      ]
    },
    {
      "cell_type": "code",
      "execution_count": null,
      "metadata": {
        "id": "PSKu1OLJrwz1",
        "outputId": "8241ce60-8570-4f04-9569-b8154384691b"
      },
      "outputs": [
        {
          "data": {
            "text/html": [
              "<div>\n",
              "<style scoped>\n",
              "    .dataframe tbody tr th:only-of-type {\n",
              "        vertical-align: middle;\n",
              "    }\n",
              "\n",
              "    .dataframe tbody tr th {\n",
              "        vertical-align: top;\n",
              "    }\n",
              "\n",
              "    .dataframe thead th {\n",
              "        text-align: right;\n",
              "    }\n",
              "</style>\n",
              "<table border=\"1\" class=\"dataframe\">\n",
              "  <thead>\n",
              "    <tr style=\"text-align: right;\">\n",
              "      <th></th>\n",
              "      <th>col_int</th>\n",
              "      <th>col_double</th>\n",
              "      <th>col_string</th>\n",
              "      <th>col_bool</th>\n",
              "      <th>col_array</th>\n",
              "      <th>col_dictionary</th>\n",
              "      <th>col_row</th>\n",
              "      <th>col_date_time</th>\n",
              "    </tr>\n",
              "  </thead>\n",
              "  <tbody>\n",
              "    <tr>\n",
              "      <th>0</th>\n",
              "      <td>1.0</td>\n",
              "      <td>12</td>\n",
              "      <td>Nissan Versa</td>\n",
              "      <td>True</td>\n",
              "      <td>[2, 4, 6]</td>\n",
              "      <td>{'a1': 0}</td>\n",
              "      <td>(1, 2, 3)</td>\n",
              "      <td>2018-07-01 14:01:02</td>\n",
              "    </tr>\n",
              "    <tr>\n",
              "      <th>1</th>\n",
              "      <td>2.0</td>\n",
              "      <td>13</td>\n",
              "      <td>Ford Fiesta</td>\n",
              "      <td>True</td>\n",
              "      <td>[2, 4, 6, 8, 10]</td>\n",
              "      <td>{'a1': 0, 'a2': 1}</td>\n",
              "      <td>(1, 2, 3)</td>\n",
              "      <td>2018-07-02 14:01:03</td>\n",
              "    </tr>\n",
              "    <tr>\n",
              "      <th>2</th>\n",
              "      <td>3.0</td>\n",
              "      <td>15</td>\n",
              "      <td>Hyundai Accent</td>\n",
              "      <td>True</td>\n",
              "      <td>[2, 4, 6, 8, 10, 12, 14]</td>\n",
              "      <td>{'a1': 0, 'a2': 1, 'a3': 2}</td>\n",
              "      <td>(1, 2, 3)</td>\n",
              "      <td>2018-07-03 14:01:04</td>\n",
              "    </tr>\n",
              "  </tbody>\n",
              "</table>\n",
              "</div>"
            ],
            "text/plain": [
              "   col_int  col_double      col_string  col_bool                 col_array  \\\n",
              "0      1.0          12    Nissan Versa      True                 [2, 4, 6]   \n",
              "1      2.0          13     Ford Fiesta      True          [2, 4, 6, 8, 10]   \n",
              "2      3.0          15  Hyundai Accent      True  [2, 4, 6, 8, 10, 12, 14]   \n",
              "\n",
              "                col_dictionary    col_row       col_date_time  \n",
              "0                    {'a1': 0}  (1, 2, 3) 2018-07-01 14:01:02  \n",
              "1           {'a1': 0, 'a2': 1}  (1, 2, 3) 2018-07-02 14:01:03  \n",
              "2  {'a1': 0, 'a2': 1, 'a3': 2}  (1, 2, 3) 2018-07-03 14:01:04  "
            ]
          },
          "execution_count": 72,
          "metadata": {},
          "output_type": "execute_result"
        }
      ],
      "source": [
        "df_pandas = complex_data_df.toPandas()\n",
        "df_pandas"
      ]
    },
    {
      "cell_type": "markdown",
      "metadata": {
        "id": "67fXxu5Urwz2"
      },
      "source": [
        "#### Create a Spark DataFrame from a Pandas DataFrame"
      ]
    },
    {
      "cell_type": "code",
      "execution_count": null,
      "metadata": {
        "id": "3NkHFY-wrwz2",
        "outputId": "5d007ccf-8192-4e04-c93b-be92c3bdbc8f"
      },
      "outputs": [
        {
          "name": "stdout",
          "output_type": "stream",
          "text": [
            "+-------+----------+--------------+--------+--------------------+--------------------+---------+-------------------+\n",
            "|col_int|col_double|    col_string|col_bool|           col_array|      col_dictionary|  col_row|      col_date_time|\n",
            "+-------+----------+--------------+--------+--------------------+--------------------+---------+-------------------+\n",
            "|    1.0|        12|  Nissan Versa|    true|           [2, 4, 6]|           [a1 -> 0]|[1, 2, 3]|2018-07-01 14:01:02|\n",
            "|    2.0|        13|   Ford Fiesta|    true|    [2, 4, 6, 8, 10]|  [a1 -> 0, a2 -> 1]|[1, 2, 3]|2018-07-02 14:01:03|\n",
            "|    3.0|        15|Hyundai Accent|    true|[2, 4, 6, 8, 10, ...|[a1 -> 0, a2 -> 1...|[1, 2, 3]|2018-07-03 14:01:04|\n",
            "+-------+----------+--------------+--------+--------------------+--------------------+---------+-------------------+\n",
            "\n"
          ]
        }
      ],
      "source": [
        "df_spark = sqlContext.createDataFrame(df_pandas).show()  \n",
        "df_spark"
      ]
    },
    {
      "cell_type": "code",
      "execution_count": null,
      "metadata": {
        "collapsed": true,
        "id": "yEpn2Lu_rwz2"
      },
      "outputs": [],
      "source": []
    },
    {
      "cell_type": "code",
      "execution_count": null,
      "metadata": {
        "collapsed": true,
        "id": "jEIPuYWVrwz3"
      },
      "outputs": [],
      "source": []
    }
  ],
  "metadata": {
    "kernelspec": {
      "display_name": "Python 3",
      "language": "python",
      "name": "python3"
    },
    "language_info": {
      "codemirror_mode": {
        "name": "ipython",
        "version": 3
      },
      "file_extension": ".py",
      "mimetype": "text/x-python",
      "name": "python",
      "nbconvert_exporter": "python",
      "pygments_lexer": "ipython3",
      "version": "3.6.3"
    },
    "colab": {
      "provenance": [],
      "include_colab_link": true
    }
  },
  "nbformat": 4,
  "nbformat_minor": 0
}